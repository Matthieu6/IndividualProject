{
  "nbformat": 4,
  "nbformat_minor": 0,
  "metadata": {
    "colab": {
      "provenance": [],
      "collapsed_sections": [
        "Yg948DryJh0F",
        "rc-5s9teJbf-",
        "HNSJmc_tM161",
        "TBrNzgz2M9mE",
        "Jjf-CXQLNA4G",
        "lx6zbOFsKsyo"
      ],
      "authorship_tag": "ABX9TyMIti03wayxo02Kw058o6Do",
      "include_colab_link": true
    },
    "kernelspec": {
      "name": "python3",
      "display_name": "Python 3"
    },
    "language_info": {
      "name": "python"
    }
  },
  "cells": [
    {
      "cell_type": "markdown",
      "metadata": {
        "id": "view-in-github",
        "colab_type": "text"
      },
      "source": [
        "<a href=\"https://colab.research.google.com/github/Matthieu6/IndividualProject/blob/main/Metrics/ImageCaptioning/Image_Captioning_Evaluation.ipynb\" target=\"_parent\"><img src=\"https://colab.research.google.com/assets/colab-badge.svg\" alt=\"Open In Colab\"/></a>"
      ]
    },
    {
      "cell_type": "markdown",
      "source": [
        "# INITIALISATION"
      ],
      "metadata": {
        "id": "Yg948DryJh0F"
      }
    },
    {
      "cell_type": "markdown",
      "source": [
        "This section installs the required extensions to run the CLIP Score metrics"
      ],
      "metadata": {
        "id": "saf9q8yOdzIL"
      }
    },
    {
      "cell_type": "code",
      "execution_count": null,
      "metadata": {
        "id": "vxCabwDBANW8"
      },
      "outputs": [],
      "source": [
        "!pip3 install evaluate"
      ]
    },
    {
      "cell_type": "code",
      "source": [
        "!pip install evaluate[template]\n",
        "import evaluate"
      ],
      "metadata": {
        "id": "PeGCWzPzC7fB"
      },
      "execution_count": null,
      "outputs": []
    },
    {
      "cell_type": "code",
      "source": [
        "accuracy = evaluate.load(\"accuracy\")"
      ],
      "metadata": {
        "id": "2zaxPiPXFP5h"
      },
      "execution_count": null,
      "outputs": []
    },
    {
      "cell_type": "code",
      "source": [
        "!pip install rouge_score"
      ],
      "metadata": {
        "id": "88-g8RfsI8Ib"
      },
      "execution_count": null,
      "outputs": []
    },
    {
      "cell_type": "markdown",
      "source": [
        "# PREDICTION BLIP LARGE\n",
        "\n"
      ],
      "metadata": {
        "id": "rc-5s9teJbf-"
      }
    },
    {
      "cell_type": "markdown",
      "source": [
        "Compares generated image captions (generated from input images using BLIP Large model) with reference captions obtained from Flickr8k Database. Outputs the caption's METEOR, BLEU and ROUGE1 scores."
      ],
      "metadata": {
        "id": "IEUMl3S8d2Ec"
      }
    },
    {
      "cell_type": "code",
      "source": [
        "predictions = [\"woman in a bikini paddling a canoe on a river\"]\n",
        "references = [[\"A girl paddling down a large river , as seen from behind her\", \"A woman kayaking down a river\" ,\"A woman paddles a boat down a river\",\"A woman with a paddle\",\"A woman with a paddle sits in a boat on the water\"]]\n",
        "\n",
        "meteor = evaluate.load('meteor')\n",
        "resultsm = meteor.compute(predictions=predictions, references=references)\n",
        "print(\"test\",  round(resultsm['meteor'], 2))\n",
        "\n",
        "rouge = evaluate.load('rouge')\n",
        "results = rouge.compute(predictions=predictions, references=references)\n",
        "print(results)\n",
        "\n",
        "bleu = evaluate.load(\"bleu\")\n",
        "results = bleu.compute(predictions=predictions, references=references)\n",
        "print(results)"
      ],
      "metadata": {
        "id": "bX53EBFLJpjU"
      },
      "execution_count": null,
      "outputs": []
    },
    {
      "cell_type": "code",
      "source": [
        "predictions = [\"skiers on a snowy slope with trees in the background\"]\n",
        "references = [[\"A lone skier is making their way up a mountain\", \"Skiiers at the top of a snow covered hill \", \"Two hikers climbing a snowy hill\",\"Two people are on a snow-covered mountain\",\"Two people climbing up a snowy mountain\"]]\n",
        "\n",
        "meteor = evaluate.load('meteor')\n",
        "resultsm = meteor.compute(predictions=predictions, references=references)\n",
        "print(\"test\",  round(resultsm['meteor'], 2))\n",
        "\n",
        "rouge = evaluate.load('rouge')\n",
        "results = rouge.compute(predictions=predictions, references=references)\n",
        "print(results)\n",
        "\n",
        "bleu = evaluate.load(\"bleu\")\n",
        "results = bleu.compute(predictions=predictions, references=references)\n",
        "print(results)"
      ],
      "metadata": {
        "id": "hd-sPgq0Kyh3"
      },
      "execution_count": null,
      "outputs": []
    },
    {
      "cell_type": "code",
      "source": [
        "predictions = [\"two men in tuxedos are kissing each other in a room\"]\n",
        "references = [[\"A man wearing a tuxedo shirt , vest , and bow-tie is kissing another man wearing the same thing on the cheek\",\"A man with a shaved head is kissing another man on the cheek\",\"Tne man in a vest and tie plants a kiss on the cheek of another happy man\",\"One man kissing another man on the check and both are in white shirts with black vests\",\"One men is laughing while being kissed on the cheek by another man , both men are wearing formal wear\"]]\n",
        "\n",
        "meteor = evaluate.load('meteor')\n",
        "resultsm = meteor.compute(predictions=predictions, references=references)\n",
        "print(\"test\",  round(resultsm['meteor'], 2))\n",
        "\n",
        "rouge = evaluate.load('rouge')\n",
        "results = rouge.compute(predictions=predictions, references=references)\n",
        "print(results)\n",
        "\n",
        "bleu = evaluate.load(\"bleu\")\n",
        "results = bleu.compute(predictions=predictions, references=references)\n",
        "print(results)"
      ],
      "metadata": {
        "id": "pOmCHvQlL3xs"
      },
      "execution_count": null,
      "outputs": []
    },
    {
      "cell_type": "code",
      "source": [
        "predictions = [\"there is a man in a canoe on a river with a bird\"]\n",
        "references = [[\"A large man sits in the back of a canoe with another man in front on a river\",\"two man are paddling a kayak along a river with green trees on either side\",\"Two men in a small boat rowing down a river\",\"Two men paddling a canoe down a narrow stream\",\"Two paddlers propel a canoe down a tree-lined stream\"]]\n",
        "\n",
        "meteor = evaluate.load('meteor')\n",
        "resultsm = meteor.compute(predictions=predictions, references=references)\n",
        "print(\"test\",  round(resultsm['meteor'], 2))\n",
        "\n",
        "rouge = evaluate.load('rouge')\n",
        "results = rouge.compute(predictions=predictions, references=references)\n",
        "print(results)\n",
        "\n",
        "bleu = evaluate.load(\"bleu\")\n",
        "results = bleu.compute(predictions=predictions, references=references)\n",
        "print(results)"
      ],
      "metadata": {
        "id": "DJ35puxdL3n6"
      },
      "execution_count": null,
      "outputs": []
    },
    {
      "cell_type": "code",
      "source": [
        "predictions = [\"people sitting on a rock overlooking a river and a mountain\"]\n",
        "references = [[\"A couple enjoys a quiet moment near the river\",\"A few people sit out on rocks overlooking the water below\",\"Two people are sitting on a rock overlooking the river\",\"Two people sit on top of a cliff overlooking a river\",\"Two people sit upon large rocks next to a river\"]]\n",
        "\n",
        "meteor = evaluate.load('meteor')\n",
        "resultsm = meteor.compute(predictions=predictions, references=references)\n",
        "print(\"test\",  round(resultsm['meteor'], 2))\n",
        "\n",
        "rouge = evaluate.load('rouge')\n",
        "results = rouge.compute(predictions=predictions, references=references)\n",
        "print(results)\n",
        "\n",
        "bleu = evaluate.load(\"bleu\")\n",
        "results = bleu.compute(predictions=predictions, references=references)\n",
        "print(results)"
      ],
      "metadata": {
        "id": "aZzTgQkHL3eI"
      },
      "execution_count": null,
      "outputs": []
    },
    {
      "cell_type": "code",
      "source": [
        "predictions = [\"there are two people sitting on a bench in the street\"]\n",
        "references = [[\"A couple sit on the hood of a car with their backs to the camera\",\"A couple sits on a car\",\"A man and a woman sit on a car and face the opposite way of the camera\",\"A man and woman sit on a car and watch the road\",\"A man and woman sitting on a parked car\"]]\n",
        "\n",
        "meteor = evaluate.load('meteor')\n",
        "resultsm = meteor.compute(predictions=predictions, references=references)\n",
        "print(\"test\",  round(resultsm['meteor'], 2))\n",
        "\n",
        "rouge = evaluate.load('rouge')\n",
        "results = rouge.compute(predictions=predictions, references=references)\n",
        "print(results)\n",
        "\n",
        "bleu = evaluate.load(\"bleu\")\n",
        "results = bleu.compute(predictions=predictions, references=references)\n",
        "print(results)"
      ],
      "metadata": {
        "id": "h-yf9QOeL3U-"
      },
      "execution_count": null,
      "outputs": []
    },
    {
      "cell_type": "code",
      "source": [
        "predictions = [\"there is a man riding a motorcycle on a road with trees in the background\"]\n",
        "references = [[\"A motorcycle racer leans his bike\",\"A motorcyclist is driving down a road on their motorbike\",\"A motorcyclist is riding their sponsored car along a roadway that has recently turned\",\"A motorcyclist on the street\",\"A motorcyclist with a red helmet rides his blue motorcycle down the road\"]]\n",
        "\n",
        "meteor = evaluate.load('meteor')\n",
        "resultsm = meteor.compute(predictions=predictions, references=references)\n",
        "print(\"test\",  round(resultsm['meteor'], 2))\n",
        "\n",
        "rouge = evaluate.load('rouge')\n",
        "results = rouge.compute(predictions=predictions, references=references)\n",
        "print(results)\n",
        "\n",
        "bleu = evaluate.load(\"bleu\")\n",
        "results = bleu.compute(predictions=predictions, references=references)\n",
        "print(results)"
      ],
      "metadata": {
        "id": "hAE4RbnuL3Hg"
      },
      "execution_count": null,
      "outputs": []
    },
    {
      "cell_type": "code",
      "source": [
        "predictions = [\"there is a bird that is flying over a rock formation\"]\n",
        "references = [[\"A mountain climber looks down from the summit\",\"A person is rock climbing between two large rock faces\",\"A rock climber climbs in between two very large rocks\",\"A rock climber leans out from a crag against a deep blue sky\",\"Two large mountains stand high in the air as a person tries to climb one\"]]\n",
        "\n",
        "meteor = evaluate.load('meteor')\n",
        "resultsm = meteor.compute(predictions=predictions, references=references)\n",
        "print(\"test\",  round(resultsm['meteor'], 2))\n",
        "\n",
        "rouge = evaluate.load('rouge')\n",
        "results = rouge.compute(predictions=predictions, references=references)\n",
        "print(results)\n",
        "\n",
        "bleu = evaluate.load(\"bleu\")\n",
        "results = bleu.compute(predictions=predictions, references=references)\n",
        "print(results)"
      ],
      "metadata": {
        "id": "pRjWuZ-JL24S"
      },
      "execution_count": null,
      "outputs": []
    },
    {
      "cell_type": "code",
      "source": [
        "predictions = [\"there is a little girl sitting under a rainbow painted on a wall\"]\n",
        "references = [[\"A little girl covered in paint sits in front of a painted rainbow with her hands in a bowl\", \"A little girl is sitting in front of a large painted rainbow\",\"A small girl in the grass plays with fingerpaints in front of a white canvas with a rainbow on it\",\"There is a girl with pigtails sitting in front of a rainbow painting\",\"Young girl with pigtails painting outside in the grass\"]]\n",
        "\n",
        "meteor = evaluate.load('meteor')\n",
        "resultsm = meteor.compute(predictions=predictions, references=references)\n",
        "print(\"test\",  round(resultsm['meteor'], 2))\n",
        "\n",
        "rouge = evaluate.load('rouge')\n",
        "results = rouge.compute(predictions=predictions, references=references)\n",
        "print(results)\n",
        "\n",
        "bleu = evaluate.load(\"bleu\")\n",
        "results = bleu.compute(predictions=predictions, references=references)\n",
        "print(results)"
      ],
      "metadata": {
        "id": "DTmQho6TL2wU"
      },
      "execution_count": null,
      "outputs": []
    },
    {
      "cell_type": "code",
      "source": [
        "predictions = [\"there is a dog running through a yard with a hose\"]\n",
        "references = [[\"A brown dog chases the water from a sprinkler on a lawn\", \"a brown dog plays with the hose\",\"A brown dog running on a lawn near a garden hose\",\"A dog is playing with a hose\", \"Large brown dog running away from the sprinkler in the grass\" ]]\n",
        "\n",
        "meteor = evaluate.load('meteor')\n",
        "resultsm = meteor.compute(predictions=predictions, references=references)\n",
        "print(\"test\",  round(resultsm['meteor'], 2))\n",
        "\n",
        "rouge = evaluate.load('rouge')\n",
        "results = rouge.compute(predictions=predictions, references=references)\n",
        "print(results)\n",
        "\n",
        "bleu = evaluate.load(\"bleu\")\n",
        "results = bleu.compute(predictions=predictions, references=references)\n",
        "print(results)"
      ],
      "metadata": {
        "id": "8NvGaeT2L2n5"
      },
      "execution_count": null,
      "outputs": []
    },
    {
      "cell_type": "code",
      "source": [
        "predictions = [\"there are three girls riding on a four wheeler in a field\"]\n",
        "references = [[\"A family playing on a tractor on a beautiful day\",\"Children ride a tractor in a field\",\"Several children playing on a Polaris vehicle outdoors\",\"The children played on the four wheeler in the field\",\"The four kids are riding on an ATV in a field\"]]\n",
        "\n",
        "meteor = evaluate.load('meteor')\n",
        "resultsm = meteor.compute(predictions=predictions, references=references)\n",
        "print(\"test\",  round(resultsm['meteor'], 2))\n",
        "\n",
        "rouge = evaluate.load('rouge')\n",
        "results = rouge.compute(predictions=predictions, references=references)\n",
        "print(results)\n",
        "\n",
        "bleu = evaluate.load(\"bleu\")\n",
        "results = bleu.compute(predictions=predictions, references=references)\n",
        "print(results)"
      ],
      "metadata": {
        "id": "R8BWKncZL2fa"
      },
      "execution_count": null,
      "outputs": []
    },
    {
      "cell_type": "code",
      "source": [
        "predictions = [\"there are two small dogs that are walking on a rock\"]\n",
        "references = [[\"Two little puppies chase each other on a stone wall\", \"Two puppies run across flat stones in garden area\",\"Two puppies walking on stones\",\"Two small puppies run along the edge of a stone wall nearby a heavily foliaged area\",\"two small tan puppies walking on a stone path\"]]\n",
        "\n",
        "meteor = evaluate.load('meteor')\n",
        "resultsm = meteor.compute(predictions=predictions, references=references)\n",
        "print(\"test\",  round(resultsm['meteor'], 2))\n",
        "\n",
        "rouge = evaluate.load('rouge')\n",
        "results = rouge.compute(predictions=predictions, references=references)\n",
        "print(results)\n",
        "\n",
        "bleu = evaluate.load(\"bleu\")\n",
        "results = bleu.compute(predictions=predictions, references=references)\n",
        "print(results)"
      ],
      "metadata": {
        "id": "hLC4FCH2L2Ww"
      },
      "execution_count": null,
      "outputs": []
    },
    {
      "cell_type": "code",
      "source": [
        "predictions = [\"woman sitting on a green tire in a cafe with a cup of coffee\"]\n",
        "references = [[\"a lone woman sitting on an usual green bench with a cup in her hand\",\"A woman sits on a flower pot at a crowded coffee shop\",\"The woman sat on a green bench and had a drink\",\"Woman holding a drink with a white bag next to her is sitting on a green sculpture\",\"Woman sitting on a turquoise bench with a pillow and a bag near a restaurant\"]]\n",
        "\n",
        "meteor = evaluate.load('meteor')\n",
        "resultsm = meteor.compute(predictions=predictions, references=references)\n",
        "print(\"test\",  round(resultsm['meteor'], 2))\n",
        "\n",
        "rouge = evaluate.load('rouge')\n",
        "results = rouge.compute(predictions=predictions, references=references)\n",
        "print(results)\n",
        "\n",
        "bleu = evaluate.load(\"bleu\")\n",
        "results = bleu.compute(predictions=predictions, references=references)\n",
        "print(results)"
      ],
      "metadata": {
        "id": "OY5VZ2foL2OX"
      },
      "execution_count": null,
      "outputs": []
    },
    {
      "cell_type": "code",
      "source": [
        "predictions = [\"there is a man standing on a rock overlooking a valley\"]\n",
        "references = [[\"A lone man stands on a rocky outcropping and looks out over the wilderness\",\"A man in shorts and a black jacket stands on top of a big rock looking down on hills and valleys\",\"A man is standing on a big rock overlooking a valley\",\"A man stands atop a large mountain of rocks\",\"Man standing on edge of large rock overlooking scenic view\"]]\n",
        "\n",
        "meteor = evaluate.load('meteor')\n",
        "resultsm = meteor.compute(predictions=predictions, references=references)\n",
        "print(\"test\",  round(resultsm['meteor'], 2))\n",
        "\n",
        "rouge = evaluate.load('rouge')\n",
        "results = rouge.compute(predictions=predictions, references=references)\n",
        "print(results)\n",
        "\n",
        "bleu = evaluate.load(\"bleu\")\n",
        "results = bleu.compute(predictions=predictions, references=references)\n",
        "print(results)"
      ],
      "metadata": {
        "id": "05DWqWAdL2Ew"
      },
      "execution_count": null,
      "outputs": []
    },
    {
      "cell_type": "code",
      "source": [
        "predictions = [\"there is a man holding a baby on his shoulder on the field\"]\n",
        "references = [[\"A football player pauses during a game\",\"A football player wears a green jersey with the number \"\" 4 \"\" on it\",\"Greenbay football player is being handed a towel on the field\",\"Green Bay Packer player cooling off\",\"Someone takes a cloth off of a Green Bay Packers football player\"]]\n",
        "\n",
        "meteor = evaluate.load('meteor')\n",
        "resultsm = meteor.compute(predictions=predictions, references=references)\n",
        "print(\"test\",  round(resultsm['meteor'], 2))\n",
        "\n",
        "rouge = evaluate.load('rouge')\n",
        "results = rouge.compute(predictions=predictions, references=references)\n",
        "print(results)\n",
        "\n",
        "bleu = evaluate.load(\"bleu\")\n",
        "results = bleu.compute(predictions=predictions, references=references)\n",
        "print(results)"
      ],
      "metadata": {
        "id": "fnrQsHihL12u"
      },
      "execution_count": null,
      "outputs": []
    },
    {
      "cell_type": "markdown",
      "source": [
        "# PREDICTION BLIP BASE\n"
      ],
      "metadata": {
        "id": "HNSJmc_tM161"
      }
    },
    {
      "cell_type": "markdown",
      "source": [
        "Compares generated image captions (generated from input images using BLIP  model) with reference captions obtained from Flickr8k Database. Outputs the caption's METEOR, BLEU and ROUGE1 scores."
      ],
      "metadata": {
        "id": "76utO0LzeTio"
      }
    },
    {
      "cell_type": "code",
      "source": [
        "predictions = [\"a woman paddling down a river\"]\n",
        "references = [[\"A girl paddling down a large river , as seen from behind her\", \"A woman kayaking down a river\" ,\"A woman paddles a boat down a river\",\"A woman with a paddle\",\"A woman with a paddle sits in a boat on the water\"]]\n",
        "\n",
        "meteor = evaluate.load('meteor')\n",
        "resultsm = meteor.compute(predictions=predictions, references=references)\n",
        "print(\"test\",  round(resultsm['meteor'], 2))\n",
        "\n",
        "rouge = evaluate.load('rouge')\n",
        "results = rouge.compute(predictions=predictions, references=references)\n",
        "print(results)\n",
        "\n",
        "bleu = evaluate.load(\"bleu\")\n",
        "results = bleu.compute(predictions=predictions, references=references)\n",
        "print(results)"
      ],
      "metadata": {
        "id": "11ajR9rrM162"
      },
      "execution_count": null,
      "outputs": []
    },
    {
      "cell_type": "code",
      "source": [
        "predictions = [\"a person skiing down a snowy slope\"]\n",
        "references = [[\"A lone skier is making their way up a mountain\", \"Skiiers at the top of a snow covered hill \", \"Two hikers climbing a snowy hill\",\"Two people are on a snow-covered mountain\",\"Two people climbing up a snowy mountain\"]]\n",
        "\n",
        "meteor = evaluate.load('meteor')\n",
        "resultsm = meteor.compute(predictions=predictions, references=references)\n",
        "print(\"test\",  round(resultsm['meteor'], 2))\n",
        "\n",
        "rouge = evaluate.load('rouge')\n",
        "results = rouge.compute(predictions=predictions, references=references)\n",
        "print(results)\n",
        "\n",
        "bleu = evaluate.load(\"bleu\")\n",
        "results = bleu.compute(predictions=predictions, references=references)\n",
        "print(results)"
      ],
      "metadata": {
        "id": "PML0ojPjM162"
      },
      "execution_count": null,
      "outputs": []
    },
    {
      "cell_type": "code",
      "source": [
        "predictions = [\"two men in tuxed tuxed tuxed tuxed tuxed tuxed tuxed tuxed\"]\n",
        "references = [[\"A man wearing a tuxedo shirt , vest , and bow-tie is kissing another man wearing the same thing on the cheek\",\"A man with a shaved head is kissing another man on the cheek\",\"Tne man in a vest and tie plants a kiss on the cheek of another happy man\",\"One man kissing another man on the check and both are in white shirts with black vests\",\"One men is laughing while being kissed on the cheek by another man , both men are wearing formal wear\"]]\n",
        "\n",
        "meteor = evaluate.load('meteor')\n",
        "resultsm = meteor.compute(predictions=predictions, references=references)\n",
        "print(\"test\",  round(resultsm['meteor'], 2))\n",
        "\n",
        "rouge = evaluate.load('rouge')\n",
        "results = rouge.compute(predictions=predictions, references=references)\n",
        "print(results)\n",
        "\n",
        "bleu = evaluate.load(\"bleu\")\n",
        "results = bleu.compute(predictions=predictions, references=references)\n",
        "print(results)"
      ],
      "metadata": {
        "id": "532R2JydM162"
      },
      "execution_count": null,
      "outputs": []
    },
    {
      "cell_type": "code",
      "source": [
        "predictions = [\"a man in a canoe\"]\n",
        "references = [[\"A large man sits in the back of a canoe with another man in front on a river\",\"two man are paddling a kayak along a river with green trees on either side\",\"Two men in a small boat rowing down a river\",\"Two men paddling a canoe down a narrow stream\",\"Two paddlers propel a canoe down a tree-lined stream\"]]\n",
        "\n",
        "meteor = evaluate.load('meteor')\n",
        "resultsm = meteor.compute(predictions=predictions, references=references)\n",
        "print(\"test\",  round(resultsm['meteor'], 2))\n",
        "\n",
        "rouge = evaluate.load('rouge')\n",
        "results = rouge.compute(predictions=predictions, references=references)\n",
        "print(results)\n",
        "\n",
        "bleu = evaluate.load(\"bleu\")\n",
        "results = bleu.compute(predictions=predictions, references=references)\n",
        "print(results)"
      ],
      "metadata": {
        "id": "_Jv0R9VrM162"
      },
      "execution_count": null,
      "outputs": []
    },
    {
      "cell_type": "code",
      "source": [
        "predictions = [\"a man sitting on a rock next to a river\"]\n",
        "references = [[\"A couple enjoys a quiet moment near the river\",\"A few people sit out on rocks overlooking the water below\",\"Two people are sitting on a rock overlooking the river\",\"Two people sit on top of a cliff overlooking a river\",\"Two people sit upon large rocks next to a river\"]]\n",
        "\n",
        "meteor = evaluate.load('meteor')\n",
        "resultsm = meteor.compute(predictions=predictions, references=references)\n",
        "print(\"test\",  round(resultsm['meteor'], 2))\n",
        "\n",
        "rouge = evaluate.load('rouge')\n",
        "results = rouge.compute(predictions=predictions, references=references)\n",
        "print(results)\n",
        "\n",
        "bleu = evaluate.load(\"bleu\")\n",
        "results = bleu.compute(predictions=predictions, references=references)\n",
        "print(results)"
      ],
      "metadata": {
        "id": "vGRc9Vk_M162"
      },
      "execution_count": null,
      "outputs": []
    },
    {
      "cell_type": "code",
      "source": [
        "predictions = [\"a man and woman sitting on a car\"]\n",
        "references = [[\"A couple sit on the hood of a car with their backs to the camera\",\"A couple sits on a car\",\"A man and a woman sit on a car and face the opposite way of the camera\",\"A man and woman sit on a car and watch the road\",\"A man and woman sitting on a parked car\"]]\n",
        "\n",
        "meteor = evaluate.load('meteor')\n",
        "resultsm = meteor.compute(predictions=predictions, references=references)\n",
        "print(\"test\",  round(resultsm['meteor'], 2))\n",
        "\n",
        "rouge = evaluate.load('rouge')\n",
        "results = rouge.compute(predictions=predictions, references=references)\n",
        "print(results)\n",
        "\n",
        "bleu = evaluate.load(\"bleu\")\n",
        "results = bleu.compute(predictions=predictions, references=references)\n",
        "print(results)"
      ],
      "metadata": {
        "id": "v1NlOGQhM162"
      },
      "execution_count": null,
      "outputs": []
    },
    {
      "cell_type": "code",
      "source": [
        "predictions = [\"a person riding a motorcycle on a road\"]\n",
        "references = [[\"A motorcycle racer leans his bike\",\"A motorcyclist is driving down a road on their motorbike\",\"A motorcyclist is riding their sponsored car along a roadway that has recently turned\",\"A motorcyclist on the street\",\"A motorcyclist with a red helmet rides his blue motorcycle down the road\"]]\n",
        "\n",
        "meteor = evaluate.load('meteor')\n",
        "resultsm = meteor.compute(predictions=predictions, references=references)\n",
        "print(\"test\",  round(resultsm['meteor'], 2))\n",
        "\n",
        "rouge = evaluate.load('rouge')\n",
        "results = rouge.compute(predictions=predictions, references=references)\n",
        "print(results)\n",
        "\n",
        "bleu = evaluate.load(\"bleu\")\n",
        "results = bleu.compute(predictions=predictions, references=references)\n",
        "print(results)"
      ],
      "metadata": {
        "id": "VW9aTzslM162"
      },
      "execution_count": null,
      "outputs": []
    },
    {
      "cell_type": "code",
      "source": [
        "predictions = [\"a bird sitting on a rock\"]\n",
        "references = [[\"A mountain climber looks down from the summit\",\"A person is rock climbing between two large rock faces\",\"A rock climber climbs in between two very large rocks\",\"A rock climber leans out from a crag against a deep blue sky\",\"Two large mountains stand high in the air as a person tries to climb one\"]]\n",
        "\n",
        "meteor = evaluate.load('meteor')\n",
        "resultsm = meteor.compute(predictions=predictions, references=references)\n",
        "print(\"test\",  round(resultsm['meteor'], 2))\n",
        "\n",
        "rouge = evaluate.load('rouge')\n",
        "results = rouge.compute(predictions=predictions, references=references)\n",
        "print(results)\n",
        "\n",
        "bleu = evaluate.load(\"bleu\")\n",
        "results = bleu.compute(predictions=predictions, references=references)\n",
        "print(results)"
      ],
      "metadata": {
        "id": "DDIQm_LKM163"
      },
      "execution_count": null,
      "outputs": []
    },
    {
      "cell_type": "code",
      "source": [
        "predictions = [\"a child sitting in the grass\"]\n",
        "references = [[\"A little girl covered in paint sits in front of a painted rainbow with her hands in a bowl\", \"A little girl is sitting in front of a large painted rainbow\",\"A small girl in the grass plays with fingerpaints in front of a white canvas with a rainbow on it\",\"There is a girl with pigtails sitting in front of a rainbow painting\",\"Young girl with pigtails painting outside in the grass\"]]\n",
        "\n",
        "meteor = evaluate.load('meteor')\n",
        "resultsm = meteor.compute(predictions=predictions, references=references)\n",
        "print(\"test\",  round(resultsm['meteor'], 2))\n",
        "\n",
        "rouge = evaluate.load('rouge')\n",
        "results = rouge.compute(predictions=predictions, references=references)\n",
        "print(results)\n",
        "\n",
        "bleu = evaluate.load(\"bleu\")\n",
        "results = bleu.compute(predictions=predictions, references=references)\n",
        "print(results)"
      ],
      "metadata": {
        "id": "CyttliCMM163"
      },
      "execution_count": null,
      "outputs": []
    },
    {
      "cell_type": "code",
      "source": [
        "predictions = [\"a dog running through a hose in a yard\"]\n",
        "references = [[\"A brown dog chases the water from a sprinkler on a lawn\", \"a brown dog plays with the hose\",\"A brown dog running on a lawn near a garden hose\",\"A dog is playing with a hose\", \"Large brown dog running away from the sprinkler in the grass\" ]]\n",
        "\n",
        "meteor = evaluate.load('meteor')\n",
        "resultsm = meteor.compute(predictions=predictions, references=references)\n",
        "print(\"test\",  round(resultsm['meteor'], 2))\n",
        "\n",
        "rouge = evaluate.load('rouge')\n",
        "results = rouge.compute(predictions=predictions, references=references)\n",
        "print(results)\n",
        "\n",
        "bleu = evaluate.load(\"bleu\")\n",
        "results = bleu.compute(predictions=predictions, references=references)\n",
        "print(results)"
      ],
      "metadata": {
        "id": "Z_5NtmU8M163"
      },
      "execution_count": null,
      "outputs": []
    },
    {
      "cell_type": "code",
      "source": [
        "predictions = [\"two girls on a quad quad quad quad quad quad quad quad quad quad quad quad quad quad quad\"]\n",
        "references = [[\"A family playing on a tractor on a beautiful day\",\"Children ride a tractor in a field\",\"Several children playing on a Polaris vehicle outdoors\",\"The children played on the four wheeler in the field\",\"The four kids are riding on an ATV in a field\"]]\n",
        "\n",
        "meteor = evaluate.load('meteor')\n",
        "resultsm = meteor.compute(predictions=predictions, references=references)\n",
        "print(\"test\",  round(resultsm['meteor'], 2))\n",
        "\n",
        "rouge = evaluate.load('rouge')\n",
        "results = rouge.compute(predictions=predictions, references=references)\n",
        "print(results)\n",
        "\n",
        "bleu = evaluate.load(\"bleu\")\n",
        "results = bleu.compute(predictions=predictions, references=references)\n",
        "print(results)"
      ],
      "metadata": {
        "id": "h9vNpQ2UM163"
      },
      "execution_count": null,
      "outputs": []
    },
    {
      "cell_type": "code",
      "source": [
        "predictions = [\"two small dogs are walking on a rock\"]\n",
        "references = [[\"Two little puppies chase each other on a stone wall\", \"Two puppies run across flat stones in garden area\",\"Two puppies walking on stones\",\"Two small puppies run along the edge of a stone wall nearby a heavily foliaged area\",\"two small tan puppies walking on a stone path\"]]\n",
        "\n",
        "meteor = evaluate.load('meteor')\n",
        "resultsm = meteor.compute(predictions=predictions, references=references)\n",
        "print(\"test\",  round(resultsm['meteor'], 2))\n",
        "\n",
        "rouge = evaluate.load('rouge')\n",
        "results = rouge.compute(predictions=predictions, references=references)\n",
        "print(results)\n",
        "\n",
        "bleu = evaluate.load(\"bleu\")\n",
        "results = bleu.compute(predictions=predictions, references=references)\n",
        "print(results)"
      ],
      "metadata": {
        "id": "JchJakpYM163"
      },
      "execution_count": null,
      "outputs": []
    },
    {
      "cell_type": "code",
      "source": [
        "predictions = [\"a woman sitting on a green bench\"]\n",
        "references = [[\"a lone woman sitting on an usual green bench with a cup in her hand\",\"A woman sits on a flower pot at a crowded coffee shop\",\"The woman sat on a green bench and had a drink\",\"Woman holding a drink with a white bag next to her is sitting on a green sculpture\",\"Woman sitting on a turquoise bench with a pillow and a bag near a restaurant\"]]\n",
        "\n",
        "meteor = evaluate.load('meteor')\n",
        "resultsm = meteor.compute(predictions=predictions, references=references)\n",
        "print(\"test\",  round(resultsm['meteor'], 2))\n",
        "\n",
        "rouge = evaluate.load('rouge')\n",
        "results = rouge.compute(predictions=predictions, references=references)\n",
        "print(results)\n",
        "\n",
        "bleu = evaluate.load(\"bleu\")\n",
        "results = bleu.compute(predictions=predictions, references=references)\n",
        "print(results)"
      ],
      "metadata": {
        "id": "2SXgcxYJM17H"
      },
      "execution_count": null,
      "outputs": []
    },
    {
      "cell_type": "code",
      "source": [
        "predictions = [\"a person standing on top of a mountain\"]\n",
        "references = [[\"A lone man stands on a rocky outcropping and looks out over the wilderness\",\"A man in shorts and a black jacket stands on top of a big rock looking down on hills and valleys\",\"A man is standing on a big rock overlooking a valley\",\"A man stands atop a large mountain of rocks\",\"Man standing on edge of large rock overlooking scenic view\"]]\n",
        "\n",
        "meteor = evaluate.load('meteor')\n",
        "resultsm = meteor.compute(predictions=predictions, references=references)\n",
        "print(\"test\",  round(resultsm['meteor'], 2))\n",
        "\n",
        "rouge = evaluate.load('rouge')\n",
        "results = rouge.compute(predictions=predictions, references=references)\n",
        "print(results)\n",
        "\n",
        "bleu = evaluate.load(\"bleu\")\n",
        "results = bleu.compute(predictions=predictions, references=references)\n",
        "print(results)"
      ],
      "metadata": {
        "id": "op4jpAvLM17H"
      },
      "execution_count": null,
      "outputs": []
    },
    {
      "cell_type": "code",
      "source": [
        "predictions = [\"a man in a green and white uniform\"]\n",
        "references = [[\"A football player pauses during a game\",\"A football player wears a green jersey with the number \"\" 4 \"\" on it\",\"Greenbay football player is being handed a towel on the field\",\"Green Bay Packer player cooling off\",\"Someone takes a cloth off of a Green Bay Packers football player\"]]\n",
        "\n",
        "meteor = evaluate.load('meteor')\n",
        "resultsm = meteor.compute(predictions=predictions, references=references)\n",
        "print(\"test\",  round(resultsm['meteor'], 2))\n",
        "\n",
        "rouge = evaluate.load('rouge')\n",
        "results = rouge.compute(predictions=predictions, references=references)\n",
        "print(results)\n",
        "\n",
        "bleu = evaluate.load(\"bleu\")\n",
        "results = bleu.compute(predictions=predictions, references=references)\n",
        "print(results)"
      ],
      "metadata": {
        "id": "hu6rAcKBM17H"
      },
      "execution_count": null,
      "outputs": []
    },
    {
      "cell_type": "markdown",
      "source": [
        "# PREDICTION NLPCONNECT\n",
        "\n"
      ],
      "metadata": {
        "id": "TBrNzgz2M9mE"
      }
    },
    {
      "cell_type": "markdown",
      "source": [
        "Compares generated image captions (generated from input images using NLPConnect  model) with reference captions obtained from Flickr8k Database. Outputs the caption's METEOR, BLEU and ROUGE1 scores."
      ],
      "metadata": {
        "id": "DZUpcglzeXe-"
      }
    },
    {
      "cell_type": "code",
      "source": [
        "predictions = [\"a man in a wet suit is holding a paddle\"]\n",
        "references = [[\"A girl paddling down a large river , as seen from behind her\", \"A woman kayaking down a river\" ,\"A woman paddles a boat down a river\",\"A woman with a paddle\",\"A woman with a paddle sits in a boat on the water\"]]\n",
        "\n",
        "meteor = evaluate.load('meteor')\n",
        "resultsm = meteor.compute(predictions=predictions, references=references)\n",
        "print(\"test\",  round(resultsm['meteor'], 2))\n",
        "\n",
        "rouge = evaluate.load('rouge')\n",
        "results = rouge.compute(predictions=predictions, references=references)\n",
        "print(results)\n",
        "\n",
        "bleu = evaluate.load(\"bleu\")\n",
        "results = bleu.compute(predictions=predictions, references=references)\n",
        "print(results)"
      ],
      "metadata": {
        "id": "DIIii8lmM9mh"
      },
      "execution_count": null,
      "outputs": []
    },
    {
      "cell_type": "code",
      "source": [
        "predictions = [\"two people are skiing down a snow covered slope\"]\n",
        "references = [[\"A lone skier is making their way up a mountain\", \"Skiiers at the top of a snow covered hill \", \"Two hikers climbing a snowy hill\",\"Two people are on a snow-covered mountain\",\"Two people climbing up a snowy mountain\"]]\n",
        "\n",
        "meteor = evaluate.load('meteor')\n",
        "resultsm = meteor.compute(predictions=predictions, references=references)\n",
        "print(\"test\",  round(resultsm['meteor'], 2))\n",
        "\n",
        "rouge = evaluate.load('rouge')\n",
        "results = rouge.compute(predictions=predictions, references=references)\n",
        "print(results)\n",
        "\n",
        "bleu = evaluate.load(\"bleu\")\n",
        "results = bleu.compute(predictions=predictions, references=references)\n",
        "print(results)"
      ],
      "metadata": {
        "id": "Kp3Ldk70M9mh"
      },
      "execution_count": null,
      "outputs": []
    },
    {
      "cell_type": "code",
      "source": [
        "predictions = [\"a man and a woman are posing for a picture\"]\n",
        "references = [[\"A man wearing a tuxedo shirt , vest , and bow-tie is kissing another man wearing the same thing on the cheek\",\"A man with a shaved head is kissing another man on the cheek\",\"Tne man in a vest and tie plants a kiss on the cheek of another happy man\",\"One man kissing another man on the check and both are in white shirts with black vests\",\"One men is laughing while being kissed on the cheek by another man , both men are wearing formal wear\"]]\n",
        "\n",
        "meteor = evaluate.load('meteor')\n",
        "resultsm = meteor.compute(predictions=predictions, references=references)\n",
        "print(\"test\",  round(resultsm['meteor'], 2))\n",
        "\n",
        "rouge = evaluate.load('rouge')\n",
        "results = rouge.compute(predictions=predictions, references=references)\n",
        "print(results)\n",
        "\n",
        "bleu = evaluate.load(\"bleu\")\n",
        "results = bleu.compute(predictions=predictions, references=references)\n",
        "print(results)"
      ],
      "metadata": {
        "id": "VH9TqIxUM9mh"
      },
      "execution_count": null,
      "outputs": []
    },
    {
      "cell_type": "code",
      "source": [
        "predictions = [\"a man and a woman on a canoe in the water\"]\n",
        "references = [[\"A large man sits in the back of a canoe with another man in front on a river\",\"two man are paddling a kayak along a river with green trees on either side\",\"Two men in a small boat rowing down a river\",\"Two men paddling a canoe down a narrow stream\",\"Two paddlers propel a canoe down a tree-lined stream\"]]\n",
        "\n",
        "meteor = evaluate.load('meteor')\n",
        "resultsm = meteor.compute(predictions=predictions, references=references)\n",
        "print(\"test\",  round(resultsm['meteor'], 2))\n",
        "\n",
        "rouge = evaluate.load('rouge')\n",
        "results = rouge.compute(predictions=predictions, references=references)\n",
        "print(results)\n",
        "\n",
        "bleu = evaluate.load(\"bleu\")\n",
        "results = bleu.compute(predictions=predictions, references=references)\n",
        "print(results)"
      ],
      "metadata": {
        "id": "aXhdw4MvM9mh"
      },
      "execution_count": null,
      "outputs": []
    },
    {
      "cell_type": "code",
      "source": [
        "predictions = [\"two people sitting on a rock near a river\"]\n",
        "references = [[\"A couple enjoys a quiet moment near the river\",\"A few people sit out on rocks overlooking the water below\",\"Two people are sitting on a rock overlooking the river\",\"Two people sit on top of a cliff overlooking a river\",\"Two people sit upon large rocks next to a river\"]]\n",
        "\n",
        "meteor = evaluate.load('meteor')\n",
        "resultsm = meteor.compute(predictions=predictions, references=references)\n",
        "print(\"test\",  round(resultsm['meteor'], 2))\n",
        "\n",
        "rouge = evaluate.load('rouge')\n",
        "results = rouge.compute(predictions=predictions, references=references)\n",
        "print(results)\n",
        "\n",
        "bleu = evaluate.load(\"bleu\")\n",
        "results = bleu.compute(predictions=predictions, references=references)\n",
        "print(results)"
      ],
      "metadata": {
        "id": "PNF5b9SuM9mi"
      },
      "execution_count": null,
      "outputs": []
    },
    {
      "cell_type": "code",
      "source": [
        "predictions = [\"a man and a woman are walking down the street\"]\n",
        "references = [[\"A couple sit on the hood of a car with their backs to the camera\",\"A couple sits on a car\",\"A man and a woman sit on a car and face the opposite way of the camera\",\"A man and woman sit on a car and watch the road\",\"A man and woman sitting on a parked car\"]]\n",
        "\n",
        "meteor = evaluate.load('meteor')\n",
        "resultsm = meteor.compute(predictions=predictions, references=references)\n",
        "print(\"test\",  round(resultsm['meteor'], 2))\n",
        "\n",
        "rouge = evaluate.load('rouge')\n",
        "results = rouge.compute(predictions=predictions, references=references)\n",
        "print(results)\n",
        "\n",
        "bleu = evaluate.load(\"bleu\")\n",
        "results = bleu.compute(predictions=predictions, references=references)\n",
        "print(results)"
      ],
      "metadata": {
        "id": "Oo8VnLk2M9mi"
      },
      "execution_count": null,
      "outputs": []
    },
    {
      "cell_type": "code",
      "source": [
        "predictions = [\"a person riding a motorcycle on a race track\"]\n",
        "references = [[\"A motorcycle racer leans his bike\",\"A motorcyclist is driving down a road on their motorbike\",\"A motorcyclist is riding their sponsored car along a roadway that has recently turned\",\"A motorcyclist on the street\",\"A motorcyclist with a red helmet rides his blue motorcycle down the road\"]]\n",
        "\n",
        "meteor = evaluate.load('meteor')\n",
        "resultsm = meteor.compute(predictions=predictions, references=references)\n",
        "print(\"test\",  round(resultsm['meteor'], 2))\n",
        "\n",
        "rouge = evaluate.load('rouge')\n",
        "results = rouge.compute(predictions=predictions, references=references)\n",
        "print(results)\n",
        "\n",
        "bleu = evaluate.load(\"bleu\")\n",
        "results = bleu.compute(predictions=predictions, references=references)\n",
        "print(results)"
      ],
      "metadata": {
        "id": "8hKRNDFcM9mi"
      },
      "execution_count": null,
      "outputs": []
    },
    {
      "cell_type": "code",
      "source": [
        "predictions = [\"a bird perched on top of a rock on top of a mountain\"]\n",
        "references = [[\"A mountain climber looks down from the summit\",\"A person is rock climbing between two large rock faces\",\"A rock climber climbs in between two very large rocks\",\"A rock climber leans out from a crag against a deep blue sky\",\"Two large mountains stand high in the air as a person tries to climb one\"]]\n",
        "\n",
        "meteor = evaluate.load('meteor')\n",
        "resultsm = meteor.compute(predictions=predictions, references=references)\n",
        "print(\"test\",  round(resultsm['meteor'], 2))\n",
        "\n",
        "rouge = evaluate.load('rouge')\n",
        "results = rouge.compute(predictions=predictions, references=references)\n",
        "print(results)\n",
        "\n",
        "bleu = evaluate.load(\"bleu\")\n",
        "results = bleu.compute(predictions=predictions, references=references)\n",
        "print(results)"
      ],
      "metadata": {
        "id": "Ys3jlpP-M9mi"
      },
      "execution_count": null,
      "outputs": []
    },
    {
      "cell_type": "code",
      "source": [
        "predictions = [\"a little girl standing next to a colorful kite\"]\n",
        "references = [[\"A little girl covered in paint sits in front of a painted rainbow with her hands in a bowl\", \"A little girl is sitting in front of a large painted rainbow\",\"A small girl in the grass plays with fingerpaints in front of a white canvas with a rainbow on it\",\"There is a girl with pigtails sitting in front of a rainbow painting\",\"Young girl with pigtails painting outside in the grass\"]]\n",
        "\n",
        "meteor = evaluate.load('meteor')\n",
        "resultsm = meteor.compute(predictions=predictions, references=references)\n",
        "print(\"test\",  round(resultsm['meteor'], 2))\n",
        "\n",
        "rouge = evaluate.load('rouge')\n",
        "results = rouge.compute(predictions=predictions, references=references)\n",
        "print(results)\n",
        "\n",
        "bleu = evaluate.load(\"bleu\")\n",
        "results = bleu.compute(predictions=predictions, references=references)\n",
        "print(results)"
      ],
      "metadata": {
        "id": "W3CTk4PvM9mi"
      },
      "execution_count": null,
      "outputs": []
    },
    {
      "cell_type": "code",
      "source": [
        "predictions = [\"a dog running in the grass with a frisbee in its mouth\"]\n",
        "references = [[\"A brown dog chases the water from a sprinkler on a lawn\", \"a brown dog plays with the hose\",\"A brown dog running on a lawn near a garden hose\",\"A dog is playing with a hose\", \"Large brown dog running away from the sprinkler in the grass\" ]]\n",
        "\n",
        "meteor = evaluate.load('meteor')\n",
        "resultsm = meteor.compute(predictions=predictions, references=references)\n",
        "print(\"test\",  round(resultsm['meteor'], 2))\n",
        "\n",
        "rouge = evaluate.load('rouge')\n",
        "results = rouge.compute(predictions=predictions, references=references)\n",
        "print(results)\n",
        "\n",
        "bleu = evaluate.load(\"bleu\")\n",
        "results = bleu.compute(predictions=predictions, references=references)\n",
        "print(results)"
      ],
      "metadata": {
        "id": "-o0fdvcHM9mi"
      },
      "execution_count": null,
      "outputs": []
    },
    {
      "cell_type": "code",
      "source": [
        "predictions = [\"a woman and two children riding on top of a truck\"]\n",
        "references = [[\"A family playing on a tractor on a beautiful day\",\"Children ride a tractor in a field\",\"Several children playing on a Polaris vehicle outdoors\",\"The children played on the four wheeler in the field\",\"The four kids are riding on an ATV in a field\"]]\n",
        "\n",
        "meteor = evaluate.load('meteor')\n",
        "resultsm = meteor.compute(predictions=predictions, references=references)\n",
        "print(\"test\",  round(resultsm['meteor'], 2))\n",
        "\n",
        "rouge = evaluate.load('rouge')\n",
        "results = rouge.compute(predictions=predictions, references=references)\n",
        "print(results)\n",
        "\n",
        "bleu = evaluate.load(\"bleu\")\n",
        "results = bleu.compute(predictions=predictions, references=references)\n",
        "print(results)"
      ],
      "metadata": {
        "id": "zROyaLE_M9mi"
      },
      "execution_count": null,
      "outputs": []
    },
    {
      "cell_type": "code",
      "source": [
        "predictions = [\"a small dog standing next to a large dog\"]\n",
        "references = [[\"Two little puppies chase each other on a stone wall\", \"Two puppies run across flat stones in garden area\",\"Two puppies walking on stones\",\"Two small puppies run along the edge of a stone wall nearby a heavily foliaged area\",\"two small tan puppies walking on a stone path\"]]\n",
        "\n",
        "meteor = evaluate.load('meteor')\n",
        "resultsm = meteor.compute(predictions=predictions, references=references)\n",
        "print(\"test\",  round(resultsm['meteor'], 2))\n",
        "\n",
        "rouge = evaluate.load('rouge')\n",
        "results = rouge.compute(predictions=predictions, references=references)\n",
        "print(results)\n",
        "\n",
        "bleu = evaluate.load(\"bleu\")\n",
        "results = bleu.compute(predictions=predictions, references=references)\n",
        "print(results)"
      ],
      "metadata": {
        "id": "6yXs335TM9mi"
      },
      "execution_count": null,
      "outputs": []
    },
    {
      "cell_type": "code",
      "source": [
        "predictions = [\"a woman sitting on a bench while talking on a cell phone\"]\n",
        "references = [[\"a lone woman sitting on an usual green bench with a cup in her hand\",\"A woman sits on a flower pot at a crowded coffee shop\",\"The woman sat on a green bench and had a drink\",\"Woman holding a drink with a white bag next to her is sitting on a green sculpture\",\"Woman sitting on a turquoise bench with a pillow and a bag near a restaurant\"]]\n",
        "\n",
        "meteor = evaluate.load('meteor')\n",
        "resultsm = meteor.compute(predictions=predictions, references=references)\n",
        "print(\"test\",  round(resultsm['meteor'], 2))\n",
        "\n",
        "rouge = evaluate.load('rouge')\n",
        "results = rouge.compute(predictions=predictions, references=references)\n",
        "print(results)\n",
        "\n",
        "bleu = evaluate.load(\"bleu\")\n",
        "results = bleu.compute(predictions=predictions, references=references)\n",
        "print(results)"
      ],
      "metadata": {
        "id": "rkpDE0umM9mi"
      },
      "execution_count": null,
      "outputs": []
    },
    {
      "cell_type": "code",
      "source": [
        "predictions = [\"a man standing on top of a rock near a mountain\"]\n",
        "references = [[\"A lone man stands on a rocky outcropping and looks out over the wilderness\",\"A man in shorts and a black jacket stands on top of a big rock looking down on hills and valleys\",\"A man is standing on a big rock overlooking a valley\",\"A man stands atop a large mountain of rocks\",\"Man standing on edge of large rock overlooking scenic view\"]]\n",
        "\n",
        "meteor = evaluate.load('meteor')\n",
        "resultsm = meteor.compute(predictions=predictions, references=references)\n",
        "print(\"test\",  round(resultsm['meteor'], 2))\n",
        "\n",
        "rouge = evaluate.load('rouge')\n",
        "results = rouge.compute(predictions=predictions, references=references)\n",
        "print(results)\n",
        "\n",
        "bleu = evaluate.load(\"bleu\")\n",
        "results = bleu.compute(predictions=predictions, references=references)\n",
        "print(results)"
      ],
      "metadata": {
        "id": "ISZcUBrPM9mi"
      },
      "execution_count": null,
      "outputs": []
    },
    {
      "cell_type": "code",
      "source": [
        "predictions = [\"a man in a baseball uniform holding a baseball bat\"]\n",
        "references = [[\"A football player pauses during a game\",\"A football player wears a green jersey with the number \"\" 4 \"\" on it\",\"Greenbay football player is being handed a towel on the field\",\"Green Bay Packer player cooling off\",\"Someone takes a cloth off of a Green Bay Packers football player\"]]\n",
        "\n",
        "meteor = evaluate.load('meteor')\n",
        "resultsm = meteor.compute(predictions=predictions, references=references)\n",
        "print(\"test\",  round(resultsm['meteor'], 2))\n",
        "\n",
        "rouge = evaluate.load('rouge')\n",
        "results = rouge.compute(predictions=predictions, references=references)\n",
        "print(results)\n",
        "\n",
        "bleu = evaluate.load(\"bleu\")\n",
        "results = bleu.compute(predictions=predictions, references=references)\n",
        "print(results)"
      ],
      "metadata": {
        "id": "QpUAxgyxM9mi"
      },
      "execution_count": null,
      "outputs": []
    },
    {
      "cell_type": "markdown",
      "source": [
        "# PREDICTION BLIP 2\n"
      ],
      "metadata": {
        "id": "Jjf-CXQLNA4G"
      }
    },
    {
      "cell_type": "markdown",
      "source": [
        "Compares generated image captions (generated from input images using BLIP-2 model) with reference captions obtained from Flickr8k Database. Outputs the caption's METEOR, BLEU and ROUGE1 scores."
      ],
      "metadata": {
        "id": "GkV_XIz8eaOP"
      }
    },
    {
      "cell_type": "code",
      "source": [
        "predictions = [\"a woman paddling a canoe in a body of water\"]\n",
        "references = [[\"A girl paddling down a large river , as seen from behind her\", \"A woman kayaking down a river\" ,\"A woman paddles a boat down a river\",\"A woman with a paddle\",\"A woman with a paddle sits in a boat on the water\"]]\n",
        "\n",
        "meteor = evaluate.load('meteor')\n",
        "resultsm = meteor.compute(predictions=predictions, references=references)\n",
        "print(\"test\",  round(resultsm['meteor'], 2))\n",
        "\n",
        "rouge = evaluate.load('rouge')\n",
        "results = rouge.compute(predictions=predictions, references=references)\n",
        "print(results)\n",
        "\n",
        "bleu = evaluate.load(\"bleu\")\n",
        "results = bleu.compute(predictions=predictions, references=references)\n",
        "print(results)"
      ],
      "metadata": {
        "id": "NLtXYhU3NA4H"
      },
      "execution_count": null,
      "outputs": []
    },
    {
      "cell_type": "code",
      "source": [
        "predictions = [\"a group of people skiing down a snowy hill on skis\"]\n",
        "references = [[\"A lone skier is making their way up a mountain\", \"Skiiers at the top of a snow covered hill \", \"Two hikers climbing a snowy hill\",\"Two people are on a snow-covered mountain\",\"Two people climbing up a snowy mountain\"]]\n",
        "\n",
        "meteor = evaluate.load('meteor')\n",
        "resultsm = meteor.compute(predictions=predictions, references=references)\n",
        "print(\"test\",  round(resultsm['meteor'], 2))\n",
        "\n",
        "rouge = evaluate.load('rouge')\n",
        "results = rouge.compute(predictions=predictions, references=references)\n",
        "print(results)\n",
        "\n",
        "bleu = evaluate.load(\"bleu\")\n",
        "results = bleu.compute(predictions=predictions, references=references)\n",
        "print(results)"
      ],
      "metadata": {
        "id": "nx7rubd6NA4H"
      },
      "execution_count": null,
      "outputs": []
    },
    {
      "cell_type": "code",
      "source": [
        "predictions = [\"two men in tuxedos kissing each other at a party\"]\n",
        "references = [[\"A man wearing a tuxedo shirt , vest , and bow-tie is kissing another man wearing the same thing on the cheek\",\"A man with a shaved head is kissing another man on the cheek\",\"Tne man in a vest and tie plants a kiss on the cheek of another happy man\",\"One man kissing another man on the check and both are in white shirts with black vests\",\"One men is laughing while being kissed on the cheek by another man , both men are wearing formal wear\"]]\n",
        "\n",
        "meteor = evaluate.load('meteor')\n",
        "resultsm = meteor.compute(predictions=predictions, references=references)\n",
        "print(\"test\",  round(resultsm['meteor'], 2))\n",
        "\n",
        "rouge = evaluate.load('rouge')\n",
        "results = rouge.compute(predictions=predictions, references=references)\n",
        "print(results)\n",
        "\n",
        "bleu = evaluate.load(\"bleu\")\n",
        "results = bleu.compute(predictions=predictions, references=references)\n",
        "print(results)"
      ],
      "metadata": {
        "id": "WRJnaGKTNA4H"
      },
      "execution_count": null,
      "outputs": []
    },
    {
      "cell_type": "code",
      "source": [
        "predictions = [\"a man is paddling a canoe down a river\"]\n",
        "references = [[\"A large man sits in the back of a canoe with another man in front on a river\",\"two man are paddling a kayak along a river with green trees on either side\",\"Two men in a small boat rowing down a river\",\"Two men paddling a canoe down a narrow stream\",\"Two paddlers propel a canoe down a tree-lined stream\"]]\n",
        "\n",
        "meteor = evaluate.load('meteor')\n",
        "resultsm = meteor.compute(predictions=predictions, references=references)\n",
        "print(\"test\",  round(resultsm['meteor'], 2))\n",
        "\n",
        "rouge = evaluate.load('rouge')\n",
        "results = rouge.compute(predictions=predictions, references=references)\n",
        "print(results)\n",
        "\n",
        "bleu = evaluate.load(\"bleu\")\n",
        "results = bleu.compute(predictions=predictions, references=references)\n",
        "print(results)"
      ],
      "metadata": {
        "id": "qbJ0IETCNA4H"
      },
      "execution_count": null,
      "outputs": []
    },
    {
      "cell_type": "code",
      "source": [
        "predictions = [\"a group of people sitting on a cliff overlooking a river\"]\n",
        "references = [[\"A couple enjoys a quiet moment near the river\",\"A few people sit out on rocks overlooking the water below\",\"Two people are sitting on a rock overlooking the river\",\"Two people sit on top of a cliff overlooking a river\",\"Two people sit upon large rocks next to a river\"]]\n",
        "\n",
        "meteor = evaluate.load('meteor')\n",
        "resultsm = meteor.compute(predictions=predictions, references=references)\n",
        "print(\"test\",  round(resultsm['meteor'], 2))\n",
        "\n",
        "rouge = evaluate.load('rouge')\n",
        "results = rouge.compute(predictions=predictions, references=references)\n",
        "print(results)\n",
        "\n",
        "bleu = evaluate.load(\"bleu\")\n",
        "results = bleu.compute(predictions=predictions, references=references)\n",
        "print(results)"
      ],
      "metadata": {
        "id": "a9E3jmVrNA4I"
      },
      "execution_count": null,
      "outputs": []
    },
    {
      "cell_type": "code",
      "source": [
        "predictions = [\"a man and a woman sitting on the back of a car\"]\n",
        "references = [[\"A couple sit on the hood of a car with their backs to the camera\",\"A couple sits on a car\",\"A man and a woman sit on a car and face the opposite way of the camera\",\"A man and woman sit on a car and watch the road\",\"A man and woman sitting on a parked car\"]]\n",
        "\n",
        "meteor = evaluate.load('meteor')\n",
        "resultsm = meteor.compute(predictions=predictions, references=references)\n",
        "print(\"test\",  round(resultsm['meteor'], 2))\n",
        "\n",
        "rouge = evaluate.load('rouge')\n",
        "results = rouge.compute(predictions=predictions, references=references)\n",
        "print(results)\n",
        "\n",
        "bleu = evaluate.load(\"bleu\")\n",
        "results = bleu.compute(predictions=predictions, references=references)\n",
        "print(results)"
      ],
      "metadata": {
        "id": "uN2K-YZzNA4I"
      },
      "execution_count": null,
      "outputs": []
    },
    {
      "cell_type": "code",
      "source": [
        "predictions = [\"a man on a motorcycle is leaning around a corner\"]\n",
        "references = [[\"A motorcycle racer leans his bike\",\"A motorcyclist is driving down a road on their motorbike\",\"A motorcyclist is riding their sponsored car along a roadway that has recently turned\",\"A motorcyclist on the street\",\"A motorcyclist with a red helmet rides his blue motorcycle down the road\"]]\n",
        "\n",
        "meteor = evaluate.load('meteor')\n",
        "resultsm = meteor.compute(predictions=predictions, references=references)\n",
        "print(\"test\",  round(resultsm['meteor'], 2))\n",
        "\n",
        "rouge = evaluate.load('rouge')\n",
        "results = rouge.compute(predictions=predictions, references=references)\n",
        "print(results)\n",
        "\n",
        "bleu = evaluate.load(\"bleu\")\n",
        "results = bleu.compute(predictions=predictions, references=references)\n",
        "print(results)"
      ],
      "metadata": {
        "id": "MJHVSiAmNA4I"
      },
      "execution_count": null,
      "outputs": []
    },
    {
      "cell_type": "code",
      "source": [
        "predictions = [\"a person climbing up a rocky cliff on a rope\"]\n",
        "references = [[\"A mountain climber looks down from the summit\",\"A person is rock climbing between two large rock faces\",\"A rock climber climbs in between two very large rocks\",\"A rock climber leans out from a crag against a deep blue sky\",\"Two large mountains stand high in the air as a person tries to climb one\"]]\n",
        "\n",
        "meteor = evaluate.load('meteor')\n",
        "resultsm = meteor.compute(predictions=predictions, references=references)\n",
        "print(\"test\",  round(resultsm['meteor'], 2))\n",
        "\n",
        "rouge = evaluate.load('rouge')\n",
        "results = rouge.compute(predictions=predictions, references=references)\n",
        "print(results)\n",
        "\n",
        "bleu = evaluate.load(\"bleu\")\n",
        "results = bleu.compute(predictions=predictions, references=references)\n",
        "print(results)"
      ],
      "metadata": {
        "id": "mvgF5tp0NA4I"
      },
      "execution_count": null,
      "outputs": []
    },
    {
      "cell_type": "code",
      "source": [
        "predictions = [\"a little girl sitting in the grass with a rainbow in front of her\"]\n",
        "references = [[\"A little girl covered in paint sits in front of a painted rainbow with her hands in a bowl\", \"A little girl is sitting in front of a large painted rainbow\",\"A small girl in the grass plays with fingerpaints in front of a white canvas with a rainbow on it\",\"There is a girl with pigtails sitting in front of a rainbow painting\",\"Young girl with pigtails painting outside in the grass\"]]\n",
        "\n",
        "meteor = evaluate.load('meteor')\n",
        "resultsm = meteor.compute(predictions=predictions, references=references)\n",
        "print(\"test\",  round(resultsm['meteor'], 2))\n",
        "\n",
        "rouge = evaluate.load('rouge')\n",
        "results = rouge.compute(predictions=predictions, references=references)\n",
        "print(results)\n",
        "\n",
        "bleu = evaluate.load(\"bleu\")\n",
        "results = bleu.compute(predictions=predictions, references=references)\n",
        "print(results)"
      ],
      "metadata": {
        "id": "3scT2tcWNA4I"
      },
      "execution_count": null,
      "outputs": []
    },
    {
      "cell_type": "code",
      "source": [
        "predictions = [\"a dog running in the grass with a hose in front of it\"]\n",
        "references = [[\"A brown dog chases the water from a sprinkler on a lawn\", \"a brown dog plays with the hose\",\"A brown dog running on a lawn near a garden hose\",\"A dog is playing with a hose\", \"Large brown dog running away from the sprinkler in the grass\" ]]\n",
        "\n",
        "meteor = evaluate.load('meteor')\n",
        "resultsm = meteor.compute(predictions=predictions, references=references)\n",
        "print(\"test\",  round(resultsm['meteor'], 2))\n",
        "\n",
        "rouge = evaluate.load('rouge')\n",
        "results = rouge.compute(predictions=predictions, references=references)\n",
        "print(results)\n",
        "\n",
        "bleu = evaluate.load(\"bleu\")\n",
        "results = bleu.compute(predictions=predictions, references=references)\n",
        "print(results)"
      ],
      "metadata": {
        "id": "VMBudvgsNA4I"
      },
      "execution_count": null,
      "outputs": []
    },
    {
      "cell_type": "code",
      "source": [
        "predictions = [\"a group of people riding a four wheeler in a field\"]\n",
        "references = [[\"A family playing on a tractor on a beautiful day\",\"Children ride a tractor in a field\",\"Several children playing on a Polaris vehicle outdoors\",\"The children played on the four wheeler in the field\",\"The four kids are riding on an ATV in a field\"]]\n",
        "\n",
        "meteor = evaluate.load('meteor')\n",
        "resultsm = meteor.compute(predictions=predictions, references=references)\n",
        "print(\"test\",  round(resultsm['meteor'], 2))\n",
        "\n",
        "rouge = evaluate.load('rouge')\n",
        "results = rouge.compute(predictions=predictions, references=references)\n",
        "print(results)\n",
        "\n",
        "bleu = evaluate.load(\"bleu\")\n",
        "results = bleu.compute(predictions=predictions, references=references)\n",
        "print(results)"
      ],
      "metadata": {
        "id": "0XnOtAigNA4I"
      },
      "execution_count": null,
      "outputs": []
    },
    {
      "cell_type": "code",
      "source": [
        "predictions = [\"two small dogs walking on a stone path in the woods with bushes in the background\"]\n",
        "references = [[\"Two little puppies chase each other on a stone wall\", \"Two puppies run across flat stones in garden area\",\"Two puppies walking on stones\",\"Two small puppies run along the edge of a stone wall nearby a heavily foliaged area\",\"two small tan puppies walking on a stone path\"]]\n",
        "\n",
        "meteor = evaluate.load('meteor')\n",
        "resultsm = meteor.compute(predictions=predictions, references=references)\n",
        "print(\"test\",  round(resultsm['meteor'], 2))\n",
        "\n",
        "rouge = evaluate.load('rouge')\n",
        "results = rouge.compute(predictions=predictions, references=references)\n",
        "print(results)\n",
        "\n",
        "bleu = evaluate.load(\"bleu\")\n",
        "results = bleu.compute(predictions=predictions, references=references)\n",
        "print(results)"
      ],
      "metadata": {
        "id": "4PaXHHuCNA4I"
      },
      "execution_count": null,
      "outputs": []
    },
    {
      "cell_type": "code",
      "source": [
        "predictions = [\"a woman is sitting on a green bench with a cup of coffee\"]\n",
        "references = [[\"a lone woman sitting on an usual green bench with a cup in her hand\",\"A woman sits on a flower pot at a crowded coffee shop\",\"The woman sat on a green bench and had a drink\",\"Woman holding a drink with a white bag next to her is sitting on a green sculpture\",\"Woman sitting on a turquoise bench with a pillow and a bag near a restaurant\"]]\n",
        "\n",
        "meteor = evaluate.load('meteor')\n",
        "resultsm = meteor.compute(predictions=predictions, references=references)\n",
        "print(\"test\",  round(resultsm['meteor'], 2))\n",
        "\n",
        "rouge = evaluate.load('rouge')\n",
        "results = rouge.compute(predictions=predictions, references=references)\n",
        "print(results)\n",
        "\n",
        "bleu = evaluate.load(\"bleu\")\n",
        "results = bleu.compute(predictions=predictions, references=references)\n",
        "print(results)"
      ],
      "metadata": {
        "id": "JZAgkt8DNA4J"
      },
      "execution_count": null,
      "outputs": []
    },
    {
      "cell_type": "code",
      "source": [
        "predictions = [\"a man standing on top of a rock overlooking a valley\"]\n",
        "references = [[\"A lone man stands on a rocky outcropping and looks out over the wilderness\",\"A man in shorts and a black jacket stands on top of a big rock looking down on hills and valleys\",\"A man is standing on a big rock overlooking a valley\",\"A man stands atop a large mountain of rocks\",\"Man standing on edge of large rock overlooking scenic view\"]]\n",
        "\n",
        "meteor = evaluate.load('meteor')\n",
        "resultsm = meteor.compute(predictions=predictions, references=references)\n",
        "print(\"test\",  round(resultsm['meteor'], 2))\n",
        "\n",
        "rouge = evaluate.load('rouge')\n",
        "results = rouge.compute(predictions=predictions, references=references)\n",
        "print(results)\n",
        "\n",
        "bleu = evaluate.load(\"bleu\")\n",
        "results = bleu.compute(predictions=predictions, references=references)\n",
        "print(results)"
      ],
      "metadata": {
        "id": "hijFx8zGNA4J"
      },
      "execution_count": null,
      "outputs": []
    },
    {
      "cell_type": "code",
      "source": [
        "predictions = [\"a man in a green and yellow uniform with a towel on his head\"]\n",
        "references = [[\"A football player pauses during a game\",\"A football player wears a green jersey with the number \"\" 4 \"\" on it\",\"Greenbay football player is being handed a towel on the field\",\"Green Bay Packer player cooling off\",\"Someone takes a cloth off of a Green Bay Packers football player\"]]\n",
        "\n",
        "meteor = evaluate.load('meteor')\n",
        "resultsm = meteor.compute(predictions=predictions, references=references)\n",
        "print(\"test\",  round(resultsm['meteor'], 2))\n",
        "\n",
        "rouge = evaluate.load('rouge')\n",
        "results = rouge.compute(predictions=predictions, references=references)\n",
        "print(results)\n",
        "\n",
        "bleu = evaluate.load(\"bleu\")\n",
        "results = bleu.compute(predictions=predictions, references=references)\n",
        "print(results)"
      ],
      "metadata": {
        "id": "Y7HQQrXdNA4J"
      },
      "execution_count": null,
      "outputs": []
    }
  ]
}