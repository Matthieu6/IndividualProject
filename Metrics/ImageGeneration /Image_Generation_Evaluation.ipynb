{
  "nbformat": 4,
  "nbformat_minor": 0,
  "metadata": {
    "colab": {
      "provenance": [],
      "authorship_tag": "ABX9TyOmtUOCBFj7vPaYqjLBoOgF",
      "include_colab_link": true
    },
    "kernelspec": {
      "name": "python3",
      "display_name": "Python 3"
    },
    "language_info": {
      "name": "python"
    }
  },
  "cells": [
    {
      "cell_type": "markdown",
      "metadata": {
        "id": "view-in-github",
        "colab_type": "text"
      },
      "source": [
        "<a href=\"https://colab.research.google.com/github/Matthieu6/IndividualProject/blob/main/Metrics/ImageGeneration%20/Image_Generation_Evaluation.ipynb\" target=\"_parent\"><img src=\"https://colab.research.google.com/assets/colab-badge.svg\" alt=\"Open In Colab\"/></a>"
      ]
    },
    {
      "cell_type": "markdown",
      "source": [
        "## Initialisation"
      ],
      "metadata": {
        "id": "GnY156rchbUU"
      }
    },
    {
      "cell_type": "markdown",
      "source": [
        "This section installs the required extensions to run the Image Assessment Techniques such as PSNR, SSIM, FSIM\n"
      ],
      "metadata": {
        "id": "gwv9zo-Uhja7"
      }
    },
    {
      "cell_type": "code",
      "execution_count": null,
      "metadata": {
        "id": "jHsdxfdNhWHy"
      },
      "outputs": [],
      "source": [
        "!pip install image-similarity-measures\n",
        "!pip install image-similarity-measures[speedups]"
      ]
    },
    {
      "cell_type": "markdown",
      "source": [
        "## Metrics\n"
      ],
      "metadata": {
        "id": "UATfYP7khfKM"
      }
    },
    {
      "cell_type": "markdown",
      "source": [
        "Compares reference input images (from Flickr8K) with generated images created. This code takes the reference images saved in the org_base_dir directory, and evaluates PSNR, SSIM and FSIM with generated images saved in various folders under the pred_base_dir directory.\n",
        "\n",
        "\n",
        "The output finds the average PSNR, SSIM and FSIM values for each folder containing generated images. Additionally, it calculates the standard deviation of each score per folder."
      ],
      "metadata": {
        "id": "kZftdDLNhn7m"
      }
    },
    {
      "cell_type": "code",
      "source": [
        "from skimage.metrics import structural_similarity as ssim\n",
        "from image_similarity_measures.evaluate import evaluation\n",
        "import numpy as np\n",
        "import os\n",
        "\n",
        "# Define the base directories\n",
        "org_base_dir = \"/content/drive/MyDrive/ImageReferences\"\n",
        "pred_base_dir = \"/content/drive/MyDrive/ImageGenerationQuestionnaire\"\n",
        "\n",
        "# Function to evaluate image pairs and return their metrics\n",
        "def evaluate_image_pairs(org_img_path, pred_img_path):\n",
        "    return evaluation(org_img_path=org_img_path, pred_img_path=pred_img_path, metrics=[\"psnr\", \"ssim\", \"fsim\"])\n",
        "\n",
        "# Get the list of participant folders\n",
        "participant_folders = os.listdir(pred_base_dir)\n",
        "participant_folders.sort()  # Ensure consistent order\n",
        "\n",
        "# Iterate over participant folders\n",
        "for folder in participant_folders:\n",
        "    folder_path = os.path.join(pred_base_dir, folder)\n",
        "    if not os.path.isdir(folder_path):  # Skip files, process only directories\n",
        "        continue\n",
        "\n",
        "    print(f\"Processing folder: {folder}\")  # Print the folder being processed\n",
        "\n",
        "    # Initialize lists to store metric values for current folder\n",
        "    ssim_values, psnr_values, fsim_values = [], [], []\n",
        "\n",
        "    # Iterate over 15 pairs of images, skipping the specific cases\n",
        "    for i in range(1, 15):\n",
        "        org_img_path = f\"{org_base_dir}/output_image_{i}.jpg\"\n",
        "        pred_img_path = f\"{folder_path}/output_image{i}.png\"\n",
        "\n",
        "        print(f\"Evaluating image pair: {i}\")  # Print the image pair being evaluated\n",
        "\n",
        "        # Evaluate and store metrics\n",
        "        try:\n",
        "            result = evaluate_image_pairs(org_img_path, pred_img_path)\n",
        "            ssim_values.append(result['ssim'])\n",
        "            psnr_values.append(result['psnr'])\n",
        "            fsim_values.append(result['fsim'])\n",
        "        except Exception as e:\n",
        "            print(f\"Error processing image pair {i} in folder {folder}: {e}\")\n",
        "\n",
        "    # Calculate and print the standard deviation and average for the metrics in the current folder\n",
        "    if ssim_values:  # Ensure the list is not empty\n",
        "        print(f\"Folder {folder} - SSIM avg: {np.mean(ssim_values):.3f}, PSNR avg: {np.mean(psnr_values):.3f}, FSIM avg: {np.mean(fsim_values):.3f}, SSIM std: {np.std(ssim_values):.3f}, PSNR std: {np.std(psnr_values):.3f}, FSIM std: {np.std(fsim_values):.3f}\")\n"
      ],
      "metadata": {
        "id": "ihCZhdK0hYqk"
      },
      "execution_count": null,
      "outputs": []
    }
  ]
}