{
  "nbformat": 4,
  "nbformat_minor": 0,
  "metadata": {
    "colab": {
      "provenance": [],
      "collapsed_sections": [
        "Yg948DryJh0F",
        "rc-5s9teJbf-",
        "HNSJmc_tM161",
        "TBrNzgz2M9mE",
        "Jjf-CXQLNA4G",
        "lx6zbOFsKsyo"
      ],
      "authorship_tag": "ABX9TyObvQea9fab6SdeeSo/sebc",
      "include_colab_link": true
    },
    "kernelspec": {
      "name": "python3",
      "display_name": "Python 3"
    },
    "language_info": {
      "name": "python"
    },
    "widgets": {
      "application/vnd.jupyter.widget-state+json": {
        "c891e3bee5a049c4810c1c720c63b0e5": {
          "model_module": "@jupyter-widgets/controls",
          "model_name": "HBoxModel",
          "model_module_version": "1.5.0",
          "state": {
            "_dom_classes": [],
            "_model_module": "@jupyter-widgets/controls",
            "_model_module_version": "1.5.0",
            "_model_name": "HBoxModel",
            "_view_count": null,
            "_view_module": "@jupyter-widgets/controls",
            "_view_module_version": "1.5.0",
            "_view_name": "HBoxView",
            "box_style": "",
            "children": [
              "IPY_MODEL_8e438d4d315144f994d3e12ef386bba1",
              "IPY_MODEL_936a15d23723459685fc98b4b7625f0e",
              "IPY_MODEL_3554836fdaeb45289cc482d2b2c3c62d"
            ],
            "layout": "IPY_MODEL_d8e8be001d3341ddb303b7773b99247e"
          }
        },
        "8e438d4d315144f994d3e12ef386bba1": {
          "model_module": "@jupyter-widgets/controls",
          "model_name": "HTMLModel",
          "model_module_version": "1.5.0",
          "state": {
            "_dom_classes": [],
            "_model_module": "@jupyter-widgets/controls",
            "_model_module_version": "1.5.0",
            "_model_name": "HTMLModel",
            "_view_count": null,
            "_view_module": "@jupyter-widgets/controls",
            "_view_module_version": "1.5.0",
            "_view_name": "HTMLView",
            "description": "",
            "description_tooltip": null,
            "layout": "IPY_MODEL_6897528085754c738e1fac8f53ce3f56",
            "placeholder": "​",
            "style": "IPY_MODEL_ffd16b2d2a3b46cf92e9736e8881e9ef",
            "value": "Downloading builder script: 100%"
          }
        },
        "936a15d23723459685fc98b4b7625f0e": {
          "model_module": "@jupyter-widgets/controls",
          "model_name": "FloatProgressModel",
          "model_module_version": "1.5.0",
          "state": {
            "_dom_classes": [],
            "_model_module": "@jupyter-widgets/controls",
            "_model_module_version": "1.5.0",
            "_model_name": "FloatProgressModel",
            "_view_count": null,
            "_view_module": "@jupyter-widgets/controls",
            "_view_module_version": "1.5.0",
            "_view_name": "ProgressView",
            "bar_style": "success",
            "description": "",
            "description_tooltip": null,
            "layout": "IPY_MODEL_55d99206319d41dbaf325229a60ca08a",
            "max": 4203,
            "min": 0,
            "orientation": "horizontal",
            "style": "IPY_MODEL_7d303182834d4b0aa3642a605c29a609",
            "value": 4203
          }
        },
        "3554836fdaeb45289cc482d2b2c3c62d": {
          "model_module": "@jupyter-widgets/controls",
          "model_name": "HTMLModel",
          "model_module_version": "1.5.0",
          "state": {
            "_dom_classes": [],
            "_model_module": "@jupyter-widgets/controls",
            "_model_module_version": "1.5.0",
            "_model_name": "HTMLModel",
            "_view_count": null,
            "_view_module": "@jupyter-widgets/controls",
            "_view_module_version": "1.5.0",
            "_view_name": "HTMLView",
            "description": "",
            "description_tooltip": null,
            "layout": "IPY_MODEL_6a35650f04e848cdbca1e07d3add848f",
            "placeholder": "​",
            "style": "IPY_MODEL_96c2f45c48494dd1839eb693cb69dc46",
            "value": " 4.20k/4.20k [00:00&lt;00:00, 145kB/s]"
          }
        },
        "d8e8be001d3341ddb303b7773b99247e": {
          "model_module": "@jupyter-widgets/base",
          "model_name": "LayoutModel",
          "model_module_version": "1.2.0",
          "state": {
            "_model_module": "@jupyter-widgets/base",
            "_model_module_version": "1.2.0",
            "_model_name": "LayoutModel",
            "_view_count": null,
            "_view_module": "@jupyter-widgets/base",
            "_view_module_version": "1.2.0",
            "_view_name": "LayoutView",
            "align_content": null,
            "align_items": null,
            "align_self": null,
            "border": null,
            "bottom": null,
            "display": null,
            "flex": null,
            "flex_flow": null,
            "grid_area": null,
            "grid_auto_columns": null,
            "grid_auto_flow": null,
            "grid_auto_rows": null,
            "grid_column": null,
            "grid_gap": null,
            "grid_row": null,
            "grid_template_areas": null,
            "grid_template_columns": null,
            "grid_template_rows": null,
            "height": null,
            "justify_content": null,
            "justify_items": null,
            "left": null,
            "margin": null,
            "max_height": null,
            "max_width": null,
            "min_height": null,
            "min_width": null,
            "object_fit": null,
            "object_position": null,
            "order": null,
            "overflow": null,
            "overflow_x": null,
            "overflow_y": null,
            "padding": null,
            "right": null,
            "top": null,
            "visibility": null,
            "width": null
          }
        },
        "6897528085754c738e1fac8f53ce3f56": {
          "model_module": "@jupyter-widgets/base",
          "model_name": "LayoutModel",
          "model_module_version": "1.2.0",
          "state": {
            "_model_module": "@jupyter-widgets/base",
            "_model_module_version": "1.2.0",
            "_model_name": "LayoutModel",
            "_view_count": null,
            "_view_module": "@jupyter-widgets/base",
            "_view_module_version": "1.2.0",
            "_view_name": "LayoutView",
            "align_content": null,
            "align_items": null,
            "align_self": null,
            "border": null,
            "bottom": null,
            "display": null,
            "flex": null,
            "flex_flow": null,
            "grid_area": null,
            "grid_auto_columns": null,
            "grid_auto_flow": null,
            "grid_auto_rows": null,
            "grid_column": null,
            "grid_gap": null,
            "grid_row": null,
            "grid_template_areas": null,
            "grid_template_columns": null,
            "grid_template_rows": null,
            "height": null,
            "justify_content": null,
            "justify_items": null,
            "left": null,
            "margin": null,
            "max_height": null,
            "max_width": null,
            "min_height": null,
            "min_width": null,
            "object_fit": null,
            "object_position": null,
            "order": null,
            "overflow": null,
            "overflow_x": null,
            "overflow_y": null,
            "padding": null,
            "right": null,
            "top": null,
            "visibility": null,
            "width": null
          }
        },
        "ffd16b2d2a3b46cf92e9736e8881e9ef": {
          "model_module": "@jupyter-widgets/controls",
          "model_name": "DescriptionStyleModel",
          "model_module_version": "1.5.0",
          "state": {
            "_model_module": "@jupyter-widgets/controls",
            "_model_module_version": "1.5.0",
            "_model_name": "DescriptionStyleModel",
            "_view_count": null,
            "_view_module": "@jupyter-widgets/base",
            "_view_module_version": "1.2.0",
            "_view_name": "StyleView",
            "description_width": ""
          }
        },
        "55d99206319d41dbaf325229a60ca08a": {
          "model_module": "@jupyter-widgets/base",
          "model_name": "LayoutModel",
          "model_module_version": "1.2.0",
          "state": {
            "_model_module": "@jupyter-widgets/base",
            "_model_module_version": "1.2.0",
            "_model_name": "LayoutModel",
            "_view_count": null,
            "_view_module": "@jupyter-widgets/base",
            "_view_module_version": "1.2.0",
            "_view_name": "LayoutView",
            "align_content": null,
            "align_items": null,
            "align_self": null,
            "border": null,
            "bottom": null,
            "display": null,
            "flex": null,
            "flex_flow": null,
            "grid_area": null,
            "grid_auto_columns": null,
            "grid_auto_flow": null,
            "grid_auto_rows": null,
            "grid_column": null,
            "grid_gap": null,
            "grid_row": null,
            "grid_template_areas": null,
            "grid_template_columns": null,
            "grid_template_rows": null,
            "height": null,
            "justify_content": null,
            "justify_items": null,
            "left": null,
            "margin": null,
            "max_height": null,
            "max_width": null,
            "min_height": null,
            "min_width": null,
            "object_fit": null,
            "object_position": null,
            "order": null,
            "overflow": null,
            "overflow_x": null,
            "overflow_y": null,
            "padding": null,
            "right": null,
            "top": null,
            "visibility": null,
            "width": null
          }
        },
        "7d303182834d4b0aa3642a605c29a609": {
          "model_module": "@jupyter-widgets/controls",
          "model_name": "ProgressStyleModel",
          "model_module_version": "1.5.0",
          "state": {
            "_model_module": "@jupyter-widgets/controls",
            "_model_module_version": "1.5.0",
            "_model_name": "ProgressStyleModel",
            "_view_count": null,
            "_view_module": "@jupyter-widgets/base",
            "_view_module_version": "1.2.0",
            "_view_name": "StyleView",
            "bar_color": null,
            "description_width": ""
          }
        },
        "6a35650f04e848cdbca1e07d3add848f": {
          "model_module": "@jupyter-widgets/base",
          "model_name": "LayoutModel",
          "model_module_version": "1.2.0",
          "state": {
            "_model_module": "@jupyter-widgets/base",
            "_model_module_version": "1.2.0",
            "_model_name": "LayoutModel",
            "_view_count": null,
            "_view_module": "@jupyter-widgets/base",
            "_view_module_version": "1.2.0",
            "_view_name": "LayoutView",
            "align_content": null,
            "align_items": null,
            "align_self": null,
            "border": null,
            "bottom": null,
            "display": null,
            "flex": null,
            "flex_flow": null,
            "grid_area": null,
            "grid_auto_columns": null,
            "grid_auto_flow": null,
            "grid_auto_rows": null,
            "grid_column": null,
            "grid_gap": null,
            "grid_row": null,
            "grid_template_areas": null,
            "grid_template_columns": null,
            "grid_template_rows": null,
            "height": null,
            "justify_content": null,
            "justify_items": null,
            "left": null,
            "margin": null,
            "max_height": null,
            "max_width": null,
            "min_height": null,
            "min_width": null,
            "object_fit": null,
            "object_position": null,
            "order": null,
            "overflow": null,
            "overflow_x": null,
            "overflow_y": null,
            "padding": null,
            "right": null,
            "top": null,
            "visibility": null,
            "width": null
          }
        },
        "96c2f45c48494dd1839eb693cb69dc46": {
          "model_module": "@jupyter-widgets/controls",
          "model_name": "DescriptionStyleModel",
          "model_module_version": "1.5.0",
          "state": {
            "_model_module": "@jupyter-widgets/controls",
            "_model_module_version": "1.5.0",
            "_model_name": "DescriptionStyleModel",
            "_view_count": null,
            "_view_module": "@jupyter-widgets/base",
            "_view_module_version": "1.2.0",
            "_view_name": "StyleView",
            "description_width": ""
          }
        },
        "2b4d9d23322649edb54e44672fdb858e": {
          "model_module": "@jupyter-widgets/controls",
          "model_name": "HBoxModel",
          "model_module_version": "1.5.0",
          "state": {
            "_dom_classes": [],
            "_model_module": "@jupyter-widgets/controls",
            "_model_module_version": "1.5.0",
            "_model_name": "HBoxModel",
            "_view_count": null,
            "_view_module": "@jupyter-widgets/controls",
            "_view_module_version": "1.5.0",
            "_view_name": "HBoxView",
            "box_style": "",
            "children": [
              "IPY_MODEL_7c253e2e5e1d4fbcbf57f63853864e61",
              "IPY_MODEL_b65120a078cd441cb3308a7d6a71b150",
              "IPY_MODEL_22413f5877b844098bc2de31d8f78c5d"
            ],
            "layout": "IPY_MODEL_acc2b031f3ba4a2bb6254c5b09bb5877"
          }
        },
        "7c253e2e5e1d4fbcbf57f63853864e61": {
          "model_module": "@jupyter-widgets/controls",
          "model_name": "HTMLModel",
          "model_module_version": "1.5.0",
          "state": {
            "_dom_classes": [],
            "_model_module": "@jupyter-widgets/controls",
            "_model_module_version": "1.5.0",
            "_model_name": "HTMLModel",
            "_view_count": null,
            "_view_module": "@jupyter-widgets/controls",
            "_view_module_version": "1.5.0",
            "_view_name": "HTMLView",
            "description": "",
            "description_tooltip": null,
            "layout": "IPY_MODEL_a85f676b0d23493e944dbd156c0a345e",
            "placeholder": "​",
            "style": "IPY_MODEL_ff7ee7048737470ba54f55dffc6d3a0b",
            "value": "Downloading builder script: 100%"
          }
        },
        "b65120a078cd441cb3308a7d6a71b150": {
          "model_module": "@jupyter-widgets/controls",
          "model_name": "FloatProgressModel",
          "model_module_version": "1.5.0",
          "state": {
            "_dom_classes": [],
            "_model_module": "@jupyter-widgets/controls",
            "_model_module_version": "1.5.0",
            "_model_name": "FloatProgressModel",
            "_view_count": null,
            "_view_module": "@jupyter-widgets/controls",
            "_view_module_version": "1.5.0",
            "_view_name": "ProgressView",
            "bar_style": "success",
            "description": "",
            "description_tooltip": null,
            "layout": "IPY_MODEL_d260140528574f32908c6066be816f78",
            "max": 6927,
            "min": 0,
            "orientation": "horizontal",
            "style": "IPY_MODEL_19925e322e314a91b67a8fbe933d8c56",
            "value": 6927
          }
        },
        "22413f5877b844098bc2de31d8f78c5d": {
          "model_module": "@jupyter-widgets/controls",
          "model_name": "HTMLModel",
          "model_module_version": "1.5.0",
          "state": {
            "_dom_classes": [],
            "_model_module": "@jupyter-widgets/controls",
            "_model_module_version": "1.5.0",
            "_model_name": "HTMLModel",
            "_view_count": null,
            "_view_module": "@jupyter-widgets/controls",
            "_view_module_version": "1.5.0",
            "_view_name": "HTMLView",
            "description": "",
            "description_tooltip": null,
            "layout": "IPY_MODEL_3b320291f0a648e9ad488280374998a1",
            "placeholder": "​",
            "style": "IPY_MODEL_bc75b858ccf94c008d751f215c160dd7",
            "value": " 6.93k/6.93k [00:00&lt;00:00, 160kB/s]"
          }
        },
        "acc2b031f3ba4a2bb6254c5b09bb5877": {
          "model_module": "@jupyter-widgets/base",
          "model_name": "LayoutModel",
          "model_module_version": "1.2.0",
          "state": {
            "_model_module": "@jupyter-widgets/base",
            "_model_module_version": "1.2.0",
            "_model_name": "LayoutModel",
            "_view_count": null,
            "_view_module": "@jupyter-widgets/base",
            "_view_module_version": "1.2.0",
            "_view_name": "LayoutView",
            "align_content": null,
            "align_items": null,
            "align_self": null,
            "border": null,
            "bottom": null,
            "display": null,
            "flex": null,
            "flex_flow": null,
            "grid_area": null,
            "grid_auto_columns": null,
            "grid_auto_flow": null,
            "grid_auto_rows": null,
            "grid_column": null,
            "grid_gap": null,
            "grid_row": null,
            "grid_template_areas": null,
            "grid_template_columns": null,
            "grid_template_rows": null,
            "height": null,
            "justify_content": null,
            "justify_items": null,
            "left": null,
            "margin": null,
            "max_height": null,
            "max_width": null,
            "min_height": null,
            "min_width": null,
            "object_fit": null,
            "object_position": null,
            "order": null,
            "overflow": null,
            "overflow_x": null,
            "overflow_y": null,
            "padding": null,
            "right": null,
            "top": null,
            "visibility": null,
            "width": null
          }
        },
        "a85f676b0d23493e944dbd156c0a345e": {
          "model_module": "@jupyter-widgets/base",
          "model_name": "LayoutModel",
          "model_module_version": "1.2.0",
          "state": {
            "_model_module": "@jupyter-widgets/base",
            "_model_module_version": "1.2.0",
            "_model_name": "LayoutModel",
            "_view_count": null,
            "_view_module": "@jupyter-widgets/base",
            "_view_module_version": "1.2.0",
            "_view_name": "LayoutView",
            "align_content": null,
            "align_items": null,
            "align_self": null,
            "border": null,
            "bottom": null,
            "display": null,
            "flex": null,
            "flex_flow": null,
            "grid_area": null,
            "grid_auto_columns": null,
            "grid_auto_flow": null,
            "grid_auto_rows": null,
            "grid_column": null,
            "grid_gap": null,
            "grid_row": null,
            "grid_template_areas": null,
            "grid_template_columns": null,
            "grid_template_rows": null,
            "height": null,
            "justify_content": null,
            "justify_items": null,
            "left": null,
            "margin": null,
            "max_height": null,
            "max_width": null,
            "min_height": null,
            "min_width": null,
            "object_fit": null,
            "object_position": null,
            "order": null,
            "overflow": null,
            "overflow_x": null,
            "overflow_y": null,
            "padding": null,
            "right": null,
            "top": null,
            "visibility": null,
            "width": null
          }
        },
        "ff7ee7048737470ba54f55dffc6d3a0b": {
          "model_module": "@jupyter-widgets/controls",
          "model_name": "DescriptionStyleModel",
          "model_module_version": "1.5.0",
          "state": {
            "_model_module": "@jupyter-widgets/controls",
            "_model_module_version": "1.5.0",
            "_model_name": "DescriptionStyleModel",
            "_view_count": null,
            "_view_module": "@jupyter-widgets/base",
            "_view_module_version": "1.2.0",
            "_view_name": "StyleView",
            "description_width": ""
          }
        },
        "d260140528574f32908c6066be816f78": {
          "model_module": "@jupyter-widgets/base",
          "model_name": "LayoutModel",
          "model_module_version": "1.2.0",
          "state": {
            "_model_module": "@jupyter-widgets/base",
            "_model_module_version": "1.2.0",
            "_model_name": "LayoutModel",
            "_view_count": null,
            "_view_module": "@jupyter-widgets/base",
            "_view_module_version": "1.2.0",
            "_view_name": "LayoutView",
            "align_content": null,
            "align_items": null,
            "align_self": null,
            "border": null,
            "bottom": null,
            "display": null,
            "flex": null,
            "flex_flow": null,
            "grid_area": null,
            "grid_auto_columns": null,
            "grid_auto_flow": null,
            "grid_auto_rows": null,
            "grid_column": null,
            "grid_gap": null,
            "grid_row": null,
            "grid_template_areas": null,
            "grid_template_columns": null,
            "grid_template_rows": null,
            "height": null,
            "justify_content": null,
            "justify_items": null,
            "left": null,
            "margin": null,
            "max_height": null,
            "max_width": null,
            "min_height": null,
            "min_width": null,
            "object_fit": null,
            "object_position": null,
            "order": null,
            "overflow": null,
            "overflow_x": null,
            "overflow_y": null,
            "padding": null,
            "right": null,
            "top": null,
            "visibility": null,
            "width": null
          }
        },
        "19925e322e314a91b67a8fbe933d8c56": {
          "model_module": "@jupyter-widgets/controls",
          "model_name": "ProgressStyleModel",
          "model_module_version": "1.5.0",
          "state": {
            "_model_module": "@jupyter-widgets/controls",
            "_model_module_version": "1.5.0",
            "_model_name": "ProgressStyleModel",
            "_view_count": null,
            "_view_module": "@jupyter-widgets/base",
            "_view_module_version": "1.2.0",
            "_view_name": "StyleView",
            "bar_color": null,
            "description_width": ""
          }
        },
        "3b320291f0a648e9ad488280374998a1": {
          "model_module": "@jupyter-widgets/base",
          "model_name": "LayoutModel",
          "model_module_version": "1.2.0",
          "state": {
            "_model_module": "@jupyter-widgets/base",
            "_model_module_version": "1.2.0",
            "_model_name": "LayoutModel",
            "_view_count": null,
            "_view_module": "@jupyter-widgets/base",
            "_view_module_version": "1.2.0",
            "_view_name": "LayoutView",
            "align_content": null,
            "align_items": null,
            "align_self": null,
            "border": null,
            "bottom": null,
            "display": null,
            "flex": null,
            "flex_flow": null,
            "grid_area": null,
            "grid_auto_columns": null,
            "grid_auto_flow": null,
            "grid_auto_rows": null,
            "grid_column": null,
            "grid_gap": null,
            "grid_row": null,
            "grid_template_areas": null,
            "grid_template_columns": null,
            "grid_template_rows": null,
            "height": null,
            "justify_content": null,
            "justify_items": null,
            "left": null,
            "margin": null,
            "max_height": null,
            "max_width": null,
            "min_height": null,
            "min_width": null,
            "object_fit": null,
            "object_position": null,
            "order": null,
            "overflow": null,
            "overflow_x": null,
            "overflow_y": null,
            "padding": null,
            "right": null,
            "top": null,
            "visibility": null,
            "width": null
          }
        },
        "bc75b858ccf94c008d751f215c160dd7": {
          "model_module": "@jupyter-widgets/controls",
          "model_name": "DescriptionStyleModel",
          "model_module_version": "1.5.0",
          "state": {
            "_model_module": "@jupyter-widgets/controls",
            "_model_module_version": "1.5.0",
            "_model_name": "DescriptionStyleModel",
            "_view_count": null,
            "_view_module": "@jupyter-widgets/base",
            "_view_module_version": "1.2.0",
            "_view_name": "StyleView",
            "description_width": ""
          }
        },
        "df1cfca869704c7abe80527a278a4ae6": {
          "model_module": "@jupyter-widgets/controls",
          "model_name": "HBoxModel",
          "model_module_version": "1.5.0",
          "state": {
            "_dom_classes": [],
            "_model_module": "@jupyter-widgets/controls",
            "_model_module_version": "1.5.0",
            "_model_name": "HBoxModel",
            "_view_count": null,
            "_view_module": "@jupyter-widgets/controls",
            "_view_module_version": "1.5.0",
            "_view_name": "HBoxView",
            "box_style": "",
            "children": [
              "IPY_MODEL_538cda3ae86140f888653fcf717898bd",
              "IPY_MODEL_9fe184bb3a0146e1805b67ef7ff56a75",
              "IPY_MODEL_fca2296d2bfe4a599098a0bd973a06dc"
            ],
            "layout": "IPY_MODEL_4f5b2bf04fff479298976a69c5fc1748"
          }
        },
        "538cda3ae86140f888653fcf717898bd": {
          "model_module": "@jupyter-widgets/controls",
          "model_name": "HTMLModel",
          "model_module_version": "1.5.0",
          "state": {
            "_dom_classes": [],
            "_model_module": "@jupyter-widgets/controls",
            "_model_module_version": "1.5.0",
            "_model_name": "HTMLModel",
            "_view_count": null,
            "_view_module": "@jupyter-widgets/controls",
            "_view_module_version": "1.5.0",
            "_view_name": "HTMLView",
            "description": "",
            "description_tooltip": null,
            "layout": "IPY_MODEL_ca4d5ef0cd51419b8925013ffb356446",
            "placeholder": "​",
            "style": "IPY_MODEL_b89d2687595f4ffdbba0c2f11df470ab",
            "value": "Downloading builder script: 100%"
          }
        },
        "9fe184bb3a0146e1805b67ef7ff56a75": {
          "model_module": "@jupyter-widgets/controls",
          "model_name": "FloatProgressModel",
          "model_module_version": "1.5.0",
          "state": {
            "_dom_classes": [],
            "_model_module": "@jupyter-widgets/controls",
            "_model_module_version": "1.5.0",
            "_model_name": "FloatProgressModel",
            "_view_count": null,
            "_view_module": "@jupyter-widgets/controls",
            "_view_module_version": "1.5.0",
            "_view_name": "ProgressView",
            "bar_style": "success",
            "description": "",
            "description_tooltip": null,
            "layout": "IPY_MODEL_6ebfa06147d94e3c8debf47c909fb43d",
            "max": 6270,
            "min": 0,
            "orientation": "horizontal",
            "style": "IPY_MODEL_6118019690e94a84bd57f56791da910b",
            "value": 6270
          }
        },
        "fca2296d2bfe4a599098a0bd973a06dc": {
          "model_module": "@jupyter-widgets/controls",
          "model_name": "HTMLModel",
          "model_module_version": "1.5.0",
          "state": {
            "_dom_classes": [],
            "_model_module": "@jupyter-widgets/controls",
            "_model_module_version": "1.5.0",
            "_model_name": "HTMLModel",
            "_view_count": null,
            "_view_module": "@jupyter-widgets/controls",
            "_view_module_version": "1.5.0",
            "_view_name": "HTMLView",
            "description": "",
            "description_tooltip": null,
            "layout": "IPY_MODEL_2521ee3832fd4e41b54805b558e830ad",
            "placeholder": "​",
            "style": "IPY_MODEL_377cb1789a9642e7a3da9ba381a866f0",
            "value": " 6.27k/6.27k [00:00&lt;00:00, 379kB/s]"
          }
        },
        "4f5b2bf04fff479298976a69c5fc1748": {
          "model_module": "@jupyter-widgets/base",
          "model_name": "LayoutModel",
          "model_module_version": "1.2.0",
          "state": {
            "_model_module": "@jupyter-widgets/base",
            "_model_module_version": "1.2.0",
            "_model_name": "LayoutModel",
            "_view_count": null,
            "_view_module": "@jupyter-widgets/base",
            "_view_module_version": "1.2.0",
            "_view_name": "LayoutView",
            "align_content": null,
            "align_items": null,
            "align_self": null,
            "border": null,
            "bottom": null,
            "display": null,
            "flex": null,
            "flex_flow": null,
            "grid_area": null,
            "grid_auto_columns": null,
            "grid_auto_flow": null,
            "grid_auto_rows": null,
            "grid_column": null,
            "grid_gap": null,
            "grid_row": null,
            "grid_template_areas": null,
            "grid_template_columns": null,
            "grid_template_rows": null,
            "height": null,
            "justify_content": null,
            "justify_items": null,
            "left": null,
            "margin": null,
            "max_height": null,
            "max_width": null,
            "min_height": null,
            "min_width": null,
            "object_fit": null,
            "object_position": null,
            "order": null,
            "overflow": null,
            "overflow_x": null,
            "overflow_y": null,
            "padding": null,
            "right": null,
            "top": null,
            "visibility": null,
            "width": null
          }
        },
        "ca4d5ef0cd51419b8925013ffb356446": {
          "model_module": "@jupyter-widgets/base",
          "model_name": "LayoutModel",
          "model_module_version": "1.2.0",
          "state": {
            "_model_module": "@jupyter-widgets/base",
            "_model_module_version": "1.2.0",
            "_model_name": "LayoutModel",
            "_view_count": null,
            "_view_module": "@jupyter-widgets/base",
            "_view_module_version": "1.2.0",
            "_view_name": "LayoutView",
            "align_content": null,
            "align_items": null,
            "align_self": null,
            "border": null,
            "bottom": null,
            "display": null,
            "flex": null,
            "flex_flow": null,
            "grid_area": null,
            "grid_auto_columns": null,
            "grid_auto_flow": null,
            "grid_auto_rows": null,
            "grid_column": null,
            "grid_gap": null,
            "grid_row": null,
            "grid_template_areas": null,
            "grid_template_columns": null,
            "grid_template_rows": null,
            "height": null,
            "justify_content": null,
            "justify_items": null,
            "left": null,
            "margin": null,
            "max_height": null,
            "max_width": null,
            "min_height": null,
            "min_width": null,
            "object_fit": null,
            "object_position": null,
            "order": null,
            "overflow": null,
            "overflow_x": null,
            "overflow_y": null,
            "padding": null,
            "right": null,
            "top": null,
            "visibility": null,
            "width": null
          }
        },
        "b89d2687595f4ffdbba0c2f11df470ab": {
          "model_module": "@jupyter-widgets/controls",
          "model_name": "DescriptionStyleModel",
          "model_module_version": "1.5.0",
          "state": {
            "_model_module": "@jupyter-widgets/controls",
            "_model_module_version": "1.5.0",
            "_model_name": "DescriptionStyleModel",
            "_view_count": null,
            "_view_module": "@jupyter-widgets/base",
            "_view_module_version": "1.2.0",
            "_view_name": "StyleView",
            "description_width": ""
          }
        },
        "6ebfa06147d94e3c8debf47c909fb43d": {
          "model_module": "@jupyter-widgets/base",
          "model_name": "LayoutModel",
          "model_module_version": "1.2.0",
          "state": {
            "_model_module": "@jupyter-widgets/base",
            "_model_module_version": "1.2.0",
            "_model_name": "LayoutModel",
            "_view_count": null,
            "_view_module": "@jupyter-widgets/base",
            "_view_module_version": "1.2.0",
            "_view_name": "LayoutView",
            "align_content": null,
            "align_items": null,
            "align_self": null,
            "border": null,
            "bottom": null,
            "display": null,
            "flex": null,
            "flex_flow": null,
            "grid_area": null,
            "grid_auto_columns": null,
            "grid_auto_flow": null,
            "grid_auto_rows": null,
            "grid_column": null,
            "grid_gap": null,
            "grid_row": null,
            "grid_template_areas": null,
            "grid_template_columns": null,
            "grid_template_rows": null,
            "height": null,
            "justify_content": null,
            "justify_items": null,
            "left": null,
            "margin": null,
            "max_height": null,
            "max_width": null,
            "min_height": null,
            "min_width": null,
            "object_fit": null,
            "object_position": null,
            "order": null,
            "overflow": null,
            "overflow_x": null,
            "overflow_y": null,
            "padding": null,
            "right": null,
            "top": null,
            "visibility": null,
            "width": null
          }
        },
        "6118019690e94a84bd57f56791da910b": {
          "model_module": "@jupyter-widgets/controls",
          "model_name": "ProgressStyleModel",
          "model_module_version": "1.5.0",
          "state": {
            "_model_module": "@jupyter-widgets/controls",
            "_model_module_version": "1.5.0",
            "_model_name": "ProgressStyleModel",
            "_view_count": null,
            "_view_module": "@jupyter-widgets/base",
            "_view_module_version": "1.2.0",
            "_view_name": "StyleView",
            "bar_color": null,
            "description_width": ""
          }
        },
        "2521ee3832fd4e41b54805b558e830ad": {
          "model_module": "@jupyter-widgets/base",
          "model_name": "LayoutModel",
          "model_module_version": "1.2.0",
          "state": {
            "_model_module": "@jupyter-widgets/base",
            "_model_module_version": "1.2.0",
            "_model_name": "LayoutModel",
            "_view_count": null,
            "_view_module": "@jupyter-widgets/base",
            "_view_module_version": "1.2.0",
            "_view_name": "LayoutView",
            "align_content": null,
            "align_items": null,
            "align_self": null,
            "border": null,
            "bottom": null,
            "display": null,
            "flex": null,
            "flex_flow": null,
            "grid_area": null,
            "grid_auto_columns": null,
            "grid_auto_flow": null,
            "grid_auto_rows": null,
            "grid_column": null,
            "grid_gap": null,
            "grid_row": null,
            "grid_template_areas": null,
            "grid_template_columns": null,
            "grid_template_rows": null,
            "height": null,
            "justify_content": null,
            "justify_items": null,
            "left": null,
            "margin": null,
            "max_height": null,
            "max_width": null,
            "min_height": null,
            "min_width": null,
            "object_fit": null,
            "object_position": null,
            "order": null,
            "overflow": null,
            "overflow_x": null,
            "overflow_y": null,
            "padding": null,
            "right": null,
            "top": null,
            "visibility": null,
            "width": null
          }
        },
        "377cb1789a9642e7a3da9ba381a866f0": {
          "model_module": "@jupyter-widgets/controls",
          "model_name": "DescriptionStyleModel",
          "model_module_version": "1.5.0",
          "state": {
            "_model_module": "@jupyter-widgets/controls",
            "_model_module_version": "1.5.0",
            "_model_name": "DescriptionStyleModel",
            "_view_count": null,
            "_view_module": "@jupyter-widgets/base",
            "_view_module_version": "1.2.0",
            "_view_name": "StyleView",
            "description_width": ""
          }
        },
        "e07fe9c24ff141a5a21336fdf1b71427": {
          "model_module": "@jupyter-widgets/controls",
          "model_name": "HBoxModel",
          "model_module_version": "1.5.0",
          "state": {
            "_dom_classes": [],
            "_model_module": "@jupyter-widgets/controls",
            "_model_module_version": "1.5.0",
            "_model_name": "HBoxModel",
            "_view_count": null,
            "_view_module": "@jupyter-widgets/controls",
            "_view_module_version": "1.5.0",
            "_view_name": "HBoxView",
            "box_style": "",
            "children": [
              "IPY_MODEL_f827d1943b6444ed8b07be7addcac6fc",
              "IPY_MODEL_cbb165699bb1477392afddb879bd8e89",
              "IPY_MODEL_53715393869d49428549a5546f861f31"
            ],
            "layout": "IPY_MODEL_8f7e8a91ea1a431ca368e12be72478ff"
          }
        },
        "f827d1943b6444ed8b07be7addcac6fc": {
          "model_module": "@jupyter-widgets/controls",
          "model_name": "HTMLModel",
          "model_module_version": "1.5.0",
          "state": {
            "_dom_classes": [],
            "_model_module": "@jupyter-widgets/controls",
            "_model_module_version": "1.5.0",
            "_model_name": "HTMLModel",
            "_view_count": null,
            "_view_module": "@jupyter-widgets/controls",
            "_view_module_version": "1.5.0",
            "_view_name": "HTMLView",
            "description": "",
            "description_tooltip": null,
            "layout": "IPY_MODEL_a59fc2db38cf40db80182d98a2daf5bc",
            "placeholder": "​",
            "style": "IPY_MODEL_da8b0283c8f043e2b7a67fb3629dc39d",
            "value": "Downloading builder script: 100%"
          }
        },
        "cbb165699bb1477392afddb879bd8e89": {
          "model_module": "@jupyter-widgets/controls",
          "model_name": "FloatProgressModel",
          "model_module_version": "1.5.0",
          "state": {
            "_dom_classes": [],
            "_model_module": "@jupyter-widgets/controls",
            "_model_module_version": "1.5.0",
            "_model_name": "FloatProgressModel",
            "_view_count": null,
            "_view_module": "@jupyter-widgets/controls",
            "_view_module_version": "1.5.0",
            "_view_name": "ProgressView",
            "bar_style": "success",
            "description": "",
            "description_tooltip": null,
            "layout": "IPY_MODEL_65c760b9df8b44fca4d6910d572b5637",
            "max": 5937,
            "min": 0,
            "orientation": "horizontal",
            "style": "IPY_MODEL_474ecaed6de448edbf7e11af8c3c6528",
            "value": 5937
          }
        },
        "53715393869d49428549a5546f861f31": {
          "model_module": "@jupyter-widgets/controls",
          "model_name": "HTMLModel",
          "model_module_version": "1.5.0",
          "state": {
            "_dom_classes": [],
            "_model_module": "@jupyter-widgets/controls",
            "_model_module_version": "1.5.0",
            "_model_name": "HTMLModel",
            "_view_count": null,
            "_view_module": "@jupyter-widgets/controls",
            "_view_module_version": "1.5.0",
            "_view_name": "HTMLView",
            "description": "",
            "description_tooltip": null,
            "layout": "IPY_MODEL_0de8f89df3c4449d9c64435120a6042b",
            "placeholder": "​",
            "style": "IPY_MODEL_3606453118784a2e8ae16d00a3d5ca94",
            "value": " 5.94k/5.94k [00:00&lt;00:00, 248kB/s]"
          }
        },
        "8f7e8a91ea1a431ca368e12be72478ff": {
          "model_module": "@jupyter-widgets/base",
          "model_name": "LayoutModel",
          "model_module_version": "1.2.0",
          "state": {
            "_model_module": "@jupyter-widgets/base",
            "_model_module_version": "1.2.0",
            "_model_name": "LayoutModel",
            "_view_count": null,
            "_view_module": "@jupyter-widgets/base",
            "_view_module_version": "1.2.0",
            "_view_name": "LayoutView",
            "align_content": null,
            "align_items": null,
            "align_self": null,
            "border": null,
            "bottom": null,
            "display": null,
            "flex": null,
            "flex_flow": null,
            "grid_area": null,
            "grid_auto_columns": null,
            "grid_auto_flow": null,
            "grid_auto_rows": null,
            "grid_column": null,
            "grid_gap": null,
            "grid_row": null,
            "grid_template_areas": null,
            "grid_template_columns": null,
            "grid_template_rows": null,
            "height": null,
            "justify_content": null,
            "justify_items": null,
            "left": null,
            "margin": null,
            "max_height": null,
            "max_width": null,
            "min_height": null,
            "min_width": null,
            "object_fit": null,
            "object_position": null,
            "order": null,
            "overflow": null,
            "overflow_x": null,
            "overflow_y": null,
            "padding": null,
            "right": null,
            "top": null,
            "visibility": null,
            "width": null
          }
        },
        "a59fc2db38cf40db80182d98a2daf5bc": {
          "model_module": "@jupyter-widgets/base",
          "model_name": "LayoutModel",
          "model_module_version": "1.2.0",
          "state": {
            "_model_module": "@jupyter-widgets/base",
            "_model_module_version": "1.2.0",
            "_model_name": "LayoutModel",
            "_view_count": null,
            "_view_module": "@jupyter-widgets/base",
            "_view_module_version": "1.2.0",
            "_view_name": "LayoutView",
            "align_content": null,
            "align_items": null,
            "align_self": null,
            "border": null,
            "bottom": null,
            "display": null,
            "flex": null,
            "flex_flow": null,
            "grid_area": null,
            "grid_auto_columns": null,
            "grid_auto_flow": null,
            "grid_auto_rows": null,
            "grid_column": null,
            "grid_gap": null,
            "grid_row": null,
            "grid_template_areas": null,
            "grid_template_columns": null,
            "grid_template_rows": null,
            "height": null,
            "justify_content": null,
            "justify_items": null,
            "left": null,
            "margin": null,
            "max_height": null,
            "max_width": null,
            "min_height": null,
            "min_width": null,
            "object_fit": null,
            "object_position": null,
            "order": null,
            "overflow": null,
            "overflow_x": null,
            "overflow_y": null,
            "padding": null,
            "right": null,
            "top": null,
            "visibility": null,
            "width": null
          }
        },
        "da8b0283c8f043e2b7a67fb3629dc39d": {
          "model_module": "@jupyter-widgets/controls",
          "model_name": "DescriptionStyleModel",
          "model_module_version": "1.5.0",
          "state": {
            "_model_module": "@jupyter-widgets/controls",
            "_model_module_version": "1.5.0",
            "_model_name": "DescriptionStyleModel",
            "_view_count": null,
            "_view_module": "@jupyter-widgets/base",
            "_view_module_version": "1.2.0",
            "_view_name": "StyleView",
            "description_width": ""
          }
        },
        "65c760b9df8b44fca4d6910d572b5637": {
          "model_module": "@jupyter-widgets/base",
          "model_name": "LayoutModel",
          "model_module_version": "1.2.0",
          "state": {
            "_model_module": "@jupyter-widgets/base",
            "_model_module_version": "1.2.0",
            "_model_name": "LayoutModel",
            "_view_count": null,
            "_view_module": "@jupyter-widgets/base",
            "_view_module_version": "1.2.0",
            "_view_name": "LayoutView",
            "align_content": null,
            "align_items": null,
            "align_self": null,
            "border": null,
            "bottom": null,
            "display": null,
            "flex": null,
            "flex_flow": null,
            "grid_area": null,
            "grid_auto_columns": null,
            "grid_auto_flow": null,
            "grid_auto_rows": null,
            "grid_column": null,
            "grid_gap": null,
            "grid_row": null,
            "grid_template_areas": null,
            "grid_template_columns": null,
            "grid_template_rows": null,
            "height": null,
            "justify_content": null,
            "justify_items": null,
            "left": null,
            "margin": null,
            "max_height": null,
            "max_width": null,
            "min_height": null,
            "min_width": null,
            "object_fit": null,
            "object_position": null,
            "order": null,
            "overflow": null,
            "overflow_x": null,
            "overflow_y": null,
            "padding": null,
            "right": null,
            "top": null,
            "visibility": null,
            "width": null
          }
        },
        "474ecaed6de448edbf7e11af8c3c6528": {
          "model_module": "@jupyter-widgets/controls",
          "model_name": "ProgressStyleModel",
          "model_module_version": "1.5.0",
          "state": {
            "_model_module": "@jupyter-widgets/controls",
            "_model_module_version": "1.5.0",
            "_model_name": "ProgressStyleModel",
            "_view_count": null,
            "_view_module": "@jupyter-widgets/base",
            "_view_module_version": "1.2.0",
            "_view_name": "StyleView",
            "bar_color": null,
            "description_width": ""
          }
        },
        "0de8f89df3c4449d9c64435120a6042b": {
          "model_module": "@jupyter-widgets/base",
          "model_name": "LayoutModel",
          "model_module_version": "1.2.0",
          "state": {
            "_model_module": "@jupyter-widgets/base",
            "_model_module_version": "1.2.0",
            "_model_name": "LayoutModel",
            "_view_count": null,
            "_view_module": "@jupyter-widgets/base",
            "_view_module_version": "1.2.0",
            "_view_name": "LayoutView",
            "align_content": null,
            "align_items": null,
            "align_self": null,
            "border": null,
            "bottom": null,
            "display": null,
            "flex": null,
            "flex_flow": null,
            "grid_area": null,
            "grid_auto_columns": null,
            "grid_auto_flow": null,
            "grid_auto_rows": null,
            "grid_column": null,
            "grid_gap": null,
            "grid_row": null,
            "grid_template_areas": null,
            "grid_template_columns": null,
            "grid_template_rows": null,
            "height": null,
            "justify_content": null,
            "justify_items": null,
            "left": null,
            "margin": null,
            "max_height": null,
            "max_width": null,
            "min_height": null,
            "min_width": null,
            "object_fit": null,
            "object_position": null,
            "order": null,
            "overflow": null,
            "overflow_x": null,
            "overflow_y": null,
            "padding": null,
            "right": null,
            "top": null,
            "visibility": null,
            "width": null
          }
        },
        "3606453118784a2e8ae16d00a3d5ca94": {
          "model_module": "@jupyter-widgets/controls",
          "model_name": "DescriptionStyleModel",
          "model_module_version": "1.5.0",
          "state": {
            "_model_module": "@jupyter-widgets/controls",
            "_model_module_version": "1.5.0",
            "_model_name": "DescriptionStyleModel",
            "_view_count": null,
            "_view_module": "@jupyter-widgets/base",
            "_view_module_version": "1.2.0",
            "_view_name": "StyleView",
            "description_width": ""
          }
        },
        "d6aa8c98ccad43eca4a9c07afa097b37": {
          "model_module": "@jupyter-widgets/controls",
          "model_name": "HBoxModel",
          "model_module_version": "1.5.0",
          "state": {
            "_dom_classes": [],
            "_model_module": "@jupyter-widgets/controls",
            "_model_module_version": "1.5.0",
            "_model_name": "HBoxModel",
            "_view_count": null,
            "_view_module": "@jupyter-widgets/controls",
            "_view_module_version": "1.5.0",
            "_view_name": "HBoxView",
            "box_style": "",
            "children": [
              "IPY_MODEL_f8d966291db547078feb66c99b3d1e09",
              "IPY_MODEL_a238f9766739485093964ec9fcb29ca6",
              "IPY_MODEL_52c56d48782e4e7fafb1ddd489728ca7"
            ],
            "layout": "IPY_MODEL_c8f53e06cf894b3eb2da59a72398be8a"
          }
        },
        "f8d966291db547078feb66c99b3d1e09": {
          "model_module": "@jupyter-widgets/controls",
          "model_name": "HTMLModel",
          "model_module_version": "1.5.0",
          "state": {
            "_dom_classes": [],
            "_model_module": "@jupyter-widgets/controls",
            "_model_module_version": "1.5.0",
            "_model_name": "HTMLModel",
            "_view_count": null,
            "_view_module": "@jupyter-widgets/controls",
            "_view_module_version": "1.5.0",
            "_view_name": "HTMLView",
            "description": "",
            "description_tooltip": null,
            "layout": "IPY_MODEL_e36e4512ba504ea39b93b35d0d39138b",
            "placeholder": "​",
            "style": "IPY_MODEL_c305690c4a9e48e6912faf8fa9ae44c0",
            "value": "Downloading extra modules: "
          }
        },
        "a238f9766739485093964ec9fcb29ca6": {
          "model_module": "@jupyter-widgets/controls",
          "model_name": "FloatProgressModel",
          "model_module_version": "1.5.0",
          "state": {
            "_dom_classes": [],
            "_model_module": "@jupyter-widgets/controls",
            "_model_module_version": "1.5.0",
            "_model_name": "FloatProgressModel",
            "_view_count": null,
            "_view_module": "@jupyter-widgets/controls",
            "_view_module_version": "1.5.0",
            "_view_name": "ProgressView",
            "bar_style": "success",
            "description": "",
            "description_tooltip": null,
            "layout": "IPY_MODEL_9a7c05b6a6ec40c1bde3a2462279c271",
            "max": 1554,
            "min": 0,
            "orientation": "horizontal",
            "style": "IPY_MODEL_99c3f7f39d7b45509b98aeade695eb86",
            "value": 1554
          }
        },
        "52c56d48782e4e7fafb1ddd489728ca7": {
          "model_module": "@jupyter-widgets/controls",
          "model_name": "HTMLModel",
          "model_module_version": "1.5.0",
          "state": {
            "_dom_classes": [],
            "_model_module": "@jupyter-widgets/controls",
            "_model_module_version": "1.5.0",
            "_model_name": "HTMLModel",
            "_view_count": null,
            "_view_module": "@jupyter-widgets/controls",
            "_view_module_version": "1.5.0",
            "_view_name": "HTMLView",
            "description": "",
            "description_tooltip": null,
            "layout": "IPY_MODEL_0ddf8062e82b43d7a331e9b8d940d170",
            "placeholder": "​",
            "style": "IPY_MODEL_2cf4df021ed94173be7f2bc698da5239",
            "value": " 4.07k/? [00:00&lt;00:00, 175kB/s]"
          }
        },
        "c8f53e06cf894b3eb2da59a72398be8a": {
          "model_module": "@jupyter-widgets/base",
          "model_name": "LayoutModel",
          "model_module_version": "1.2.0",
          "state": {
            "_model_module": "@jupyter-widgets/base",
            "_model_module_version": "1.2.0",
            "_model_name": "LayoutModel",
            "_view_count": null,
            "_view_module": "@jupyter-widgets/base",
            "_view_module_version": "1.2.0",
            "_view_name": "LayoutView",
            "align_content": null,
            "align_items": null,
            "align_self": null,
            "border": null,
            "bottom": null,
            "display": null,
            "flex": null,
            "flex_flow": null,
            "grid_area": null,
            "grid_auto_columns": null,
            "grid_auto_flow": null,
            "grid_auto_rows": null,
            "grid_column": null,
            "grid_gap": null,
            "grid_row": null,
            "grid_template_areas": null,
            "grid_template_columns": null,
            "grid_template_rows": null,
            "height": null,
            "justify_content": null,
            "justify_items": null,
            "left": null,
            "margin": null,
            "max_height": null,
            "max_width": null,
            "min_height": null,
            "min_width": null,
            "object_fit": null,
            "object_position": null,
            "order": null,
            "overflow": null,
            "overflow_x": null,
            "overflow_y": null,
            "padding": null,
            "right": null,
            "top": null,
            "visibility": null,
            "width": null
          }
        },
        "e36e4512ba504ea39b93b35d0d39138b": {
          "model_module": "@jupyter-widgets/base",
          "model_name": "LayoutModel",
          "model_module_version": "1.2.0",
          "state": {
            "_model_module": "@jupyter-widgets/base",
            "_model_module_version": "1.2.0",
            "_model_name": "LayoutModel",
            "_view_count": null,
            "_view_module": "@jupyter-widgets/base",
            "_view_module_version": "1.2.0",
            "_view_name": "LayoutView",
            "align_content": null,
            "align_items": null,
            "align_self": null,
            "border": null,
            "bottom": null,
            "display": null,
            "flex": null,
            "flex_flow": null,
            "grid_area": null,
            "grid_auto_columns": null,
            "grid_auto_flow": null,
            "grid_auto_rows": null,
            "grid_column": null,
            "grid_gap": null,
            "grid_row": null,
            "grid_template_areas": null,
            "grid_template_columns": null,
            "grid_template_rows": null,
            "height": null,
            "justify_content": null,
            "justify_items": null,
            "left": null,
            "margin": null,
            "max_height": null,
            "max_width": null,
            "min_height": null,
            "min_width": null,
            "object_fit": null,
            "object_position": null,
            "order": null,
            "overflow": null,
            "overflow_x": null,
            "overflow_y": null,
            "padding": null,
            "right": null,
            "top": null,
            "visibility": null,
            "width": null
          }
        },
        "c305690c4a9e48e6912faf8fa9ae44c0": {
          "model_module": "@jupyter-widgets/controls",
          "model_name": "DescriptionStyleModel",
          "model_module_version": "1.5.0",
          "state": {
            "_model_module": "@jupyter-widgets/controls",
            "_model_module_version": "1.5.0",
            "_model_name": "DescriptionStyleModel",
            "_view_count": null,
            "_view_module": "@jupyter-widgets/base",
            "_view_module_version": "1.2.0",
            "_view_name": "StyleView",
            "description_width": ""
          }
        },
        "9a7c05b6a6ec40c1bde3a2462279c271": {
          "model_module": "@jupyter-widgets/base",
          "model_name": "LayoutModel",
          "model_module_version": "1.2.0",
          "state": {
            "_model_module": "@jupyter-widgets/base",
            "_model_module_version": "1.2.0",
            "_model_name": "LayoutModel",
            "_view_count": null,
            "_view_module": "@jupyter-widgets/base",
            "_view_module_version": "1.2.0",
            "_view_name": "LayoutView",
            "align_content": null,
            "align_items": null,
            "align_self": null,
            "border": null,
            "bottom": null,
            "display": null,
            "flex": null,
            "flex_flow": null,
            "grid_area": null,
            "grid_auto_columns": null,
            "grid_auto_flow": null,
            "grid_auto_rows": null,
            "grid_column": null,
            "grid_gap": null,
            "grid_row": null,
            "grid_template_areas": null,
            "grid_template_columns": null,
            "grid_template_rows": null,
            "height": null,
            "justify_content": null,
            "justify_items": null,
            "left": null,
            "margin": null,
            "max_height": null,
            "max_width": null,
            "min_height": null,
            "min_width": null,
            "object_fit": null,
            "object_position": null,
            "order": null,
            "overflow": null,
            "overflow_x": null,
            "overflow_y": null,
            "padding": null,
            "right": null,
            "top": null,
            "visibility": null,
            "width": null
          }
        },
        "99c3f7f39d7b45509b98aeade695eb86": {
          "model_module": "@jupyter-widgets/controls",
          "model_name": "ProgressStyleModel",
          "model_module_version": "1.5.0",
          "state": {
            "_model_module": "@jupyter-widgets/controls",
            "_model_module_version": "1.5.0",
            "_model_name": "ProgressStyleModel",
            "_view_count": null,
            "_view_module": "@jupyter-widgets/base",
            "_view_module_version": "1.2.0",
            "_view_name": "StyleView",
            "bar_color": null,
            "description_width": ""
          }
        },
        "0ddf8062e82b43d7a331e9b8d940d170": {
          "model_module": "@jupyter-widgets/base",
          "model_name": "LayoutModel",
          "model_module_version": "1.2.0",
          "state": {
            "_model_module": "@jupyter-widgets/base",
            "_model_module_version": "1.2.0",
            "_model_name": "LayoutModel",
            "_view_count": null,
            "_view_module": "@jupyter-widgets/base",
            "_view_module_version": "1.2.0",
            "_view_name": "LayoutView",
            "align_content": null,
            "align_items": null,
            "align_self": null,
            "border": null,
            "bottom": null,
            "display": null,
            "flex": null,
            "flex_flow": null,
            "grid_area": null,
            "grid_auto_columns": null,
            "grid_auto_flow": null,
            "grid_auto_rows": null,
            "grid_column": null,
            "grid_gap": null,
            "grid_row": null,
            "grid_template_areas": null,
            "grid_template_columns": null,
            "grid_template_rows": null,
            "height": null,
            "justify_content": null,
            "justify_items": null,
            "left": null,
            "margin": null,
            "max_height": null,
            "max_width": null,
            "min_height": null,
            "min_width": null,
            "object_fit": null,
            "object_position": null,
            "order": null,
            "overflow": null,
            "overflow_x": null,
            "overflow_y": null,
            "padding": null,
            "right": null,
            "top": null,
            "visibility": null,
            "width": null
          }
        },
        "2cf4df021ed94173be7f2bc698da5239": {
          "model_module": "@jupyter-widgets/controls",
          "model_name": "DescriptionStyleModel",
          "model_module_version": "1.5.0",
          "state": {
            "_model_module": "@jupyter-widgets/controls",
            "_model_module_version": "1.5.0",
            "_model_name": "DescriptionStyleModel",
            "_view_count": null,
            "_view_module": "@jupyter-widgets/base",
            "_view_module_version": "1.2.0",
            "_view_name": "StyleView",
            "description_width": ""
          }
        },
        "f50d11f8c1394018979e5f18073af534": {
          "model_module": "@jupyter-widgets/controls",
          "model_name": "HBoxModel",
          "model_module_version": "1.5.0",
          "state": {
            "_dom_classes": [],
            "_model_module": "@jupyter-widgets/controls",
            "_model_module_version": "1.5.0",
            "_model_name": "HBoxModel",
            "_view_count": null,
            "_view_module": "@jupyter-widgets/controls",
            "_view_module_version": "1.5.0",
            "_view_name": "HBoxView",
            "box_style": "",
            "children": [
              "IPY_MODEL_b7b7804d39854d1c8944a12be68254d6",
              "IPY_MODEL_4642bc9abe804bf3821d8fc05ff38c8b",
              "IPY_MODEL_889fb5a05d794bec9c36c5bcbeef34f2"
            ],
            "layout": "IPY_MODEL_dd2214c2d2664c8799a7d681873b2b0a"
          }
        },
        "b7b7804d39854d1c8944a12be68254d6": {
          "model_module": "@jupyter-widgets/controls",
          "model_name": "HTMLModel",
          "model_module_version": "1.5.0",
          "state": {
            "_dom_classes": [],
            "_model_module": "@jupyter-widgets/controls",
            "_model_module_version": "1.5.0",
            "_model_name": "HTMLModel",
            "_view_count": null,
            "_view_module": "@jupyter-widgets/controls",
            "_view_module_version": "1.5.0",
            "_view_name": "HTMLView",
            "description": "",
            "description_tooltip": null,
            "layout": "IPY_MODEL_a065ce8ea60b4652b4d1a91ec44930d2",
            "placeholder": "​",
            "style": "IPY_MODEL_c42c2f3e40fc49f8b5f545bb04bbf035",
            "value": "Downloading extra modules: 100%"
          }
        },
        "4642bc9abe804bf3821d8fc05ff38c8b": {
          "model_module": "@jupyter-widgets/controls",
          "model_name": "FloatProgressModel",
          "model_module_version": "1.5.0",
          "state": {
            "_dom_classes": [],
            "_model_module": "@jupyter-widgets/controls",
            "_model_module_version": "1.5.0",
            "_model_name": "FloatProgressModel",
            "_view_count": null,
            "_view_module": "@jupyter-widgets/controls",
            "_view_module_version": "1.5.0",
            "_view_name": "ProgressView",
            "bar_style": "success",
            "description": "",
            "description_tooltip": null,
            "layout": "IPY_MODEL_6cb0b5acda2d42a7a0747538d7efb09d",
            "max": 3344,
            "min": 0,
            "orientation": "horizontal",
            "style": "IPY_MODEL_079cb095ebaf474ca7845ae40913ab79",
            "value": 3344
          }
        },
        "889fb5a05d794bec9c36c5bcbeef34f2": {
          "model_module": "@jupyter-widgets/controls",
          "model_name": "HTMLModel",
          "model_module_version": "1.5.0",
          "state": {
            "_dom_classes": [],
            "_model_module": "@jupyter-widgets/controls",
            "_model_module_version": "1.5.0",
            "_model_name": "HTMLModel",
            "_view_count": null,
            "_view_module": "@jupyter-widgets/controls",
            "_view_module_version": "1.5.0",
            "_view_name": "HTMLView",
            "description": "",
            "description_tooltip": null,
            "layout": "IPY_MODEL_b6d2d9fa5523402fbc9c437c54e32f41",
            "placeholder": "​",
            "style": "IPY_MODEL_e33bf367319549feab5a4d522240a2a9",
            "value": " 3.34k/3.34k [00:00&lt;00:00, 122kB/s]"
          }
        },
        "dd2214c2d2664c8799a7d681873b2b0a": {
          "model_module": "@jupyter-widgets/base",
          "model_name": "LayoutModel",
          "model_module_version": "1.2.0",
          "state": {
            "_model_module": "@jupyter-widgets/base",
            "_model_module_version": "1.2.0",
            "_model_name": "LayoutModel",
            "_view_count": null,
            "_view_module": "@jupyter-widgets/base",
            "_view_module_version": "1.2.0",
            "_view_name": "LayoutView",
            "align_content": null,
            "align_items": null,
            "align_self": null,
            "border": null,
            "bottom": null,
            "display": null,
            "flex": null,
            "flex_flow": null,
            "grid_area": null,
            "grid_auto_columns": null,
            "grid_auto_flow": null,
            "grid_auto_rows": null,
            "grid_column": null,
            "grid_gap": null,
            "grid_row": null,
            "grid_template_areas": null,
            "grid_template_columns": null,
            "grid_template_rows": null,
            "height": null,
            "justify_content": null,
            "justify_items": null,
            "left": null,
            "margin": null,
            "max_height": null,
            "max_width": null,
            "min_height": null,
            "min_width": null,
            "object_fit": null,
            "object_position": null,
            "order": null,
            "overflow": null,
            "overflow_x": null,
            "overflow_y": null,
            "padding": null,
            "right": null,
            "top": null,
            "visibility": null,
            "width": null
          }
        },
        "a065ce8ea60b4652b4d1a91ec44930d2": {
          "model_module": "@jupyter-widgets/base",
          "model_name": "LayoutModel",
          "model_module_version": "1.2.0",
          "state": {
            "_model_module": "@jupyter-widgets/base",
            "_model_module_version": "1.2.0",
            "_model_name": "LayoutModel",
            "_view_count": null,
            "_view_module": "@jupyter-widgets/base",
            "_view_module_version": "1.2.0",
            "_view_name": "LayoutView",
            "align_content": null,
            "align_items": null,
            "align_self": null,
            "border": null,
            "bottom": null,
            "display": null,
            "flex": null,
            "flex_flow": null,
            "grid_area": null,
            "grid_auto_columns": null,
            "grid_auto_flow": null,
            "grid_auto_rows": null,
            "grid_column": null,
            "grid_gap": null,
            "grid_row": null,
            "grid_template_areas": null,
            "grid_template_columns": null,
            "grid_template_rows": null,
            "height": null,
            "justify_content": null,
            "justify_items": null,
            "left": null,
            "margin": null,
            "max_height": null,
            "max_width": null,
            "min_height": null,
            "min_width": null,
            "object_fit": null,
            "object_position": null,
            "order": null,
            "overflow": null,
            "overflow_x": null,
            "overflow_y": null,
            "padding": null,
            "right": null,
            "top": null,
            "visibility": null,
            "width": null
          }
        },
        "c42c2f3e40fc49f8b5f545bb04bbf035": {
          "model_module": "@jupyter-widgets/controls",
          "model_name": "DescriptionStyleModel",
          "model_module_version": "1.5.0",
          "state": {
            "_model_module": "@jupyter-widgets/controls",
            "_model_module_version": "1.5.0",
            "_model_name": "DescriptionStyleModel",
            "_view_count": null,
            "_view_module": "@jupyter-widgets/base",
            "_view_module_version": "1.2.0",
            "_view_name": "StyleView",
            "description_width": ""
          }
        },
        "6cb0b5acda2d42a7a0747538d7efb09d": {
          "model_module": "@jupyter-widgets/base",
          "model_name": "LayoutModel",
          "model_module_version": "1.2.0",
          "state": {
            "_model_module": "@jupyter-widgets/base",
            "_model_module_version": "1.2.0",
            "_model_name": "LayoutModel",
            "_view_count": null,
            "_view_module": "@jupyter-widgets/base",
            "_view_module_version": "1.2.0",
            "_view_name": "LayoutView",
            "align_content": null,
            "align_items": null,
            "align_self": null,
            "border": null,
            "bottom": null,
            "display": null,
            "flex": null,
            "flex_flow": null,
            "grid_area": null,
            "grid_auto_columns": null,
            "grid_auto_flow": null,
            "grid_auto_rows": null,
            "grid_column": null,
            "grid_gap": null,
            "grid_row": null,
            "grid_template_areas": null,
            "grid_template_columns": null,
            "grid_template_rows": null,
            "height": null,
            "justify_content": null,
            "justify_items": null,
            "left": null,
            "margin": null,
            "max_height": null,
            "max_width": null,
            "min_height": null,
            "min_width": null,
            "object_fit": null,
            "object_position": null,
            "order": null,
            "overflow": null,
            "overflow_x": null,
            "overflow_y": null,
            "padding": null,
            "right": null,
            "top": null,
            "visibility": null,
            "width": null
          }
        },
        "079cb095ebaf474ca7845ae40913ab79": {
          "model_module": "@jupyter-widgets/controls",
          "model_name": "ProgressStyleModel",
          "model_module_version": "1.5.0",
          "state": {
            "_model_module": "@jupyter-widgets/controls",
            "_model_module_version": "1.5.0",
            "_model_name": "ProgressStyleModel",
            "_view_count": null,
            "_view_module": "@jupyter-widgets/base",
            "_view_module_version": "1.2.0",
            "_view_name": "StyleView",
            "bar_color": null,
            "description_width": ""
          }
        },
        "b6d2d9fa5523402fbc9c437c54e32f41": {
          "model_module": "@jupyter-widgets/base",
          "model_name": "LayoutModel",
          "model_module_version": "1.2.0",
          "state": {
            "_model_module": "@jupyter-widgets/base",
            "_model_module_version": "1.2.0",
            "_model_name": "LayoutModel",
            "_view_count": null,
            "_view_module": "@jupyter-widgets/base",
            "_view_module_version": "1.2.0",
            "_view_name": "LayoutView",
            "align_content": null,
            "align_items": null,
            "align_self": null,
            "border": null,
            "bottom": null,
            "display": null,
            "flex": null,
            "flex_flow": null,
            "grid_area": null,
            "grid_auto_columns": null,
            "grid_auto_flow": null,
            "grid_auto_rows": null,
            "grid_column": null,
            "grid_gap": null,
            "grid_row": null,
            "grid_template_areas": null,
            "grid_template_columns": null,
            "grid_template_rows": null,
            "height": null,
            "justify_content": null,
            "justify_items": null,
            "left": null,
            "margin": null,
            "max_height": null,
            "max_width": null,
            "min_height": null,
            "min_width": null,
            "object_fit": null,
            "object_position": null,
            "order": null,
            "overflow": null,
            "overflow_x": null,
            "overflow_y": null,
            "padding": null,
            "right": null,
            "top": null,
            "visibility": null,
            "width": null
          }
        },
        "e33bf367319549feab5a4d522240a2a9": {
          "model_module": "@jupyter-widgets/controls",
          "model_name": "DescriptionStyleModel",
          "model_module_version": "1.5.0",
          "state": {
            "_model_module": "@jupyter-widgets/controls",
            "_model_module_version": "1.5.0",
            "_model_name": "DescriptionStyleModel",
            "_view_count": null,
            "_view_module": "@jupyter-widgets/base",
            "_view_module_version": "1.2.0",
            "_view_name": "StyleView",
            "description_width": ""
          }
        }
      }
    }
  },
  "cells": [
    {
      "cell_type": "markdown",
      "metadata": {
        "id": "view-in-github",
        "colab_type": "text"
      },
      "source": [
        "<a href=\"https://colab.research.google.com/github/Matthieu6/IndividualProject/blob/main/IndividualProject/ImageCaptioningTests/Image_Captioning_Evaluation.ipynb\" target=\"_parent\"><img src=\"https://colab.research.google.com/assets/colab-badge.svg\" alt=\"Open In Colab\"/></a>"
      ]
    },
    {
      "cell_type": "markdown",
      "source": [
        "# INITIALISATION"
      ],
      "metadata": {
        "id": "Yg948DryJh0F"
      }
    },
    {
      "cell_type": "markdown",
      "source": [
        "This section installs the required extensions to run the CLIP Score metrics"
      ],
      "metadata": {
        "id": "saf9q8yOdzIL"
      }
    },
    {
      "cell_type": "code",
      "execution_count": null,
      "metadata": {
        "colab": {
          "base_uri": "https://localhost:8080/"
        },
        "id": "vxCabwDBANW8",
        "outputId": "1745b4a7-0ecf-4ade-e577-cab19246fe73"
      },
      "outputs": [
        {
          "output_type": "stream",
          "name": "stdout",
          "text": [
            "Collecting evaluate\n",
            "  Downloading evaluate-0.4.1-py3-none-any.whl (84 kB)\n",
            "\u001b[2K     \u001b[90m━━━━━━━━━━━━━━━━━━━━━━━━━━━━━━━━━━━━━━━━\u001b[0m \u001b[32m84.1/84.1 kB\u001b[0m \u001b[31m2.7 MB/s\u001b[0m eta \u001b[36m0:00:00\u001b[0m\n",
            "\u001b[?25hCollecting datasets>=2.0.0 (from evaluate)\n",
            "  Downloading datasets-2.18.0-py3-none-any.whl (510 kB)\n",
            "\u001b[2K     \u001b[90m━━━━━━━━━━━━━━━━━━━━━━━━━━━━━━━━━━━━━━━━\u001b[0m \u001b[32m510.5/510.5 kB\u001b[0m \u001b[31m10.5 MB/s\u001b[0m eta \u001b[36m0:00:00\u001b[0m\n",
            "\u001b[?25hRequirement already satisfied: numpy>=1.17 in /usr/local/lib/python3.10/dist-packages (from evaluate) (1.25.2)\n",
            "Collecting dill (from evaluate)\n",
            "  Downloading dill-0.3.8-py3-none-any.whl (116 kB)\n",
            "\u001b[2K     \u001b[90m━━━━━━━━━━━━━━━━━━━━━━━━━━━━━━━━━━━━━━━━\u001b[0m \u001b[32m116.3/116.3 kB\u001b[0m \u001b[31m8.7 MB/s\u001b[0m eta \u001b[36m0:00:00\u001b[0m\n",
            "\u001b[?25hRequirement already satisfied: pandas in /usr/local/lib/python3.10/dist-packages (from evaluate) (1.5.3)\n",
            "Requirement already satisfied: requests>=2.19.0 in /usr/local/lib/python3.10/dist-packages (from evaluate) (2.31.0)\n",
            "Requirement already satisfied: tqdm>=4.62.1 in /usr/local/lib/python3.10/dist-packages (from evaluate) (4.66.2)\n",
            "Requirement already satisfied: xxhash in /usr/local/lib/python3.10/dist-packages (from evaluate) (3.4.1)\n",
            "Collecting multiprocess (from evaluate)\n",
            "  Downloading multiprocess-0.70.16-py310-none-any.whl (134 kB)\n",
            "\u001b[2K     \u001b[90m━━━━━━━━━━━━━━━━━━━━━━━━━━━━━━━━━━━━━━━━\u001b[0m \u001b[32m134.8/134.8 kB\u001b[0m \u001b[31m9.3 MB/s\u001b[0m eta \u001b[36m0:00:00\u001b[0m\n",
            "\u001b[?25hRequirement already satisfied: fsspec[http]>=2021.05.0 in /usr/local/lib/python3.10/dist-packages (from evaluate) (2023.6.0)\n",
            "Requirement already satisfied: huggingface-hub>=0.7.0 in /usr/local/lib/python3.10/dist-packages (from evaluate) (0.20.3)\n",
            "Requirement already satisfied: packaging in /usr/local/lib/python3.10/dist-packages (from evaluate) (23.2)\n",
            "Collecting responses<0.19 (from evaluate)\n",
            "  Downloading responses-0.18.0-py3-none-any.whl (38 kB)\n",
            "Requirement already satisfied: filelock in /usr/local/lib/python3.10/dist-packages (from datasets>=2.0.0->evaluate) (3.13.1)\n",
            "Requirement already satisfied: pyarrow>=12.0.0 in /usr/local/lib/python3.10/dist-packages (from datasets>=2.0.0->evaluate) (14.0.2)\n",
            "Requirement already satisfied: pyarrow-hotfix in /usr/local/lib/python3.10/dist-packages (from datasets>=2.0.0->evaluate) (0.6)\n",
            "Requirement already satisfied: aiohttp in /usr/local/lib/python3.10/dist-packages (from datasets>=2.0.0->evaluate) (3.9.3)\n",
            "Requirement already satisfied: pyyaml>=5.1 in /usr/local/lib/python3.10/dist-packages (from datasets>=2.0.0->evaluate) (6.0.1)\n",
            "Requirement already satisfied: typing-extensions>=3.7.4.3 in /usr/local/lib/python3.10/dist-packages (from huggingface-hub>=0.7.0->evaluate) (4.10.0)\n",
            "Requirement already satisfied: charset-normalizer<4,>=2 in /usr/local/lib/python3.10/dist-packages (from requests>=2.19.0->evaluate) (3.3.2)\n",
            "Requirement already satisfied: idna<4,>=2.5 in /usr/local/lib/python3.10/dist-packages (from requests>=2.19.0->evaluate) (3.6)\n",
            "Requirement already satisfied: urllib3<3,>=1.21.1 in /usr/local/lib/python3.10/dist-packages (from requests>=2.19.0->evaluate) (2.0.7)\n",
            "Requirement already satisfied: certifi>=2017.4.17 in /usr/local/lib/python3.10/dist-packages (from requests>=2.19.0->evaluate) (2024.2.2)\n",
            "Requirement already satisfied: python-dateutil>=2.8.1 in /usr/local/lib/python3.10/dist-packages (from pandas->evaluate) (2.8.2)\n",
            "Requirement already satisfied: pytz>=2020.1 in /usr/local/lib/python3.10/dist-packages (from pandas->evaluate) (2023.4)\n",
            "Requirement already satisfied: aiosignal>=1.1.2 in /usr/local/lib/python3.10/dist-packages (from aiohttp->datasets>=2.0.0->evaluate) (1.3.1)\n",
            "Requirement already satisfied: attrs>=17.3.0 in /usr/local/lib/python3.10/dist-packages (from aiohttp->datasets>=2.0.0->evaluate) (23.2.0)\n",
            "Requirement already satisfied: frozenlist>=1.1.1 in /usr/local/lib/python3.10/dist-packages (from aiohttp->datasets>=2.0.0->evaluate) (1.4.1)\n",
            "Requirement already satisfied: multidict<7.0,>=4.5 in /usr/local/lib/python3.10/dist-packages (from aiohttp->datasets>=2.0.0->evaluate) (6.0.5)\n",
            "Requirement already satisfied: yarl<2.0,>=1.0 in /usr/local/lib/python3.10/dist-packages (from aiohttp->datasets>=2.0.0->evaluate) (1.9.4)\n",
            "Requirement already satisfied: async-timeout<5.0,>=4.0 in /usr/local/lib/python3.10/dist-packages (from aiohttp->datasets>=2.0.0->evaluate) (4.0.3)\n",
            "Requirement already satisfied: six>=1.5 in /usr/local/lib/python3.10/dist-packages (from python-dateutil>=2.8.1->pandas->evaluate) (1.16.0)\n",
            "Installing collected packages: dill, responses, multiprocess, datasets, evaluate\n",
            "Successfully installed datasets-2.18.0 dill-0.3.8 evaluate-0.4.1 multiprocess-0.70.16 responses-0.18.0\n"
          ]
        }
      ],
      "source": [
        "!pip3 install evaluate"
      ]
    },
    {
      "cell_type": "code",
      "source": [
        "!pip install evaluate[template]\n",
        "import evaluate\n"
      ],
      "metadata": {
        "colab": {
          "base_uri": "https://localhost:8080/"
        },
        "id": "PeGCWzPzC7fB",
        "outputId": "b28096d8-f0be-4fe8-b397-1af8a2c9a2ae"
      },
      "execution_count": null,
      "outputs": [
        {
          "output_type": "stream",
          "name": "stdout",
          "text": [
            "Requirement already satisfied: evaluate[template] in /usr/local/lib/python3.10/dist-packages (0.4.1)\n",
            "Requirement already satisfied: datasets>=2.0.0 in /usr/local/lib/python3.10/dist-packages (from evaluate[template]) (2.18.0)\n",
            "Requirement already satisfied: numpy>=1.17 in /usr/local/lib/python3.10/dist-packages (from evaluate[template]) (1.25.2)\n",
            "Requirement already satisfied: dill in /usr/local/lib/python3.10/dist-packages (from evaluate[template]) (0.3.8)\n",
            "Requirement already satisfied: pandas in /usr/local/lib/python3.10/dist-packages (from evaluate[template]) (1.5.3)\n",
            "Requirement already satisfied: requests>=2.19.0 in /usr/local/lib/python3.10/dist-packages (from evaluate[template]) (2.31.0)\n",
            "Requirement already satisfied: tqdm>=4.62.1 in /usr/local/lib/python3.10/dist-packages (from evaluate[template]) (4.66.2)\n",
            "Requirement already satisfied: xxhash in /usr/local/lib/python3.10/dist-packages (from evaluate[template]) (3.4.1)\n",
            "Requirement already satisfied: multiprocess in /usr/local/lib/python3.10/dist-packages (from evaluate[template]) (0.70.16)\n",
            "Requirement already satisfied: fsspec[http]>=2021.05.0 in /usr/local/lib/python3.10/dist-packages (from evaluate[template]) (2023.6.0)\n",
            "Requirement already satisfied: huggingface-hub>=0.7.0 in /usr/local/lib/python3.10/dist-packages (from evaluate[template]) (0.20.3)\n",
            "Requirement already satisfied: packaging in /usr/local/lib/python3.10/dist-packages (from evaluate[template]) (23.2)\n",
            "Requirement already satisfied: responses<0.19 in /usr/local/lib/python3.10/dist-packages (from evaluate[template]) (0.18.0)\n",
            "Collecting cookiecutter (from evaluate[template])\n",
            "  Downloading cookiecutter-2.6.0-py3-none-any.whl (39 kB)\n",
            "Collecting gradio>=3.0.0 (from evaluate[template])\n",
            "  Downloading gradio-4.19.2-py3-none-any.whl (16.9 MB)\n",
            "\u001b[2K     \u001b[90m━━━━━━━━━━━━━━━━━━━━━━━━━━━━━━━━━━━━━━━━\u001b[0m \u001b[32m16.9/16.9 MB\u001b[0m \u001b[31m21.4 MB/s\u001b[0m eta \u001b[36m0:00:00\u001b[0m\n",
            "\u001b[?25hRequirement already satisfied: filelock in /usr/local/lib/python3.10/dist-packages (from datasets>=2.0.0->evaluate[template]) (3.13.1)\n",
            "Requirement already satisfied: pyarrow>=12.0.0 in /usr/local/lib/python3.10/dist-packages (from datasets>=2.0.0->evaluate[template]) (14.0.2)\n",
            "Requirement already satisfied: pyarrow-hotfix in /usr/local/lib/python3.10/dist-packages (from datasets>=2.0.0->evaluate[template]) (0.6)\n",
            "Requirement already satisfied: aiohttp in /usr/local/lib/python3.10/dist-packages (from datasets>=2.0.0->evaluate[template]) (3.9.3)\n",
            "Requirement already satisfied: pyyaml>=5.1 in /usr/local/lib/python3.10/dist-packages (from datasets>=2.0.0->evaluate[template]) (6.0.1)\n",
            "Collecting aiofiles<24.0,>=22.0 (from gradio>=3.0.0->evaluate[template])\n",
            "  Downloading aiofiles-23.2.1-py3-none-any.whl (15 kB)\n",
            "Requirement already satisfied: altair<6.0,>=4.2.0 in /usr/local/lib/python3.10/dist-packages (from gradio>=3.0.0->evaluate[template]) (4.2.2)\n",
            "Collecting fastapi (from gradio>=3.0.0->evaluate[template])\n",
            "  Downloading fastapi-0.110.0-py3-none-any.whl (92 kB)\n",
            "\u001b[2K     \u001b[90m━━━━━━━━━━━━━━━━━━━━━━━━━━━━━━━━━━━━━━━━\u001b[0m \u001b[32m92.1/92.1 kB\u001b[0m \u001b[31m10.2 MB/s\u001b[0m eta \u001b[36m0:00:00\u001b[0m\n",
            "\u001b[?25hCollecting ffmpy (from gradio>=3.0.0->evaluate[template])\n",
            "  Downloading ffmpy-0.3.2.tar.gz (5.5 kB)\n",
            "  Preparing metadata (setup.py) ... \u001b[?25l\u001b[?25hdone\n",
            "Collecting gradio-client==0.10.1 (from gradio>=3.0.0->evaluate[template])\n",
            "  Downloading gradio_client-0.10.1-py3-none-any.whl (307 kB)\n",
            "\u001b[2K     \u001b[90m━━━━━━━━━━━━━━━━━━━━━━━━━━━━━━━━━━━━━━━━\u001b[0m \u001b[32m307.9/307.9 kB\u001b[0m \u001b[31m32.3 MB/s\u001b[0m eta \u001b[36m0:00:00\u001b[0m\n",
            "\u001b[?25hCollecting httpx>=0.24.1 (from gradio>=3.0.0->evaluate[template])\n",
            "  Downloading httpx-0.27.0-py3-none-any.whl (75 kB)\n",
            "\u001b[2K     \u001b[90m━━━━━━━━━━━━━━━━━━━━━━━━━━━━━━━━━━━━━━━━\u001b[0m \u001b[32m75.6/75.6 kB\u001b[0m \u001b[31m8.8 MB/s\u001b[0m eta \u001b[36m0:00:00\u001b[0m\n",
            "\u001b[?25hRequirement already satisfied: importlib-resources<7.0,>=1.3 in /usr/local/lib/python3.10/dist-packages (from gradio>=3.0.0->evaluate[template]) (6.1.2)\n",
            "Requirement already satisfied: jinja2<4.0 in /usr/local/lib/python3.10/dist-packages (from gradio>=3.0.0->evaluate[template]) (3.1.3)\n",
            "Requirement already satisfied: markupsafe~=2.0 in /usr/local/lib/python3.10/dist-packages (from gradio>=3.0.0->evaluate[template]) (2.1.5)\n",
            "Requirement already satisfied: matplotlib~=3.0 in /usr/local/lib/python3.10/dist-packages (from gradio>=3.0.0->evaluate[template]) (3.7.1)\n",
            "Collecting orjson~=3.0 (from gradio>=3.0.0->evaluate[template])\n",
            "  Downloading orjson-3.9.15-cp310-cp310-manylinux_2_17_x86_64.manylinux2014_x86_64.whl (138 kB)\n",
            "\u001b[2K     \u001b[90m━━━━━━━━━━━━━━━━━━━━━━━━━━━━━━━━━━━━━━━━\u001b[0m \u001b[32m138.5/138.5 kB\u001b[0m \u001b[31m15.2 MB/s\u001b[0m eta \u001b[36m0:00:00\u001b[0m\n",
            "\u001b[?25hRequirement already satisfied: pillow<11.0,>=8.0 in /usr/local/lib/python3.10/dist-packages (from gradio>=3.0.0->evaluate[template]) (9.4.0)\n",
            "Requirement already satisfied: pydantic>=2.0 in /usr/local/lib/python3.10/dist-packages (from gradio>=3.0.0->evaluate[template]) (2.6.3)\n",
            "Collecting pydub (from gradio>=3.0.0->evaluate[template])\n",
            "  Downloading pydub-0.25.1-py2.py3-none-any.whl (32 kB)\n",
            "Collecting python-multipart>=0.0.9 (from gradio>=3.0.0->evaluate[template])\n",
            "  Downloading python_multipart-0.0.9-py3-none-any.whl (22 kB)\n",
            "Collecting ruff>=0.2.2 (from gradio>=3.0.0->evaluate[template])\n",
            "  Downloading ruff-0.3.0-py3-none-manylinux_2_17_x86_64.manylinux2014_x86_64.whl (7.8 MB)\n",
            "\u001b[2K     \u001b[90m━━━━━━━━━━━━━━━━━━━━━━━━━━━━━━━━━━━━━━━━\u001b[0m \u001b[32m7.8/7.8 MB\u001b[0m \u001b[31m84.3 MB/s\u001b[0m eta \u001b[36m0:00:00\u001b[0m\n",
            "\u001b[?25hCollecting semantic-version~=2.0 (from gradio>=3.0.0->evaluate[template])\n",
            "  Downloading semantic_version-2.10.0-py2.py3-none-any.whl (15 kB)\n",
            "Collecting tomlkit==0.12.0 (from gradio>=3.0.0->evaluate[template])\n",
            "  Downloading tomlkit-0.12.0-py3-none-any.whl (37 kB)\n",
            "Requirement already satisfied: typer[all]<1.0,>=0.9 in /usr/local/lib/python3.10/dist-packages (from gradio>=3.0.0->evaluate[template]) (0.9.0)\n",
            "Requirement already satisfied: typing-extensions~=4.0 in /usr/local/lib/python3.10/dist-packages (from gradio>=3.0.0->evaluate[template]) (4.10.0)\n",
            "Collecting uvicorn>=0.14.0 (from gradio>=3.0.0->evaluate[template])\n",
            "  Downloading uvicorn-0.27.1-py3-none-any.whl (60 kB)\n",
            "\u001b[2K     \u001b[90m━━━━━━━━━━━━━━━━━━━━━━━━━━━━━━━━━━━━━━━━\u001b[0m \u001b[32m60.8/60.8 kB\u001b[0m \u001b[31m5.9 MB/s\u001b[0m eta \u001b[36m0:00:00\u001b[0m\n",
            "\u001b[?25hCollecting websockets<12.0,>=10.0 (from gradio-client==0.10.1->gradio>=3.0.0->evaluate[template])\n",
            "  Downloading websockets-11.0.3-cp310-cp310-manylinux_2_5_x86_64.manylinux1_x86_64.manylinux_2_17_x86_64.manylinux2014_x86_64.whl (129 kB)\n",
            "\u001b[2K     \u001b[90m━━━━━━━━━━━━━━━━━━━━━━━━━━━━━━━━━━━━━━━━\u001b[0m \u001b[32m129.9/129.9 kB\u001b[0m \u001b[31m14.0 MB/s\u001b[0m eta \u001b[36m0:00:00\u001b[0m\n",
            "\u001b[?25hRequirement already satisfied: python-dateutil>=2.8.1 in /usr/local/lib/python3.10/dist-packages (from pandas->evaluate[template]) (2.8.2)\n",
            "Requirement already satisfied: pytz>=2020.1 in /usr/local/lib/python3.10/dist-packages (from pandas->evaluate[template]) (2023.4)\n",
            "Requirement already satisfied: charset-normalizer<4,>=2 in /usr/local/lib/python3.10/dist-packages (from requests>=2.19.0->evaluate[template]) (3.3.2)\n",
            "Requirement already satisfied: idna<4,>=2.5 in /usr/local/lib/python3.10/dist-packages (from requests>=2.19.0->evaluate[template]) (3.6)\n",
            "Requirement already satisfied: urllib3<3,>=1.21.1 in /usr/local/lib/python3.10/dist-packages (from requests>=2.19.0->evaluate[template]) (2.0.7)\n",
            "Requirement already satisfied: certifi>=2017.4.17 in /usr/local/lib/python3.10/dist-packages (from requests>=2.19.0->evaluate[template]) (2024.2.2)\n",
            "Collecting binaryornot>=0.4.4 (from cookiecutter->evaluate[template])\n",
            "  Downloading binaryornot-0.4.4-py2.py3-none-any.whl (9.0 kB)\n",
            "Requirement already satisfied: click<9.0.0,>=7.0 in /usr/local/lib/python3.10/dist-packages (from cookiecutter->evaluate[template]) (8.1.7)\n",
            "Requirement already satisfied: python-slugify>=4.0.0 in /usr/local/lib/python3.10/dist-packages (from cookiecutter->evaluate[template]) (8.0.4)\n",
            "Collecting arrow (from cookiecutter->evaluate[template])\n",
            "  Downloading arrow-1.3.0-py3-none-any.whl (66 kB)\n",
            "\u001b[2K     \u001b[90m━━━━━━━━━━━━━━━━━━━━━━━━━━━━━━━━━━━━━━━━\u001b[0m \u001b[32m66.4/66.4 kB\u001b[0m \u001b[31m7.4 MB/s\u001b[0m eta \u001b[36m0:00:00\u001b[0m\n",
            "\u001b[?25hRequirement already satisfied: rich in /usr/local/lib/python3.10/dist-packages (from cookiecutter->evaluate[template]) (13.7.1)\n",
            "Requirement already satisfied: aiosignal>=1.1.2 in /usr/local/lib/python3.10/dist-packages (from aiohttp->datasets>=2.0.0->evaluate[template]) (1.3.1)\n",
            "Requirement already satisfied: attrs>=17.3.0 in /usr/local/lib/python3.10/dist-packages (from aiohttp->datasets>=2.0.0->evaluate[template]) (23.2.0)\n",
            "Requirement already satisfied: frozenlist>=1.1.1 in /usr/local/lib/python3.10/dist-packages (from aiohttp->datasets>=2.0.0->evaluate[template]) (1.4.1)\n",
            "Requirement already satisfied: multidict<7.0,>=4.5 in /usr/local/lib/python3.10/dist-packages (from aiohttp->datasets>=2.0.0->evaluate[template]) (6.0.5)\n",
            "Requirement already satisfied: yarl<2.0,>=1.0 in /usr/local/lib/python3.10/dist-packages (from aiohttp->datasets>=2.0.0->evaluate[template]) (1.9.4)\n",
            "Requirement already satisfied: async-timeout<5.0,>=4.0 in /usr/local/lib/python3.10/dist-packages (from aiohttp->datasets>=2.0.0->evaluate[template]) (4.0.3)\n",
            "Requirement already satisfied: entrypoints in /usr/local/lib/python3.10/dist-packages (from altair<6.0,>=4.2.0->gradio>=3.0.0->evaluate[template]) (0.4)\n",
            "Requirement already satisfied: jsonschema>=3.0 in /usr/local/lib/python3.10/dist-packages (from altair<6.0,>=4.2.0->gradio>=3.0.0->evaluate[template]) (4.19.2)\n",
            "Requirement already satisfied: toolz in /usr/local/lib/python3.10/dist-packages (from altair<6.0,>=4.2.0->gradio>=3.0.0->evaluate[template]) (0.12.1)\n",
            "Requirement already satisfied: chardet>=3.0.2 in /usr/local/lib/python3.10/dist-packages (from binaryornot>=0.4.4->cookiecutter->evaluate[template]) (5.2.0)\n",
            "Requirement already satisfied: anyio in /usr/local/lib/python3.10/dist-packages (from httpx>=0.24.1->gradio>=3.0.0->evaluate[template]) (3.7.1)\n",
            "Collecting httpcore==1.* (from httpx>=0.24.1->gradio>=3.0.0->evaluate[template])\n",
            "  Downloading httpcore-1.0.4-py3-none-any.whl (77 kB)\n",
            "\u001b[2K     \u001b[90m━━━━━━━━━━━━━━━━━━━━━━━━━━━━━━━━━━━━━━━━\u001b[0m \u001b[32m77.8/77.8 kB\u001b[0m \u001b[31m9.2 MB/s\u001b[0m eta \u001b[36m0:00:00\u001b[0m\n",
            "\u001b[?25hRequirement already satisfied: sniffio in /usr/local/lib/python3.10/dist-packages (from httpx>=0.24.1->gradio>=3.0.0->evaluate[template]) (1.3.1)\n",
            "Collecting h11<0.15,>=0.13 (from httpcore==1.*->httpx>=0.24.1->gradio>=3.0.0->evaluate[template])\n",
            "  Downloading h11-0.14.0-py3-none-any.whl (58 kB)\n",
            "\u001b[2K     \u001b[90m━━━━━━━━━━━━━━━━━━━━━━━━━━━━━━━━━━━━━━━━\u001b[0m \u001b[32m58.3/58.3 kB\u001b[0m \u001b[31m6.2 MB/s\u001b[0m eta \u001b[36m0:00:00\u001b[0m\n",
            "\u001b[?25hRequirement already satisfied: contourpy>=1.0.1 in /usr/local/lib/python3.10/dist-packages (from matplotlib~=3.0->gradio>=3.0.0->evaluate[template]) (1.2.0)\n",
            "Requirement already satisfied: cycler>=0.10 in /usr/local/lib/python3.10/dist-packages (from matplotlib~=3.0->gradio>=3.0.0->evaluate[template]) (0.12.1)\n",
            "Requirement already satisfied: fonttools>=4.22.0 in /usr/local/lib/python3.10/dist-packages (from matplotlib~=3.0->gradio>=3.0.0->evaluate[template]) (4.49.0)\n",
            "Requirement already satisfied: kiwisolver>=1.0.1 in /usr/local/lib/python3.10/dist-packages (from matplotlib~=3.0->gradio>=3.0.0->evaluate[template]) (1.4.5)\n",
            "Requirement already satisfied: pyparsing>=2.3.1 in /usr/local/lib/python3.10/dist-packages (from matplotlib~=3.0->gradio>=3.0.0->evaluate[template]) (3.1.1)\n",
            "Requirement already satisfied: annotated-types>=0.4.0 in /usr/local/lib/python3.10/dist-packages (from pydantic>=2.0->gradio>=3.0.0->evaluate[template]) (0.6.0)\n",
            "Requirement already satisfied: pydantic-core==2.16.3 in /usr/local/lib/python3.10/dist-packages (from pydantic>=2.0->gradio>=3.0.0->evaluate[template]) (2.16.3)\n",
            "Requirement already satisfied: six>=1.5 in /usr/local/lib/python3.10/dist-packages (from python-dateutil>=2.8.1->pandas->evaluate[template]) (1.16.0)\n",
            "Requirement already satisfied: text-unidecode>=1.3 in /usr/local/lib/python3.10/dist-packages (from python-slugify>=4.0.0->cookiecutter->evaluate[template]) (1.3)\n",
            "Collecting colorama<0.5.0,>=0.4.3 (from typer[all]<1.0,>=0.9->gradio>=3.0.0->evaluate[template])\n",
            "  Downloading colorama-0.4.6-py2.py3-none-any.whl (25 kB)\n",
            "Collecting shellingham<2.0.0,>=1.3.0 (from typer[all]<1.0,>=0.9->gradio>=3.0.0->evaluate[template])\n",
            "  Downloading shellingham-1.5.4-py2.py3-none-any.whl (9.8 kB)\n",
            "Requirement already satisfied: markdown-it-py>=2.2.0 in /usr/local/lib/python3.10/dist-packages (from rich->cookiecutter->evaluate[template]) (3.0.0)\n",
            "Requirement already satisfied: pygments<3.0.0,>=2.13.0 in /usr/local/lib/python3.10/dist-packages (from rich->cookiecutter->evaluate[template]) (2.16.1)\n",
            "Collecting types-python-dateutil>=2.8.10 (from arrow->cookiecutter->evaluate[template])\n",
            "  Downloading types_python_dateutil-2.8.19.20240106-py3-none-any.whl (9.7 kB)\n",
            "Collecting starlette<0.37.0,>=0.36.3 (from fastapi->gradio>=3.0.0->evaluate[template])\n",
            "  Downloading starlette-0.36.3-py3-none-any.whl (71 kB)\n",
            "\u001b[2K     \u001b[90m━━━━━━━━━━━━━━━━━━━━━━━━━━━━━━━━━━━━━━━━\u001b[0m \u001b[32m71.5/71.5 kB\u001b[0m \u001b[31m5.6 MB/s\u001b[0m eta \u001b[36m0:00:00\u001b[0m\n",
            "\u001b[?25hRequirement already satisfied: jsonschema-specifications>=2023.03.6 in /usr/local/lib/python3.10/dist-packages (from jsonschema>=3.0->altair<6.0,>=4.2.0->gradio>=3.0.0->evaluate[template]) (2023.12.1)\n",
            "Requirement already satisfied: referencing>=0.28.4 in /usr/local/lib/python3.10/dist-packages (from jsonschema>=3.0->altair<6.0,>=4.2.0->gradio>=3.0.0->evaluate[template]) (0.33.0)\n",
            "Requirement already satisfied: rpds-py>=0.7.1 in /usr/local/lib/python3.10/dist-packages (from jsonschema>=3.0->altair<6.0,>=4.2.0->gradio>=3.0.0->evaluate[template]) (0.18.0)\n",
            "Requirement already satisfied: mdurl~=0.1 in /usr/local/lib/python3.10/dist-packages (from markdown-it-py>=2.2.0->rich->cookiecutter->evaluate[template]) (0.1.2)\n",
            "Requirement already satisfied: exceptiongroup in /usr/local/lib/python3.10/dist-packages (from anyio->httpx>=0.24.1->gradio>=3.0.0->evaluate[template]) (1.2.0)\n",
            "Building wheels for collected packages: ffmpy\n",
            "  Building wheel for ffmpy (setup.py) ... \u001b[?25l\u001b[?25hdone\n",
            "  Created wheel for ffmpy: filename=ffmpy-0.3.2-py3-none-any.whl size=5584 sha256=c8c013ba1be02c23d8f4df3965f5cea8c635ef980c608ea6bebd0a285210e58a\n",
            "  Stored in directory: /root/.cache/pip/wheels/bd/65/9a/671fc6dcde07d4418df0c592f8df512b26d7a0029c2a23dd81\n",
            "Successfully built ffmpy\n",
            "Installing collected packages: pydub, ffmpy, websockets, types-python-dateutil, tomlkit, shellingham, semantic-version, ruff, python-multipart, orjson, h11, colorama, binaryornot, aiofiles, uvicorn, starlette, httpcore, arrow, httpx, fastapi, cookiecutter, gradio-client, gradio\n",
            "Successfully installed aiofiles-23.2.1 arrow-1.3.0 binaryornot-0.4.4 colorama-0.4.6 cookiecutter-2.6.0 fastapi-0.110.0 ffmpy-0.3.2 gradio-4.19.2 gradio-client-0.10.1 h11-0.14.0 httpcore-1.0.4 httpx-0.27.0 orjson-3.9.15 pydub-0.25.1 python-multipart-0.0.9 ruff-0.3.0 semantic-version-2.10.0 shellingham-1.5.4 starlette-0.36.3 tomlkit-0.12.0 types-python-dateutil-2.8.19.20240106 uvicorn-0.27.1 websockets-11.0.3\n"
          ]
        }
      ]
    },
    {
      "cell_type": "code",
      "source": [
        "accuracy = evaluate.load(\"accuracy\")\n"
      ],
      "metadata": {
        "colab": {
          "base_uri": "https://localhost:8080/",
          "referenced_widgets": [
            "c891e3bee5a049c4810c1c720c63b0e5",
            "8e438d4d315144f994d3e12ef386bba1",
            "936a15d23723459685fc98b4b7625f0e",
            "3554836fdaeb45289cc482d2b2c3c62d",
            "d8e8be001d3341ddb303b7773b99247e",
            "6897528085754c738e1fac8f53ce3f56",
            "ffd16b2d2a3b46cf92e9736e8881e9ef",
            "55d99206319d41dbaf325229a60ca08a",
            "7d303182834d4b0aa3642a605c29a609",
            "6a35650f04e848cdbca1e07d3add848f",
            "96c2f45c48494dd1839eb693cb69dc46"
          ]
        },
        "id": "2zaxPiPXFP5h",
        "outputId": "2a7eb69d-d1f1-4a36-d5c0-3e583772592e"
      },
      "execution_count": null,
      "outputs": [
        {
          "output_type": "display_data",
          "data": {
            "text/plain": [
              "Downloading builder script:   0%|          | 0.00/4.20k [00:00<?, ?B/s]"
            ],
            "application/vnd.jupyter.widget-view+json": {
              "version_major": 2,
              "version_minor": 0,
              "model_id": "c891e3bee5a049c4810c1c720c63b0e5"
            }
          },
          "metadata": {}
        }
      ]
    },
    {
      "cell_type": "code",
      "source": [
        "!pip install rouge_score"
      ],
      "metadata": {
        "colab": {
          "base_uri": "https://localhost:8080/"
        },
        "id": "88-g8RfsI8Ib",
        "outputId": "c1708a18-22df-4164-9d41-fab5def5b085"
      },
      "execution_count": null,
      "outputs": [
        {
          "output_type": "stream",
          "name": "stdout",
          "text": [
            "Collecting rouge_score\n",
            "  Downloading rouge_score-0.1.2.tar.gz (17 kB)\n",
            "  Preparing metadata (setup.py) ... \u001b[?25l\u001b[?25hdone\n",
            "Requirement already satisfied: absl-py in /usr/local/lib/python3.10/dist-packages (from rouge_score) (1.4.0)\n",
            "Requirement already satisfied: nltk in /usr/local/lib/python3.10/dist-packages (from rouge_score) (3.8.1)\n",
            "Requirement already satisfied: numpy in /usr/local/lib/python3.10/dist-packages (from rouge_score) (1.25.2)\n",
            "Requirement already satisfied: six>=1.14.0 in /usr/local/lib/python3.10/dist-packages (from rouge_score) (1.16.0)\n",
            "Requirement already satisfied: click in /usr/local/lib/python3.10/dist-packages (from nltk->rouge_score) (8.1.7)\n",
            "Requirement already satisfied: joblib in /usr/local/lib/python3.10/dist-packages (from nltk->rouge_score) (1.3.2)\n",
            "Requirement already satisfied: regex>=2021.8.3 in /usr/local/lib/python3.10/dist-packages (from nltk->rouge_score) (2023.12.25)\n",
            "Requirement already satisfied: tqdm in /usr/local/lib/python3.10/dist-packages (from nltk->rouge_score) (4.66.2)\n",
            "Building wheels for collected packages: rouge_score\n",
            "  Building wheel for rouge_score (setup.py) ... \u001b[?25l\u001b[?25hdone\n",
            "  Created wheel for rouge_score: filename=rouge_score-0.1.2-py3-none-any.whl size=24933 sha256=3415e0a00475b81a742f291198349707f94b16a4cf811a0f776b4a8a64e83bf9\n",
            "  Stored in directory: /root/.cache/pip/wheels/5f/dd/89/461065a73be61a532ff8599a28e9beef17985c9e9c31e541b4\n",
            "Successfully built rouge_score\n",
            "Installing collected packages: rouge_score\n",
            "Successfully installed rouge_score-0.1.2\n"
          ]
        }
      ]
    },
    {
      "cell_type": "markdown",
      "source": [
        "# PREDICTION BLIP LARGE\n",
        "\n"
      ],
      "metadata": {
        "id": "rc-5s9teJbf-"
      }
    },
    {
      "cell_type": "markdown",
      "source": [
        "Compares generated image captions (generated from input images using BLIP Large model) with reference captions obtained from Flickr8k Database. Outputs the caption's METEOR, BLEU and ROUGE1 scores."
      ],
      "metadata": {
        "id": "IEUMl3S8d2Ec"
      }
    },
    {
      "cell_type": "code",
      "source": [
        "predictions = [\"woman in a bikini paddling a canoe on a river\"]\n",
        "references = [[\"A girl paddling down a large river , as seen from behind her\", \"A woman kayaking down a river\" ,\"A woman paddles a boat down a river\",\"A woman with a paddle\",\"A woman with a paddle sits in a boat on the water\"]]\n",
        "\n",
        "meteor = evaluate.load('meteor')\n",
        "resultsm = meteor.compute(predictions=predictions, references=references)\n",
        "print(\"test\",  round(resultsm['meteor'], 2))\n",
        "\n",
        "rouge = evaluate.load('rouge')\n",
        "results = rouge.compute(predictions=predictions, references=references)\n",
        "print(results)\n",
        "\n",
        "bleu = evaluate.load(\"bleu\")\n",
        "results = bleu.compute(predictions=predictions, references=references)\n",
        "print(results)"
      ],
      "metadata": {
        "colab": {
          "base_uri": "https://localhost:8080/",
          "height": 319,
          "referenced_widgets": [
            "2b4d9d23322649edb54e44672fdb858e",
            "7c253e2e5e1d4fbcbf57f63853864e61",
            "b65120a078cd441cb3308a7d6a71b150",
            "22413f5877b844098bc2de31d8f78c5d",
            "acc2b031f3ba4a2bb6254c5b09bb5877",
            "a85f676b0d23493e944dbd156c0a345e",
            "ff7ee7048737470ba54f55dffc6d3a0b",
            "d260140528574f32908c6066be816f78",
            "19925e322e314a91b67a8fbe933d8c56",
            "3b320291f0a648e9ad488280374998a1",
            "bc75b858ccf94c008d751f215c160dd7",
            "df1cfca869704c7abe80527a278a4ae6",
            "538cda3ae86140f888653fcf717898bd",
            "9fe184bb3a0146e1805b67ef7ff56a75",
            "fca2296d2bfe4a599098a0bd973a06dc",
            "4f5b2bf04fff479298976a69c5fc1748",
            "ca4d5ef0cd51419b8925013ffb356446",
            "b89d2687595f4ffdbba0c2f11df470ab",
            "6ebfa06147d94e3c8debf47c909fb43d",
            "6118019690e94a84bd57f56791da910b",
            "2521ee3832fd4e41b54805b558e830ad",
            "377cb1789a9642e7a3da9ba381a866f0",
            "e07fe9c24ff141a5a21336fdf1b71427",
            "f827d1943b6444ed8b07be7addcac6fc",
            "cbb165699bb1477392afddb879bd8e89",
            "53715393869d49428549a5546f861f31",
            "8f7e8a91ea1a431ca368e12be72478ff",
            "a59fc2db38cf40db80182d98a2daf5bc",
            "da8b0283c8f043e2b7a67fb3629dc39d",
            "65c760b9df8b44fca4d6910d572b5637",
            "474ecaed6de448edbf7e11af8c3c6528",
            "0de8f89df3c4449d9c64435120a6042b",
            "3606453118784a2e8ae16d00a3d5ca94",
            "d6aa8c98ccad43eca4a9c07afa097b37",
            "f8d966291db547078feb66c99b3d1e09",
            "a238f9766739485093964ec9fcb29ca6",
            "52c56d48782e4e7fafb1ddd489728ca7",
            "c8f53e06cf894b3eb2da59a72398be8a",
            "e36e4512ba504ea39b93b35d0d39138b",
            "c305690c4a9e48e6912faf8fa9ae44c0",
            "9a7c05b6a6ec40c1bde3a2462279c271",
            "99c3f7f39d7b45509b98aeade695eb86",
            "0ddf8062e82b43d7a331e9b8d940d170",
            "2cf4df021ed94173be7f2bc698da5239",
            "f50d11f8c1394018979e5f18073af534",
            "b7b7804d39854d1c8944a12be68254d6",
            "4642bc9abe804bf3821d8fc05ff38c8b",
            "889fb5a05d794bec9c36c5bcbeef34f2",
            "dd2214c2d2664c8799a7d681873b2b0a",
            "a065ce8ea60b4652b4d1a91ec44930d2",
            "c42c2f3e40fc49f8b5f545bb04bbf035",
            "6cb0b5acda2d42a7a0747538d7efb09d",
            "079cb095ebaf474ca7845ae40913ab79",
            "b6d2d9fa5523402fbc9c437c54e32f41",
            "e33bf367319549feab5a4d522240a2a9"
          ]
        },
        "id": "bX53EBFLJpjU",
        "outputId": "618d12fa-587c-4f61-8849-921d50940e8d"
      },
      "execution_count": null,
      "outputs": [
        {
          "output_type": "display_data",
          "data": {
            "text/plain": [
              "Downloading builder script:   0%|          | 0.00/6.93k [00:00<?, ?B/s]"
            ],
            "application/vnd.jupyter.widget-view+json": {
              "version_major": 2,
              "version_minor": 0,
              "model_id": "2b4d9d23322649edb54e44672fdb858e"
            }
          },
          "metadata": {}
        },
        {
          "output_type": "stream",
          "name": "stderr",
          "text": [
            "[nltk_data] Downloading package wordnet to /root/nltk_data...\n",
            "[nltk_data] Downloading package punkt to /root/nltk_data...\n",
            "[nltk_data]   Unzipping tokenizers/punkt.zip.\n",
            "[nltk_data] Downloading package omw-1.4 to /root/nltk_data...\n"
          ]
        },
        {
          "output_type": "stream",
          "name": "stdout",
          "text": [
            "test 0.62\n"
          ]
        },
        {
          "output_type": "display_data",
          "data": {
            "text/plain": [
              "Downloading builder script:   0%|          | 0.00/6.27k [00:00<?, ?B/s]"
            ],
            "application/vnd.jupyter.widget-view+json": {
              "version_major": 2,
              "version_minor": 0,
              "model_id": "df1cfca869704c7abe80527a278a4ae6"
            }
          },
          "metadata": {}
        },
        {
          "output_type": "stream",
          "name": "stdout",
          "text": [
            "{'rouge1': 0.5555555555555556, 'rouge2': 0.14285714285714285, 'rougeL': 0.4444444444444445, 'rougeLsum': 0.4444444444444445}\n"
          ]
        },
        {
          "output_type": "display_data",
          "data": {
            "text/plain": [
              "Downloading builder script:   0%|          | 0.00/5.94k [00:00<?, ?B/s]"
            ],
            "application/vnd.jupyter.widget-view+json": {
              "version_major": 2,
              "version_minor": 0,
              "model_id": "e07fe9c24ff141a5a21336fdf1b71427"
            }
          },
          "metadata": {}
        },
        {
          "output_type": "display_data",
          "data": {
            "text/plain": [
              "Downloading extra modules:   0%|          | 0.00/1.55k [00:00<?, ?B/s]"
            ],
            "application/vnd.jupyter.widget-view+json": {
              "version_major": 2,
              "version_minor": 0,
              "model_id": "d6aa8c98ccad43eca4a9c07afa097b37"
            }
          },
          "metadata": {}
        },
        {
          "output_type": "display_data",
          "data": {
            "text/plain": [
              "Downloading extra modules:   0%|          | 0.00/3.34k [00:00<?, ?B/s]"
            ],
            "application/vnd.jupyter.widget-view+json": {
              "version_major": 2,
              "version_minor": 0,
              "model_id": "f50d11f8c1394018979e5f18073af534"
            }
          },
          "metadata": {}
        },
        {
          "output_type": "stream",
          "name": "stdout",
          "text": [
            "{'bleu': 0.0, 'precisions': [0.7, 0.2222222222222222, 0.0, 0.0], 'brevity_penalty': 1.0, 'length_ratio': 2.0, 'translation_length': 10, 'reference_length': 5}\n"
          ]
        }
      ]
    },
    {
      "cell_type": "code",
      "source": [
        "predictions = [\"skiers on a snowy slope with trees in the background\"]\n",
        "references = [[\"A lone skier is making their way up a mountain\", \"Skiiers at the top of a snow covered hill \", \"Two hikers climbing a snowy hill\",\"Two people are on a snow-covered mountain\",\"Two people climbing up a snowy mountain\"]]\n",
        "\n",
        "meteor = evaluate.load('meteor')\n",
        "resultsm = meteor.compute(predictions=predictions, references=references)\n",
        "print(\"test\",  round(resultsm['meteor'], 2))\n",
        "\n",
        "rouge = evaluate.load('rouge')\n",
        "results = rouge.compute(predictions=predictions, references=references)\n",
        "print(results)\n",
        "\n",
        "bleu = evaluate.load(\"bleu\")\n",
        "results = bleu.compute(predictions=predictions, references=references)\n",
        "print(results)"
      ],
      "metadata": {
        "colab": {
          "base_uri": "https://localhost:8080/"
        },
        "id": "hd-sPgq0Kyh3",
        "outputId": "6df545f4-fcf9-41f7-ea75-134f819fe50b"
      },
      "execution_count": null,
      "outputs": [
        {
          "output_type": "stream",
          "name": "stderr",
          "text": [
            "[nltk_data] Downloading package wordnet to /root/nltk_data...\n",
            "[nltk_data]   Package wordnet is already up-to-date!\n",
            "[nltk_data] Downloading package punkt to /root/nltk_data...\n",
            "[nltk_data]   Package punkt is already up-to-date!\n",
            "[nltk_data] Downloading package omw-1.4 to /root/nltk_data...\n",
            "[nltk_data]   Package omw-1.4 is already up-to-date!\n"
          ]
        },
        {
          "output_type": "stream",
          "name": "stdout",
          "text": [
            "test 0.29\n",
            "{'rouge1': 0.25, 'rouge2': 0.14285714285714285, 'rougeL': 0.25, 'rougeLsum': 0.25}\n",
            "{'bleu': 0.0, 'precisions': [0.4, 0.2222222222222222, 0.0, 0.0], 'brevity_penalty': 1.0, 'length_ratio': 1.6666666666666667, 'translation_length': 10, 'reference_length': 6}\n"
          ]
        }
      ]
    },
    {
      "cell_type": "code",
      "source": [
        "predictions = [\"two men in tuxedos are kissing each other in a room\"]\n",
        "references = [[\"A man wearing a tuxedo shirt , vest , and bow-tie is kissing another man wearing the same thing on the cheek\",\"A man with a shaved head is kissing another man on the cheek\",\"Tne man in a vest and tie plants a kiss on the cheek of another happy man\",\"One man kissing another man on the check and both are in white shirts with black vests\",\"One men is laughing while being kissed on the cheek by another man , both men are wearing formal wear\"]]\n",
        "\n",
        "meteor = evaluate.load('meteor')\n",
        "resultsm = meteor.compute(predictions=predictions, references=references)\n",
        "print(\"test\",  round(resultsm['meteor'], 2))\n",
        "\n",
        "rouge = evaluate.load('rouge')\n",
        "results = rouge.compute(predictions=predictions, references=references)\n",
        "print(results)\n",
        "\n",
        "bleu = evaluate.load(\"bleu\")\n",
        "results = bleu.compute(predictions=predictions, references=references)\n",
        "print(results)"
      ],
      "metadata": {
        "colab": {
          "base_uri": "https://localhost:8080/"
        },
        "id": "pOmCHvQlL3xs",
        "outputId": "9b948870-01ef-4653-904d-fb45829c7702"
      },
      "execution_count": null,
      "outputs": [
        {
          "output_type": "stream",
          "name": "stderr",
          "text": [
            "[nltk_data] Downloading package wordnet to /root/nltk_data...\n",
            "[nltk_data]   Package wordnet is already up-to-date!\n",
            "[nltk_data] Downloading package punkt to /root/nltk_data...\n",
            "[nltk_data]   Package punkt is already up-to-date!\n",
            "[nltk_data] Downloading package omw-1.4 to /root/nltk_data...\n",
            "[nltk_data]   Package omw-1.4 is already up-to-date!\n"
          ]
        },
        {
          "output_type": "stream",
          "name": "stdout",
          "text": [
            "test 0.12\n",
            "{'rouge1': 0.21428571428571427, 'rouge2': 0.07692307692307693, 'rougeL': 0.14285714285714285, 'rougeLsum': 0.14285714285714285}\n",
            "{'bleu': 0.0, 'precisions': [0.45454545454545453, 0.1, 0.0, 0.0], 'brevity_penalty': 0.8337529180751805, 'length_ratio': 0.8461538461538461, 'translation_length': 11, 'reference_length': 13}\n"
          ]
        }
      ]
    },
    {
      "cell_type": "code",
      "source": [
        "predictions = [\"there is a man in a canoe on a river with a bird\"]\n",
        "references = [[\"A large man sits in the back of a canoe with another man in front on a river\",\"two man are paddling a kayak along a river with green trees on either side\",\"Two men in a small boat rowing down a river\",\"Two men paddling a canoe down a narrow stream\",\"Two paddlers propel a canoe down a tree-lined stream\"]]\n",
        "\n",
        "meteor = evaluate.load('meteor')\n",
        "resultsm = meteor.compute(predictions=predictions, references=references)\n",
        "print(\"test\",  round(resultsm['meteor'], 2))\n",
        "\n",
        "rouge = evaluate.load('rouge')\n",
        "results = rouge.compute(predictions=predictions, references=references)\n",
        "print(results)\n",
        "\n",
        "bleu = evaluate.load(\"bleu\")\n",
        "results = bleu.compute(predictions=predictions, references=references)\n",
        "print(results)"
      ],
      "metadata": {
        "colab": {
          "base_uri": "https://localhost:8080/"
        },
        "id": "DJ35puxdL3n6",
        "outputId": "47e0f469-194c-4a2e-81af-1edee8097ce5"
      },
      "execution_count": null,
      "outputs": [
        {
          "output_type": "stream",
          "name": "stderr",
          "text": [
            "[nltk_data] Downloading package wordnet to /root/nltk_data...\n",
            "[nltk_data]   Package wordnet is already up-to-date!\n",
            "[nltk_data] Downloading package punkt to /root/nltk_data...\n",
            "[nltk_data]   Package punkt is already up-to-date!\n",
            "[nltk_data] Downloading package omw-1.4 to /root/nltk_data...\n",
            "[nltk_data]   Package omw-1.4 is already up-to-date!\n"
          ]
        },
        {
          "output_type": "stream",
          "name": "stdout",
          "text": [
            "test 0.33\n",
            "{'rouge1': 0.5806451612903226, 'rouge2': 0.27586206896551724, 'rougeL': 0.5161290322580646, 'rougeLsum': 0.5161290322580646}\n",
            "{'bleu': 0.0, 'precisions': [0.6153846153846154, 0.5, 0.18181818181818182, 0.0], 'brevity_penalty': 1.0, 'length_ratio': 1.4444444444444444, 'translation_length': 13, 'reference_length': 9}\n"
          ]
        }
      ]
    },
    {
      "cell_type": "code",
      "source": [
        "predictions = [\"people sitting on a rock overlooking a river and a mountain\"]\n",
        "references = [[\"A couple enjoys a quiet moment near the river\",\"A few people sit out on rocks overlooking the water below\",\"Two people are sitting on a rock overlooking the river\",\"Two people sit on top of a cliff overlooking a river\",\"Two people sit upon large rocks next to a river\"]]\n",
        "\n",
        "meteor = evaluate.load('meteor')\n",
        "resultsm = meteor.compute(predictions=predictions, references=references)\n",
        "print(\"test\",  round(resultsm['meteor'], 2))\n",
        "\n",
        "rouge = evaluate.load('rouge')\n",
        "results = rouge.compute(predictions=predictions, references=references)\n",
        "print(results)\n",
        "\n",
        "bleu = evaluate.load(\"bleu\")\n",
        "results = bleu.compute(predictions=predictions, references=references)\n",
        "print(results)"
      ],
      "metadata": {
        "colab": {
          "base_uri": "https://localhost:8080/"
        },
        "id": "aZzTgQkHL3eI",
        "outputId": "5b3f3b72-17e3-4c24-a61d-68334c42fcfc"
      },
      "execution_count": null,
      "outputs": [
        {
          "output_type": "stream",
          "name": "stderr",
          "text": [
            "[nltk_data] Downloading package wordnet to /root/nltk_data...\n",
            "[nltk_data]   Package wordnet is already up-to-date!\n",
            "[nltk_data] Downloading package punkt to /root/nltk_data...\n",
            "[nltk_data]   Package punkt is already up-to-date!\n",
            "[nltk_data] Downloading package omw-1.4 to /root/nltk_data...\n",
            "[nltk_data]   Package omw-1.4 is already up-to-date!\n"
          ]
        },
        {
          "output_type": "stream",
          "name": "stdout",
          "text": [
            "test 0.57\n",
            "{'rouge1': 0.6666666666666666, 'rouge2': 0.4210526315789474, 'rougeL': 0.6666666666666666, 'rougeLsum': 0.6666666666666666}\n",
            "{'bleu': 0.46924700641055994, 'precisions': [0.7272727272727273, 0.6, 0.4444444444444444, 0.25], 'brevity_penalty': 1.0, 'length_ratio': 1.2222222222222223, 'translation_length': 11, 'reference_length': 9}\n"
          ]
        }
      ]
    },
    {
      "cell_type": "code",
      "source": [
        "predictions = [\"there are two people sitting on a bench in the street\"]\n",
        "references = [[\"A couple sit on the hood of a car with their backs to the camera\",\"A couple sits on a car\",\"A man and a woman sit on a car and face the opposite way of the camera\",\"A man and woman sit on a car and watch the road\",\"A man and woman sitting on a parked car\"]]\n",
        "\n",
        "meteor = evaluate.load('meteor')\n",
        "resultsm = meteor.compute(predictions=predictions, references=references)\n",
        "print(\"test\",  round(resultsm['meteor'], 2))\n",
        "\n",
        "rouge = evaluate.load('rouge')\n",
        "results = rouge.compute(predictions=predictions, references=references)\n",
        "print(results)\n",
        "\n",
        "bleu = evaluate.load(\"bleu\")\n",
        "results = bleu.compute(predictions=predictions, references=references)\n",
        "print(results)"
      ],
      "metadata": {
        "id": "h-yf9QOeL3U-",
        "colab": {
          "base_uri": "https://localhost:8080/"
        },
        "outputId": "808447bb-67ab-4941-d6c6-92e9c8188f25"
      },
      "execution_count": null,
      "outputs": [
        {
          "output_type": "stream",
          "name": "stderr",
          "text": [
            "[nltk_data] Downloading package wordnet to /root/nltk_data...\n",
            "[nltk_data]   Package wordnet is already up-to-date!\n",
            "[nltk_data] Downloading package punkt to /root/nltk_data...\n",
            "[nltk_data]   Package punkt is already up-to-date!\n",
            "[nltk_data] Downloading package omw-1.4 to /root/nltk_data...\n",
            "[nltk_data]   Package omw-1.4 is already up-to-date!\n"
          ]
        },
        {
          "output_type": "stream",
          "name": "stdout",
          "text": [
            "test 0.45\n",
            "{'rouge1': 0.3, 'rouge2': 0.22222222222222224, 'rougeL': 0.3, 'rougeLsum': 0.3}\n",
            "{'bleu': 0.0, 'precisions': [0.36363636363636365, 0.2, 0.1111111111111111, 0.0], 'brevity_penalty': 1.0, 'length_ratio': 1.8333333333333333, 'translation_length': 11, 'reference_length': 6}\n"
          ]
        }
      ]
    },
    {
      "cell_type": "code",
      "source": [
        "predictions = [\"there is a man riding a motorcycle on a road with trees in the background\"]\n",
        "references = [[\"A motorcycle racer leans his bike\",\"A motorcyclist is driving down a road on their motorbike\",\"A motorcyclist is riding their sponsored car along a roadway that has recently turned\",\"A motorcyclist on the street\",\"A motorcyclist with a red helmet rides his blue motorcycle down the road\"]]\n",
        "\n",
        "meteor = evaluate.load('meteor')\n",
        "resultsm = meteor.compute(predictions=predictions, references=references)\n",
        "print(\"test\",  round(resultsm['meteor'], 2))\n",
        "\n",
        "rouge = evaluate.load('rouge')\n",
        "results = rouge.compute(predictions=predictions, references=references)\n",
        "print(results)\n",
        "\n",
        "bleu = evaluate.load(\"bleu\")\n",
        "results = bleu.compute(predictions=predictions, references=references)\n",
        "print(results)"
      ],
      "metadata": {
        "id": "hAE4RbnuL3Hg",
        "colab": {
          "base_uri": "https://localhost:8080/"
        },
        "outputId": "3113dacb-83c1-4878-bd9a-5bb02b982ca1"
      },
      "execution_count": null,
      "outputs": [
        {
          "output_type": "stream",
          "name": "stderr",
          "text": [
            "[nltk_data] Downloading package wordnet to /root/nltk_data...\n",
            "[nltk_data]   Package wordnet is already up-to-date!\n",
            "[nltk_data] Downloading package punkt to /root/nltk_data...\n",
            "[nltk_data]   Package punkt is already up-to-date!\n",
            "[nltk_data] Downloading package omw-1.4 to /root/nltk_data...\n",
            "[nltk_data]   Package omw-1.4 is already up-to-date!\n"
          ]
        },
        {
          "output_type": "stream",
          "name": "stdout",
          "text": [
            "test 0.41\n",
            "{'rouge1': 0.42857142857142855, 'rouge2': 0.10526315789473682, 'rougeL': 0.3, 'rougeLsum': 0.3}\n",
            "{'bleu': 0.0, 'precisions': [0.5333333333333333, 0.07142857142857142, 0.0, 0.0], 'brevity_penalty': 1.0, 'length_ratio': 3.0, 'translation_length': 15, 'reference_length': 5}\n"
          ]
        }
      ]
    },
    {
      "cell_type": "code",
      "source": [
        "predictions = [\"there is a bird that is flying over a rock formation\"]\n",
        "references = [[\"A mountain climber looks down from the summit\",\"A person is rock climbing between two large rock faces\",\"A rock climber climbs in between two very large rocks\",\"A rock climber leans out from a crag against a deep blue sky\",\"Two large mountains stand high in the air as a person tries to climb one\"]]\n",
        "\n",
        "meteor = evaluate.load('meteor')\n",
        "resultsm = meteor.compute(predictions=predictions, references=references)\n",
        "print(\"test\",  round(resultsm['meteor'], 2))\n",
        "\n",
        "rouge = evaluate.load('rouge')\n",
        "results = rouge.compute(predictions=predictions, references=references)\n",
        "print(results)\n",
        "\n",
        "bleu = evaluate.load(\"bleu\")\n",
        "results = bleu.compute(predictions=predictions, references=references)\n",
        "print(results)"
      ],
      "metadata": {
        "id": "pRjWuZ-JL24S",
        "colab": {
          "base_uri": "https://localhost:8080/"
        },
        "outputId": "e1907402-7ee1-468b-b629-578166cad37d"
      },
      "execution_count": null,
      "outputs": [
        {
          "output_type": "stream",
          "name": "stderr",
          "text": [
            "[nltk_data] Downloading package wordnet to /root/nltk_data...\n",
            "[nltk_data]   Package wordnet is already up-to-date!\n",
            "[nltk_data] Downloading package punkt to /root/nltk_data...\n",
            "[nltk_data]   Package punkt is already up-to-date!\n",
            "[nltk_data] Downloading package omw-1.4 to /root/nltk_data...\n",
            "[nltk_data]   Package omw-1.4 is already up-to-date!\n"
          ]
        },
        {
          "output_type": "stream",
          "name": "stdout",
          "text": [
            "test 0.19\n",
            "{'rouge1': 0.28571428571428564, 'rouge2': 0.10526315789473685, 'rougeL': 0.28571428571428564, 'rougeLsum': 0.28571428571428564}\n",
            "{'bleu': 0.0, 'precisions': [0.36363636363636365, 0.0, 0.0, 0.0], 'brevity_penalty': 1.0, 'length_ratio': 1.375, 'translation_length': 11, 'reference_length': 8}\n"
          ]
        }
      ]
    },
    {
      "cell_type": "code",
      "source": [
        "predictions = [\"there is a little girl sitting under a rainbow painted on a wall\"]\n",
        "references = [[\"A little girl covered in paint sits in front of a painted rainbow with her hands in a bowl\", \"A little girl is sitting in front of a large painted rainbow\",\"A small girl in the grass plays with fingerpaints in front of a white canvas with a rainbow on it\",\"There is a girl with pigtails sitting in front of a rainbow painting\",\"Young girl with pigtails painting outside in the grass\"]]\n",
        "\n",
        "meteor = evaluate.load('meteor')\n",
        "resultsm = meteor.compute(predictions=predictions, references=references)\n",
        "print(\"test\",  round(resultsm['meteor'], 2))\n",
        "\n",
        "rouge = evaluate.load('rouge')\n",
        "results = rouge.compute(predictions=predictions, references=references)\n",
        "print(results)\n",
        "\n",
        "bleu = evaluate.load(\"bleu\")\n",
        "results = bleu.compute(predictions=predictions, references=references)\n",
        "print(results)"
      ],
      "metadata": {
        "id": "DTmQho6TL2wU",
        "colab": {
          "base_uri": "https://localhost:8080/"
        },
        "outputId": "03b2cb6f-0296-470e-eca2-f4c0dc62c741"
      },
      "execution_count": null,
      "outputs": [
        {
          "output_type": "stream",
          "name": "stderr",
          "text": [
            "[nltk_data] Downloading package wordnet to /root/nltk_data...\n",
            "[nltk_data]   Package wordnet is already up-to-date!\n",
            "[nltk_data] Downloading package punkt to /root/nltk_data...\n",
            "[nltk_data]   Package punkt is already up-to-date!\n",
            "[nltk_data] Downloading package omw-1.4 to /root/nltk_data...\n",
            "[nltk_data]   Package omw-1.4 is already up-to-date!\n"
          ]
        },
        {
          "output_type": "stream",
          "name": "stdout",
          "text": [
            "test 0.49\n",
            "{'rouge1': 0.64, 'rouge2': 0.25, 'rougeL': 0.5384615384615384, 'rougeLsum': 0.5384615384615384}\n",
            "{'bleu': 0.0, 'precisions': [0.6923076923076923, 0.25, 0.0, 0.0], 'brevity_penalty': 1.0, 'length_ratio': 1.4444444444444444, 'translation_length': 13, 'reference_length': 9}\n"
          ]
        }
      ]
    },
    {
      "cell_type": "code",
      "source": [
        "predictions = [\"there is a dog running through a yard with a hose\"]\n",
        "references = [[\"A brown dog chases the water from a sprinkler on a lawn\", \"a brown dog plays with the hose\",\"A brown dog running on a lawn near a garden hose\",\"A dog is playing with a hose\", \"Large brown dog running away from the sprinkler in the grass\" ]]\n",
        "\n",
        "meteor = evaluate.load('meteor')\n",
        "resultsm = meteor.compute(predictions=predictions, references=references)\n",
        "print(\"test\",  round(resultsm['meteor'], 2))\n",
        "\n",
        "rouge = evaluate.load('rouge')\n",
        "results = rouge.compute(predictions=predictions, references=references)\n",
        "print(results)\n",
        "\n",
        "bleu = evaluate.load(\"bleu\")\n",
        "results = bleu.compute(predictions=predictions, references=references)\n",
        "print(results)"
      ],
      "metadata": {
        "id": "8NvGaeT2L2n5",
        "colab": {
          "base_uri": "https://localhost:8080/"
        },
        "outputId": "137dfdc5-3103-4240-8d38-e073b283c2e8"
      },
      "execution_count": null,
      "outputs": [
        {
          "output_type": "stream",
          "name": "stderr",
          "text": [
            "[nltk_data] Downloading package wordnet to /root/nltk_data...\n",
            "[nltk_data]   Package wordnet is already up-to-date!\n",
            "[nltk_data] Downloading package punkt to /root/nltk_data...\n",
            "[nltk_data]   Package punkt is already up-to-date!\n",
            "[nltk_data] Downloading package omw-1.4 to /root/nltk_data...\n",
            "[nltk_data]   Package omw-1.4 is already up-to-date!\n"
          ]
        },
        {
          "output_type": "stream",
          "name": "stdout",
          "text": [
            "test 0.77\n",
            "{'rouge1': 0.6666666666666665, 'rouge2': 0.37499999999999994, 'rougeL': 0.5555555555555556, 'rougeLsum': 0.5555555555555556}\n",
            "{'bleu': 0.0, 'precisions': [0.6363636363636364, 0.3, 0.1111111111111111, 0.0], 'brevity_penalty': 1.0, 'length_ratio': 1.5714285714285714, 'translation_length': 11, 'reference_length': 7}\n"
          ]
        }
      ]
    },
    {
      "cell_type": "code",
      "source": [
        "predictions = [\"there are three girls riding on a four wheeler in a field\"]\n",
        "references = [[\"A family playing on a tractor on a beautiful day\",\"Children ride a tractor in a field\",\"Several children playing on a Polaris vehicle outdoors\",\"The children played on the four wheeler in the field\",\"The four kids are riding on an ATV in a field\"]]\n",
        "\n",
        "meteor = evaluate.load('meteor')\n",
        "resultsm = meteor.compute(predictions=predictions, references=references)\n",
        "print(\"test\",  round(resultsm['meteor'], 2))\n",
        "\n",
        "rouge = evaluate.load('rouge')\n",
        "results = rouge.compute(predictions=predictions, references=references)\n",
        "print(results)\n",
        "\n",
        "bleu = evaluate.load(\"bleu\")\n",
        "results = bleu.compute(predictions=predictions, references=references)\n",
        "print(results)"
      ],
      "metadata": {
        "id": "R8BWKncZL2fa",
        "colab": {
          "base_uri": "https://localhost:8080/"
        },
        "outputId": "83836eef-aaee-4da1-839c-dc7415ac4079"
      },
      "execution_count": null,
      "outputs": [
        {
          "output_type": "stream",
          "name": "stderr",
          "text": [
            "[nltk_data] Downloading package wordnet to /root/nltk_data...\n",
            "[nltk_data]   Package wordnet is already up-to-date!\n",
            "[nltk_data] Downloading package punkt to /root/nltk_data...\n",
            "[nltk_data]   Package punkt is already up-to-date!\n",
            "[nltk_data] Downloading package omw-1.4 to /root/nltk_data...\n",
            "[nltk_data]   Package omw-1.4 is already up-to-date!\n"
          ]
        },
        {
          "output_type": "stream",
          "name": "stdout",
          "text": [
            "test 0.59\n",
            "{'rouge1': 0.6086956521739131, 'rouge2': 0.28571428571428564, 'rougeL': 0.5217391304347826, 'rougeLsum': 0.5217391304347826}\n",
            "{'bleu': 0.0, 'precisions': [0.75, 0.5454545454545454, 0.2, 0.0], 'brevity_penalty': 1.0, 'length_ratio': 1.7142857142857142, 'translation_length': 12, 'reference_length': 7}\n"
          ]
        }
      ]
    },
    {
      "cell_type": "code",
      "source": [
        "predictions = [\"there are two small dogs that are walking on a rock\"]\n",
        "references = [[\"Two little puppies chase each other on a stone wall\", \"Two puppies run across flat stones in garden area\",\"Two puppies walking on stones\",\"Two small puppies run along the edge of a stone wall nearby a heavily foliaged area\",\"two small tan puppies walking on a stone path\"]]\n",
        "\n",
        "meteor = evaluate.load('meteor')\n",
        "resultsm = meteor.compute(predictions=predictions, references=references)\n",
        "print(\"test\",  round(resultsm['meteor'], 2))\n",
        "\n",
        "rouge = evaluate.load('rouge')\n",
        "results = rouge.compute(predictions=predictions, references=references)\n",
        "print(results)\n",
        "\n",
        "bleu = evaluate.load(\"bleu\")\n",
        "results = bleu.compute(predictions=predictions, references=references)\n",
        "print(results)"
      ],
      "metadata": {
        "id": "hLC4FCH2L2Ww",
        "colab": {
          "base_uri": "https://localhost:8080/"
        },
        "outputId": "57f5e7d5-1905-4b40-decd-779851a0daec"
      },
      "execution_count": null,
      "outputs": [
        {
          "output_type": "stream",
          "name": "stderr",
          "text": [
            "[nltk_data] Downloading package wordnet to /root/nltk_data...\n",
            "[nltk_data]   Package wordnet is already up-to-date!\n",
            "[nltk_data] Downloading package punkt to /root/nltk_data...\n",
            "[nltk_data]   Package punkt is already up-to-date!\n",
            "[nltk_data] Downloading package omw-1.4 to /root/nltk_data...\n",
            "[nltk_data]   Package omw-1.4 is already up-to-date!\n"
          ]
        },
        {
          "output_type": "stream",
          "name": "stdout",
          "text": [
            "test 0.64\n",
            "{'rouge1': 0.5, 'rouge2': 0.33333333333333326, 'rougeL': 0.5, 'rougeLsum': 0.5}\n",
            "{'bleu': 0.0, 'precisions': [0.45454545454545453, 0.3, 0.1111111111111111, 0.0], 'brevity_penalty': 1.0, 'length_ratio': 2.2, 'translation_length': 11, 'reference_length': 5}\n"
          ]
        }
      ]
    },
    {
      "cell_type": "code",
      "source": [
        "predictions = [\"woman sitting on a green tire in a cafe with a cup of coffee\"]\n",
        "references = [[\"a lone woman sitting on an usual green bench with a cup in her hand\",\"A woman sits on a flower pot at a crowded coffee shop\",\"The woman sat on a green bench and had a drink\",\"Woman holding a drink with a white bag next to her is sitting on a green sculpture\",\"Woman sitting on a turquoise bench with a pillow and a bag near a restaurant\"]]\n",
        "\n",
        "meteor = evaluate.load('meteor')\n",
        "resultsm = meteor.compute(predictions=predictions, references=references)\n",
        "print(\"test\",  round(resultsm['meteor'], 2))\n",
        "\n",
        "rouge = evaluate.load('rouge')\n",
        "results = rouge.compute(predictions=predictions, references=references)\n",
        "print(results)\n",
        "\n",
        "bleu = evaluate.load(\"bleu\")\n",
        "results = bleu.compute(predictions=predictions, references=references)\n",
        "print(results)"
      ],
      "metadata": {
        "id": "OY5VZ2foL2OX",
        "colab": {
          "base_uri": "https://localhost:8080/"
        },
        "outputId": "20620da0-8246-426c-b69c-b15c95c7e7a9"
      },
      "execution_count": null,
      "outputs": [
        {
          "output_type": "stream",
          "name": "stderr",
          "text": [
            "[nltk_data] Downloading package wordnet to /root/nltk_data...\n",
            "[nltk_data]   Package wordnet is already up-to-date!\n",
            "[nltk_data] Downloading package punkt to /root/nltk_data...\n",
            "[nltk_data]   Package punkt is already up-to-date!\n",
            "[nltk_data] Downloading package omw-1.4 to /root/nltk_data...\n",
            "[nltk_data]   Package omw-1.4 is already up-to-date!\n"
          ]
        },
        {
          "output_type": "stream",
          "name": "stdout",
          "text": [
            "test 0.55\n",
            "{'rouge1': 0.6206896551724138, 'rouge2': 0.29629629629629634, 'rougeL': 0.4827586206896552, 'rougeLsum': 0.4827586206896552}\n",
            "{'bleu': 0.3237722713145643, 'precisions': [0.7857142857142857, 0.46153846153846156, 0.3333333333333333, 0.09090909090909091], 'brevity_penalty': 1.0, 'length_ratio': 1.2727272727272727, 'translation_length': 14, 'reference_length': 11}\n"
          ]
        }
      ]
    },
    {
      "cell_type": "code",
      "source": [
        "predictions = [\"there is a man standing on a rock overlooking a valley\"]\n",
        "references = [[\"A lone man stands on a rocky outcropping and looks out over the wilderness\",\"A man in shorts and a black jacket stands on top of a big rock looking down on hills and valleys\",\"A man is standing on a big rock overlooking a valley\",\"A man stands atop a large mountain of rocks\",\"Man standing on edge of large rock overlooking scenic view\"]]\n",
        "\n",
        "meteor = evaluate.load('meteor')\n",
        "resultsm = meteor.compute(predictions=predictions, references=references)\n",
        "print(\"test\",  round(resultsm['meteor'], 2))\n",
        "\n",
        "rouge = evaluate.load('rouge')\n",
        "results = rouge.compute(predictions=predictions, references=references)\n",
        "print(results)\n",
        "\n",
        "bleu = evaluate.load(\"bleu\")\n",
        "results = bleu.compute(predictions=predictions, references=references)\n",
        "print(results)"
      ],
      "metadata": {
        "id": "05DWqWAdL2Ew",
        "colab": {
          "base_uri": "https://localhost:8080/"
        },
        "outputId": "e9f6f387-4d2f-47a1-c0d1-cdeccf9c875f"
      },
      "execution_count": null,
      "outputs": [
        {
          "output_type": "stream",
          "name": "stderr",
          "text": [
            "[nltk_data] Downloading package wordnet to /root/nltk_data...\n",
            "[nltk_data]   Package wordnet is already up-to-date!\n",
            "[nltk_data] Downloading package punkt to /root/nltk_data...\n",
            "[nltk_data]   Package punkt is already up-to-date!\n",
            "[nltk_data] Downloading package omw-1.4 to /root/nltk_data...\n",
            "[nltk_data]   Package omw-1.4 is already up-to-date!\n"
          ]
        },
        {
          "output_type": "stream",
          "name": "stdout",
          "text": [
            "test 0.88\n",
            "{'rouge1': 0.9090909090909091, 'rouge2': 0.6, 'rougeL': 0.8181818181818182, 'rougeLsum': 0.8181818181818182}\n",
            "{'bleu': 0.3613284405728027, 'precisions': [0.8181818181818182, 0.5, 0.3333333333333333, 0.125], 'brevity_penalty': 1.0, 'length_ratio': 1.2222222222222223, 'translation_length': 11, 'reference_length': 9}\n"
          ]
        }
      ]
    },
    {
      "cell_type": "code",
      "source": [
        "predictions = [\"there is a man holding a baby on his shoulder on the field\"]\n",
        "references = [[\"A football player pauses during a game\",\"A football player wears a green jersey with the number \"\" 4 \"\" on it\",\"Greenbay football player is being handed a towel on the field\",\"Green Bay Packer player cooling off\",\"Someone takes a cloth off of a Green Bay Packers football player\"]]\n",
        "\n",
        "meteor = evaluate.load('meteor')\n",
        "resultsm = meteor.compute(predictions=predictions, references=references)\n",
        "print(\"test\",  round(resultsm['meteor'], 2))\n",
        "\n",
        "rouge = evaluate.load('rouge')\n",
        "results = rouge.compute(predictions=predictions, references=references)\n",
        "print(results)\n",
        "\n",
        "bleu = evaluate.load(\"bleu\")\n",
        "results = bleu.compute(predictions=predictions, references=references)\n",
        "print(results)"
      ],
      "metadata": {
        "id": "fnrQsHihL12u",
        "colab": {
          "base_uri": "https://localhost:8080/"
        },
        "outputId": "a0546803-9cfa-412d-99ff-a01133c1beb5"
      },
      "execution_count": null,
      "outputs": [
        {
          "output_type": "stream",
          "name": "stderr",
          "text": [
            "[nltk_data] Downloading package wordnet to /root/nltk_data...\n",
            "[nltk_data]   Package wordnet is already up-to-date!\n",
            "[nltk_data] Downloading package punkt to /root/nltk_data...\n",
            "[nltk_data]   Package punkt is already up-to-date!\n",
            "[nltk_data] Downloading package omw-1.4 to /root/nltk_data...\n",
            "[nltk_data]   Package omw-1.4 is already up-to-date!\n"
          ]
        },
        {
          "output_type": "stream",
          "name": "stdout",
          "text": [
            "test 0.4\n",
            "{'rouge1': 0.41666666666666663, 'rouge2': 0.1818181818181818, 'rougeL': 0.41666666666666663, 'rougeLsum': 0.41666666666666663}\n",
            "{'bleu': 0.0, 'precisions': [0.46153846153846156, 0.16666666666666666, 0.09090909090909091, 0.0], 'brevity_penalty': 1.0, 'length_ratio': 2.1666666666666665, 'translation_length': 13, 'reference_length': 6}\n"
          ]
        }
      ]
    },
    {
      "cell_type": "markdown",
      "source": [
        "# PREDICTION BLIP BASE\n"
      ],
      "metadata": {
        "id": "HNSJmc_tM161"
      }
    },
    {
      "cell_type": "markdown",
      "source": [
        "Compares generated image captions (generated from input images using BLIP  model) with reference captions obtained from Flickr8k Database. Outputs the caption's METEOR, BLEU and ROUGE1 scores."
      ],
      "metadata": {
        "id": "76utO0LzeTio"
      }
    },
    {
      "cell_type": "code",
      "source": [
        "predictions = [\"a woman paddling down a river\"]\n",
        "references = [[\"A girl paddling down a large river , as seen from behind her\", \"A woman kayaking down a river\" ,\"A woman paddles a boat down a river\",\"A woman with a paddle\",\"A woman with a paddle sits in a boat on the water\"]]\n",
        "\n",
        "meteor = evaluate.load('meteor')\n",
        "resultsm = meteor.compute(predictions=predictions, references=references)\n",
        "print(\"test\",  round(resultsm['meteor'], 2))\n",
        "\n",
        "rouge = evaluate.load('rouge')\n",
        "results = rouge.compute(predictions=predictions, references=references)\n",
        "print(results)\n",
        "\n",
        "bleu = evaluate.load(\"bleu\")\n",
        "results = bleu.compute(predictions=predictions, references=references)\n",
        "print(results)"
      ],
      "metadata": {
        "id": "11ajR9rrM162",
        "colab": {
          "base_uri": "https://localhost:8080/"
        },
        "outputId": "16515260-e15a-4fa7-cf58-2a66db200e8a"
      },
      "execution_count": null,
      "outputs": [
        {
          "output_type": "stream",
          "name": "stderr",
          "text": [
            "[nltk_data] Downloading package wordnet to /root/nltk_data...\n",
            "[nltk_data]   Package wordnet is already up-to-date!\n",
            "[nltk_data] Downloading package punkt to /root/nltk_data...\n",
            "[nltk_data]   Package punkt is already up-to-date!\n",
            "[nltk_data] Downloading package omw-1.4 to /root/nltk_data...\n",
            "[nltk_data]   Package omw-1.4 is already up-to-date!\n"
          ]
        },
        {
          "output_type": "stream",
          "name": "stdout",
          "text": [
            "test 0.81\n",
            "{'rouge1': 0.8333333333333334, 'rouge2': 0.6, 'rougeL': 0.8333333333333334, 'rougeLsum': 0.8333333333333334}\n",
            "{'bleu': 0.0, 'precisions': [1.0, 0.6, 0.5, 0.0], 'brevity_penalty': 1.0, 'length_ratio': 1.2, 'translation_length': 6, 'reference_length': 5}\n"
          ]
        }
      ]
    },
    {
      "cell_type": "code",
      "source": [
        "predictions = [\"a person skiing down a snowy slope\"]\n",
        "references = [[\"A lone skier is making their way up a mountain\", \"Skiiers at the top of a snow covered hill \", \"Two hikers climbing a snowy hill\",\"Two people are on a snow-covered mountain\",\"Two people climbing up a snowy mountain\"]]\n",
        "\n",
        "meteor = evaluate.load('meteor')\n",
        "resultsm = meteor.compute(predictions=predictions, references=references)\n",
        "print(\"test\",  round(resultsm['meteor'], 2))\n",
        "\n",
        "rouge = evaluate.load('rouge')\n",
        "results = rouge.compute(predictions=predictions, references=references)\n",
        "print(results)\n",
        "\n",
        "bleu = evaluate.load(\"bleu\")\n",
        "results = bleu.compute(predictions=predictions, references=references)\n",
        "print(results)"
      ],
      "metadata": {
        "id": "PML0ojPjM162",
        "colab": {
          "base_uri": "https://localhost:8080/"
        },
        "outputId": "a37c76e9-3e4f-47bd-ee4b-757af6cd5be5"
      },
      "execution_count": null,
      "outputs": [
        {
          "output_type": "stream",
          "name": "stderr",
          "text": [
            "[nltk_data] Downloading package wordnet to /root/nltk_data...\n",
            "[nltk_data]   Package wordnet is already up-to-date!\n",
            "[nltk_data] Downloading package punkt to /root/nltk_data...\n",
            "[nltk_data]   Package punkt is already up-to-date!\n",
            "[nltk_data] Downloading package omw-1.4 to /root/nltk_data...\n",
            "[nltk_data]   Package omw-1.4 is already up-to-date!\n"
          ]
        },
        {
          "output_type": "stream",
          "name": "stdout",
          "text": [
            "test 0.31\n",
            "{'rouge1': 0.30769230769230765, 'rouge2': 0.1818181818181818, 'rougeL': 0.30769230769230765, 'rougeLsum': 0.30769230769230765}\n",
            "{'bleu': 0.0, 'precisions': [0.2857142857142857, 0.16666666666666666, 0.0, 0.0], 'brevity_penalty': 1.0, 'length_ratio': 1.1666666666666667, 'translation_length': 7, 'reference_length': 6}\n"
          ]
        }
      ]
    },
    {
      "cell_type": "code",
      "source": [
        "predictions = [\"two men in tuxed tuxed tuxed tuxed tuxed tuxed tuxed tuxed\"]\n",
        "references = [[\"A man wearing a tuxedo shirt , vest , and bow-tie is kissing another man wearing the same thing on the cheek\",\"A man with a shaved head is kissing another man on the cheek\",\"Tne man in a vest and tie plants a kiss on the cheek of another happy man\",\"One man kissing another man on the check and both are in white shirts with black vests\",\"One men is laughing while being kissed on the cheek by another man , both men are wearing formal wear\"]]\n",
        "\n",
        "meteor = evaluate.load('meteor')\n",
        "resultsm = meteor.compute(predictions=predictions, references=references)\n",
        "print(\"test\",  round(resultsm['meteor'], 2))\n",
        "\n",
        "rouge = evaluate.load('rouge')\n",
        "results = rouge.compute(predictions=predictions, references=references)\n",
        "print(results)\n",
        "\n",
        "bleu = evaluate.load(\"bleu\")\n",
        "results = bleu.compute(predictions=predictions, references=references)\n",
        "print(results)"
      ],
      "metadata": {
        "id": "532R2JydM162",
        "colab": {
          "base_uri": "https://localhost:8080/"
        },
        "outputId": "36b95b3b-a017-4ac6-db79-a9ebc937d789"
      },
      "execution_count": null,
      "outputs": [
        {
          "output_type": "stream",
          "name": "stderr",
          "text": [
            "[nltk_data] Downloading package wordnet to /root/nltk_data...\n",
            "[nltk_data]   Package wordnet is already up-to-date!\n",
            "[nltk_data] Downloading package punkt to /root/nltk_data...\n",
            "[nltk_data]   Package punkt is already up-to-date!\n",
            "[nltk_data] Downloading package omw-1.4 to /root/nltk_data...\n",
            "[nltk_data]   Package omw-1.4 is already up-to-date!\n"
          ]
        },
        {
          "output_type": "stream",
          "name": "stdout",
          "text": [
            "test 0.06\n",
            "{'rouge1': 0.07142857142857142, 'rouge2': 0.0, 'rougeL': 0.07142857142857142, 'rougeLsum': 0.07142857142857142}\n",
            "{'bleu': 0.0, 'precisions': [0.18181818181818182, 0.0, 0.0, 0.0], 'brevity_penalty': 0.8337529180751805, 'length_ratio': 0.8461538461538461, 'translation_length': 11, 'reference_length': 13}\n"
          ]
        }
      ]
    },
    {
      "cell_type": "code",
      "source": [
        "predictions = [\"a man in a canoe\"]\n",
        "references = [[\"A large man sits in the back of a canoe with another man in front on a river\",\"two man are paddling a kayak along a river with green trees on either side\",\"Two men in a small boat rowing down a river\",\"Two men paddling a canoe down a narrow stream\",\"Two paddlers propel a canoe down a tree-lined stream\"]]\n",
        "\n",
        "meteor = evaluate.load('meteor')\n",
        "resultsm = meteor.compute(predictions=predictions, references=references)\n",
        "print(\"test\",  round(resultsm['meteor'], 2))\n",
        "\n",
        "rouge = evaluate.load('rouge')\n",
        "results = rouge.compute(predictions=predictions, references=references)\n",
        "print(results)\n",
        "\n",
        "bleu = evaluate.load(\"bleu\")\n",
        "results = bleu.compute(predictions=predictions, references=references)\n",
        "print(results)"
      ],
      "metadata": {
        "id": "_Jv0R9VrM162",
        "colab": {
          "base_uri": "https://localhost:8080/"
        },
        "outputId": "b5e0e6ad-5a2a-4961-b1f1-9fb989273fcd"
      },
      "execution_count": null,
      "outputs": [
        {
          "output_type": "stream",
          "name": "stderr",
          "text": [
            "[nltk_data] Downloading package wordnet to /root/nltk_data...\n",
            "[nltk_data]   Package wordnet is already up-to-date!\n",
            "[nltk_data] Downloading package punkt to /root/nltk_data...\n",
            "[nltk_data]   Package punkt is already up-to-date!\n",
            "[nltk_data] Downloading package omw-1.4 to /root/nltk_data...\n",
            "[nltk_data]   Package omw-1.4 is already up-to-date!\n"
          ]
        },
        {
          "output_type": "stream",
          "name": "stdout",
          "text": [
            "test 0.22\n",
            "{'rouge1': 0.4347826086956522, 'rouge2': 0.19047619047619047, 'rougeL': 0.4347826086956522, 'rougeLsum': 0.4347826086956522}\n",
            "{'bleu': 0.0, 'precisions': [1.0, 0.75, 0.0, 0.0], 'brevity_penalty': 0.4493289641172217, 'length_ratio': 0.5555555555555556, 'translation_length': 5, 'reference_length': 9}\n"
          ]
        }
      ]
    },
    {
      "cell_type": "code",
      "source": [
        "predictions = [\"a man sitting on a rock next to a river\"]\n",
        "references = [[\"A couple enjoys a quiet moment near the river\",\"A few people sit out on rocks overlooking the water below\",\"Two people are sitting on a rock overlooking the river\",\"Two people sit on top of a cliff overlooking a river\",\"Two people sit upon large rocks next to a river\"]]\n",
        "\n",
        "meteor = evaluate.load('meteor')\n",
        "resultsm = meteor.compute(predictions=predictions, references=references)\n",
        "print(\"test\",  round(resultsm['meteor'], 2))\n",
        "\n",
        "rouge = evaluate.load('rouge')\n",
        "results = rouge.compute(predictions=predictions, references=references)\n",
        "print(results)\n",
        "\n",
        "bleu = evaluate.load(\"bleu\")\n",
        "results = bleu.compute(predictions=predictions, references=references)\n",
        "print(results)"
      ],
      "metadata": {
        "id": "vGRc9Vk_M162",
        "colab": {
          "base_uri": "https://localhost:8080/"
        },
        "outputId": "86c40194-0fe1-445b-cabd-4d854664ea22"
      },
      "execution_count": null,
      "outputs": [
        {
          "output_type": "stream",
          "name": "stderr",
          "text": [
            "[nltk_data] Downloading package wordnet to /root/nltk_data...\n",
            "[nltk_data]   Package wordnet is already up-to-date!\n",
            "[nltk_data] Downloading package punkt to /root/nltk_data...\n",
            "[nltk_data]   Package punkt is already up-to-date!\n",
            "[nltk_data] Downloading package omw-1.4 to /root/nltk_data...\n",
            "[nltk_data]   Package omw-1.4 is already up-to-date!\n"
          ]
        },
        {
          "output_type": "stream",
          "name": "stdout",
          "text": [
            "test 0.59\n",
            "{'rouge1': 0.5, 'rouge2': 0.3333333333333333, 'rougeL': 0.5, 'rougeLsum': 0.5}\n",
            "{'bleu': 0.5253819788848316, 'precisions': [0.8, 0.6666666666666666, 0.5, 0.2857142857142857], 'brevity_penalty': 1.0, 'length_ratio': 1.1111111111111112, 'translation_length': 10, 'reference_length': 9}\n"
          ]
        }
      ]
    },
    {
      "cell_type": "code",
      "source": [
        "predictions = [\"a man and woman sitting on a car\"]\n",
        "references = [[\"A couple sit on the hood of a car with their backs to the camera\",\"A couple sits on a car\",\"A man and a woman sit on a car and face the opposite way of the camera\",\"A man and woman sit on a car and watch the road\",\"A man and woman sitting on a parked car\"]]\n",
        "\n",
        "meteor = evaluate.load('meteor')\n",
        "resultsm = meteor.compute(predictions=predictions, references=references)\n",
        "print(\"test\",  round(resultsm['meteor'], 2))\n",
        "\n",
        "rouge = evaluate.load('rouge')\n",
        "results = rouge.compute(predictions=predictions, references=references)\n",
        "print(results)\n",
        "\n",
        "bleu = evaluate.load(\"bleu\")\n",
        "results = bleu.compute(predictions=predictions, references=references)\n",
        "print(results)"
      ],
      "metadata": {
        "id": "v1NlOGQhM162",
        "colab": {
          "base_uri": "https://localhost:8080/"
        },
        "outputId": "a7dff152-1c84-40d3-8562-bd5034d88229"
      },
      "execution_count": null,
      "outputs": [
        {
          "output_type": "stream",
          "name": "stderr",
          "text": [
            "[nltk_data] Downloading package wordnet to /root/nltk_data...\n",
            "[nltk_data]   Package wordnet is already up-to-date!\n",
            "[nltk_data] Downloading package punkt to /root/nltk_data...\n",
            "[nltk_data]   Package punkt is already up-to-date!\n",
            "[nltk_data] Downloading package omw-1.4 to /root/nltk_data...\n",
            "[nltk_data]   Package omw-1.4 is already up-to-date!\n"
          ]
        },
        {
          "output_type": "stream",
          "name": "stdout",
          "text": [
            "test 0.89\n",
            "{'rouge1': 0.9411764705882353, 'rouge2': 0.7999999999999999, 'rougeL': 0.9411764705882353, 'rougeLsum': 0.9411764705882353}\n",
            "{'bleu': 0.8091067115702212, 'precisions': [1.0, 0.8571428571428571, 0.8333333333333334, 0.6], 'brevity_penalty': 1.0, 'length_ratio': 1.3333333333333333, 'translation_length': 8, 'reference_length': 6}\n"
          ]
        }
      ]
    },
    {
      "cell_type": "code",
      "source": [
        "predictions = [\"a person riding a motorcycle on a road\"]\n",
        "references = [[\"A motorcycle racer leans his bike\",\"A motorcyclist is driving down a road on their motorbike\",\"A motorcyclist is riding their sponsored car along a roadway that has recently turned\",\"A motorcyclist on the street\",\"A motorcyclist with a red helmet rides his blue motorcycle down the road\"]]\n",
        "\n",
        "meteor = evaluate.load('meteor')\n",
        "resultsm = meteor.compute(predictions=predictions, references=references)\n",
        "print(\"test\",  round(resultsm['meteor'], 2))\n",
        "\n",
        "rouge = evaluate.load('rouge')\n",
        "results = rouge.compute(predictions=predictions, references=references)\n",
        "print(results)\n",
        "\n",
        "bleu = evaluate.load(\"bleu\")\n",
        "results = bleu.compute(predictions=predictions, references=references)\n",
        "print(results)"
      ],
      "metadata": {
        "id": "VW9aTzslM162",
        "colab": {
          "base_uri": "https://localhost:8080/"
        },
        "outputId": "d93a626f-055c-4414-b4e9-1f2aa4eaadda"
      },
      "execution_count": null,
      "outputs": [
        {
          "output_type": "stream",
          "name": "stderr",
          "text": [
            "[nltk_data] Downloading package wordnet to /root/nltk_data...\n",
            "[nltk_data]   Package wordnet is already up-to-date!\n",
            "[nltk_data] Downloading package punkt to /root/nltk_data...\n",
            "[nltk_data]   Package punkt is already up-to-date!\n",
            "[nltk_data] Downloading package omw-1.4 to /root/nltk_data...\n",
            "[nltk_data]   Package omw-1.4 is already up-to-date!\n"
          ]
        },
        {
          "output_type": "stream",
          "name": "stdout",
          "text": [
            "test 0.38\n",
            "{'rouge1': 0.4444444444444445, 'rouge2': 0.16666666666666666, 'rougeL': 0.380952380952381, 'rougeLsum': 0.380952380952381}\n",
            "{'bleu': 0.0, 'precisions': [0.625, 0.14285714285714285, 0.0, 0.0], 'brevity_penalty': 1.0, 'length_ratio': 1.6, 'translation_length': 8, 'reference_length': 5}\n"
          ]
        }
      ]
    },
    {
      "cell_type": "code",
      "source": [
        "predictions = [\"a bird sitting on a rock\"]\n",
        "references = [[\"A mountain climber looks down from the summit\",\"A person is rock climbing between two large rock faces\",\"A rock climber climbs in between two very large rocks\",\"A rock climber leans out from a crag against a deep blue sky\",\"Two large mountains stand high in the air as a person tries to climb one\"]]\n",
        "\n",
        "meteor = evaluate.load('meteor')\n",
        "resultsm = meteor.compute(predictions=predictions, references=references)\n",
        "print(\"test\",  round(resultsm['meteor'], 2))\n",
        "\n",
        "rouge = evaluate.load('rouge')\n",
        "results = rouge.compute(predictions=predictions, references=references)\n",
        "print(results)\n",
        "\n",
        "bleu = evaluate.load(\"bleu\")\n",
        "results = bleu.compute(predictions=predictions, references=references)\n",
        "print(results)"
      ],
      "metadata": {
        "id": "DDIQm_LKM163",
        "colab": {
          "base_uri": "https://localhost:8080/"
        },
        "outputId": "1a4bd3bc-4e80-4942-8db5-07073aebe02d"
      },
      "execution_count": null,
      "outputs": [
        {
          "output_type": "stream",
          "name": "stderr",
          "text": [
            "[nltk_data] Downloading package wordnet to /root/nltk_data...\n",
            "[nltk_data]   Package wordnet is already up-to-date!\n",
            "[nltk_data] Downloading package punkt to /root/nltk_data...\n",
            "[nltk_data]   Package punkt is already up-to-date!\n",
            "[nltk_data] Downloading package omw-1.4 to /root/nltk_data...\n",
            "[nltk_data]   Package omw-1.4 is already up-to-date!\n"
          ]
        },
        {
          "output_type": "stream",
          "name": "stdout",
          "text": [
            "test 0.2\n",
            "{'rouge1': 0.3157894736842105, 'rouge2': 0.14285714285714285, 'rougeL': 0.25, 'rougeLsum': 0.25}\n",
            "{'bleu': 0.0, 'precisions': [0.5, 0.0, 0.0, 0.0], 'brevity_penalty': 0.7165313105737893, 'length_ratio': 0.75, 'translation_length': 6, 'reference_length': 8}\n"
          ]
        }
      ]
    },
    {
      "cell_type": "code",
      "source": [
        "predictions = [\"a child sitting in the grass\"]\n",
        "references = [[\"A little girl covered in paint sits in front of a painted rainbow with her hands in a bowl\", \"A little girl is sitting in front of a large painted rainbow\",\"A small girl in the grass plays with fingerpaints in front of a white canvas with a rainbow on it\",\"There is a girl with pigtails sitting in front of a rainbow painting\",\"Young girl with pigtails painting outside in the grass\"]]\n",
        "\n",
        "meteor = evaluate.load('meteor')\n",
        "resultsm = meteor.compute(predictions=predictions, references=references)\n",
        "print(\"test\",  round(resultsm['meteor'], 2))\n",
        "\n",
        "rouge = evaluate.load('rouge')\n",
        "results = rouge.compute(predictions=predictions, references=references)\n",
        "print(results)\n",
        "\n",
        "bleu = evaluate.load(\"bleu\")\n",
        "results = bleu.compute(predictions=predictions, references=references)\n",
        "print(results)"
      ],
      "metadata": {
        "id": "CyttliCMM163",
        "colab": {
          "base_uri": "https://localhost:8080/"
        },
        "outputId": "9e471953-d1a9-408f-b5f8-5965f268be00"
      },
      "execution_count": null,
      "outputs": [
        {
          "output_type": "stream",
          "name": "stderr",
          "text": [
            "[nltk_data] Downloading package wordnet to /root/nltk_data...\n",
            "[nltk_data]   Package wordnet is already up-to-date!\n",
            "[nltk_data] Downloading package punkt to /root/nltk_data...\n",
            "[nltk_data]   Package punkt is already up-to-date!\n",
            "[nltk_data] Downloading package omw-1.4 to /root/nltk_data...\n",
            "[nltk_data]   Package omw-1.4 is already up-to-date!\n"
          ]
        },
        {
          "output_type": "stream",
          "name": "stdout",
          "text": [
            "test 0.34\n",
            "{'rouge1': 0.4, 'rouge2': 0.3076923076923077, 'rougeL': 0.4, 'rougeLsum': 0.4}\n",
            "{'bleu': 0.0, 'precisions': [0.8333333333333334, 0.6, 0.25, 0.0], 'brevity_penalty': 0.6065306597126334, 'length_ratio': 0.6666666666666666, 'translation_length': 6, 'reference_length': 9}\n"
          ]
        }
      ]
    },
    {
      "cell_type": "code",
      "source": [
        "predictions = [\"a dog running through a hose in a yard\"]\n",
        "references = [[\"A brown dog chases the water from a sprinkler on a lawn\", \"a brown dog plays with the hose\",\"A brown dog running on a lawn near a garden hose\",\"A dog is playing with a hose\", \"Large brown dog running away from the sprinkler in the grass\" ]]\n",
        "\n",
        "meteor = evaluate.load('meteor')\n",
        "resultsm = meteor.compute(predictions=predictions, references=references)\n",
        "print(\"test\",  round(resultsm['meteor'], 2))\n",
        "\n",
        "rouge = evaluate.load('rouge')\n",
        "results = rouge.compute(predictions=predictions, references=references)\n",
        "print(results)\n",
        "\n",
        "bleu = evaluate.load(\"bleu\")\n",
        "results = bleu.compute(predictions=predictions, references=references)\n",
        "print(results)"
      ],
      "metadata": {
        "id": "Z_5NtmU8M163",
        "colab": {
          "base_uri": "https://localhost:8080/"
        },
        "outputId": "6fff9499-b1fd-4b1c-b95a-c3d49260ff2f"
      },
      "execution_count": null,
      "outputs": [
        {
          "output_type": "stream",
          "name": "stderr",
          "text": [
            "[nltk_data] Downloading package wordnet to /root/nltk_data...\n",
            "[nltk_data]   Package wordnet is already up-to-date!\n",
            "[nltk_data] Downloading package punkt to /root/nltk_data...\n",
            "[nltk_data]   Package punkt is already up-to-date!\n",
            "[nltk_data] Downloading package omw-1.4 to /root/nltk_data...\n",
            "[nltk_data]   Package omw-1.4 is already up-to-date!\n"
          ]
        },
        {
          "output_type": "stream",
          "name": "stdout",
          "text": [
            "test 0.44\n",
            "{'rouge1': 0.6, 'rouge2': 0.28571428571428575, 'rougeL': 0.5, 'rougeLsum': 0.5}\n",
            "{'bleu': 0.0, 'precisions': [0.6666666666666666, 0.25, 0.0, 0.0], 'brevity_penalty': 1.0, 'length_ratio': 1.2857142857142858, 'translation_length': 9, 'reference_length': 7}\n"
          ]
        }
      ]
    },
    {
      "cell_type": "code",
      "source": [
        "predictions = [\"two girls on a quad quad quad quad quad quad quad quad quad quad quad quad quad quad quad\"]\n",
        "references = [[\"A family playing on a tractor on a beautiful day\",\"Children ride a tractor in a field\",\"Several children playing on a Polaris vehicle outdoors\",\"The children played on the four wheeler in the field\",\"The four kids are riding on an ATV in a field\"]]\n",
        "\n",
        "meteor = evaluate.load('meteor')\n",
        "resultsm = meteor.compute(predictions=predictions, references=references)\n",
        "print(\"test\",  round(resultsm['meteor'], 2))\n",
        "\n",
        "rouge = evaluate.load('rouge')\n",
        "results = rouge.compute(predictions=predictions, references=references)\n",
        "print(results)\n",
        "\n",
        "bleu = evaluate.load(\"bleu\")\n",
        "results = bleu.compute(predictions=predictions, references=references)\n",
        "print(results)"
      ],
      "metadata": {
        "id": "h9vNpQ2UM163",
        "colab": {
          "base_uri": "https://localhost:8080/"
        },
        "outputId": "ee5caa1a-1e7d-4564-f9dc-75fc7de0ccea"
      },
      "execution_count": null,
      "outputs": [
        {
          "output_type": "stream",
          "name": "stderr",
          "text": [
            "[nltk_data] Downloading package wordnet to /root/nltk_data...\n",
            "[nltk_data]   Package wordnet is already up-to-date!\n",
            "[nltk_data] Downloading package punkt to /root/nltk_data...\n",
            "[nltk_data]   Package punkt is already up-to-date!\n",
            "[nltk_data] Downloading package omw-1.4 to /root/nltk_data...\n",
            "[nltk_data]   Package omw-1.4 is already up-to-date!\n"
          ]
        },
        {
          "output_type": "stream",
          "name": "stdout",
          "text": [
            "test 0.21\n",
            "{'rouge1': 0.14814814814814814, 'rouge2': 0.08, 'rougeL': 0.14814814814814814, 'rougeLsum': 0.14814814814814814}\n",
            "{'bleu': 0.0, 'precisions': [0.10526315789473684, 0.05555555555555555, 0.0, 0.0], 'brevity_penalty': 1.0, 'length_ratio': 2.7142857142857144, 'translation_length': 19, 'reference_length': 7}\n"
          ]
        }
      ]
    },
    {
      "cell_type": "code",
      "source": [
        "predictions = [\"two small dogs are walking on a rock\"]\n",
        "references = [[\"Two little puppies chase each other on a stone wall\", \"Two puppies run across flat stones in garden area\",\"Two puppies walking on stones\",\"Two small puppies run along the edge of a stone wall nearby a heavily foliaged area\",\"two small tan puppies walking on a stone path\"]]\n",
        "\n",
        "meteor = evaluate.load('meteor')\n",
        "resultsm = meteor.compute(predictions=predictions, references=references)\n",
        "print(\"test\",  round(resultsm['meteor'], 2))\n",
        "\n",
        "rouge = evaluate.load('rouge')\n",
        "results = rouge.compute(predictions=predictions, references=references)\n",
        "print(results)\n",
        "\n",
        "bleu = evaluate.load(\"bleu\")\n",
        "results = bleu.compute(predictions=predictions, references=references)\n",
        "print(results)"
      ],
      "metadata": {
        "id": "JchJakpYM163",
        "colab": {
          "base_uri": "https://localhost:8080/"
        },
        "outputId": "2e1a4e33-a4eb-44d4-f2f2-4026acac3938"
      },
      "execution_count": null,
      "outputs": [
        {
          "output_type": "stream",
          "name": "stderr",
          "text": [
            "[nltk_data] Downloading package wordnet to /root/nltk_data...\n",
            "[nltk_data]   Package wordnet is already up-to-date!\n",
            "[nltk_data] Downloading package punkt to /root/nltk_data...\n",
            "[nltk_data]   Package punkt is already up-to-date!\n",
            "[nltk_data] Downloading package omw-1.4 to /root/nltk_data...\n",
            "[nltk_data]   Package omw-1.4 is already up-to-date!\n"
          ]
        },
        {
          "output_type": "stream",
          "name": "stdout",
          "text": [
            "test 0.66\n",
            "{'rouge1': 0.5882352941176471, 'rouge2': 0.39999999999999997, 'rougeL': 0.5882352941176471, 'rougeLsum': 0.5882352941176471}\n",
            "{'bleu': 0.0, 'precisions': [0.625, 0.42857142857142855, 0.16666666666666666, 0.0], 'brevity_penalty': 1.0, 'length_ratio': 1.6, 'translation_length': 8, 'reference_length': 5}\n"
          ]
        }
      ]
    },
    {
      "cell_type": "code",
      "source": [
        "predictions = [\"a woman sitting on a green bench\"]\n",
        "references = [[\"a lone woman sitting on an usual green bench with a cup in her hand\",\"A woman sits on a flower pot at a crowded coffee shop\",\"The woman sat on a green bench and had a drink\",\"Woman holding a drink with a white bag next to her is sitting on a green sculpture\",\"Woman sitting on a turquoise bench with a pillow and a bag near a restaurant\"]]\n",
        "\n",
        "meteor = evaluate.load('meteor')\n",
        "resultsm = meteor.compute(predictions=predictions, references=references)\n",
        "print(\"test\",  round(resultsm['meteor'], 2))\n",
        "\n",
        "rouge = evaluate.load('rouge')\n",
        "results = rouge.compute(predictions=predictions, references=references)\n",
        "print(results)\n",
        "\n",
        "bleu = evaluate.load(\"bleu\")\n",
        "results = bleu.compute(predictions=predictions, references=references)\n",
        "print(results)"
      ],
      "metadata": {
        "id": "2SXgcxYJM17H",
        "colab": {
          "base_uri": "https://localhost:8080/"
        },
        "outputId": "2ddda606-0dbc-41b9-9348-7d16d5ad8f8d"
      },
      "execution_count": null,
      "outputs": [
        {
          "output_type": "stream",
          "name": "stderr",
          "text": [
            "[nltk_data] Downloading package wordnet to /root/nltk_data...\n",
            "[nltk_data]   Package wordnet is already up-to-date!\n",
            "[nltk_data] Downloading package punkt to /root/nltk_data...\n",
            "[nltk_data]   Package punkt is already up-to-date!\n",
            "[nltk_data] Downloading package omw-1.4 to /root/nltk_data...\n",
            "[nltk_data]   Package omw-1.4 is already up-to-date!\n"
          ]
        },
        {
          "output_type": "stream",
          "name": "stdout",
          "text": [
            "test 0.45\n",
            "{'rouge1': 0.6666666666666665, 'rouge2': 0.37499999999999994, 'rougeL': 0.5555555555555556, 'rougeLsum': 0.5555555555555556}\n",
            "{'bleu': 0.42909298143564545, 'precisions': [1.0, 0.8333333333333334, 0.8, 0.5], 'brevity_penalty': 0.5647181220077593, 'length_ratio': 0.6363636363636364, 'translation_length': 7, 'reference_length': 11}\n"
          ]
        }
      ]
    },
    {
      "cell_type": "code",
      "source": [
        "predictions = [\"a person standing on top of a mountain\"]\n",
        "references = [[\"A lone man stands on a rocky outcropping and looks out over the wilderness\",\"A man in shorts and a black jacket stands on top of a big rock looking down on hills and valleys\",\"A man is standing on a big rock overlooking a valley\",\"A man stands atop a large mountain of rocks\",\"Man standing on edge of large rock overlooking scenic view\"]]\n",
        "\n",
        "meteor = evaluate.load('meteor')\n",
        "resultsm = meteor.compute(predictions=predictions, references=references)\n",
        "print(\"test\",  round(resultsm['meteor'], 2))\n",
        "\n",
        "rouge = evaluate.load('rouge')\n",
        "results = rouge.compute(predictions=predictions, references=references)\n",
        "print(results)\n",
        "\n",
        "bleu = evaluate.load(\"bleu\")\n",
        "results = bleu.compute(predictions=predictions, references=references)\n",
        "print(results)"
      ],
      "metadata": {
        "id": "op4jpAvLM17H",
        "colab": {
          "base_uri": "https://localhost:8080/"
        },
        "outputId": "798708e0-e5e7-4989-a5c9-24e7a461f66c"
      },
      "execution_count": null,
      "outputs": [
        {
          "output_type": "stream",
          "name": "stderr",
          "text": [
            "[nltk_data] Downloading package wordnet to /root/nltk_data...\n",
            "[nltk_data]   Package wordnet is already up-to-date!\n",
            "[nltk_data] Downloading package punkt to /root/nltk_data...\n",
            "[nltk_data]   Package punkt is already up-to-date!\n",
            "[nltk_data] Downloading package omw-1.4 to /root/nltk_data...\n",
            "[nltk_data]   Package omw-1.4 is already up-to-date!\n"
          ]
        },
        {
          "output_type": "stream",
          "name": "stdout",
          "text": [
            "test 0.29\n",
            "{'rouge1': 0.47058823529411764, 'rouge2': 0.2222222222222222, 'rougeL': 0.4210526315789474, 'rougeLsum': 0.4210526315789474}\n",
            "{'bleu': 0.37707945965932077, 'precisions': [0.875, 0.5714285714285714, 0.3333333333333333, 0.2], 'brevity_penalty': 0.8824969025845955, 'length_ratio': 0.8888888888888888, 'translation_length': 8, 'reference_length': 9}\n"
          ]
        }
      ]
    },
    {
      "cell_type": "code",
      "source": [
        "predictions = [\"a man in a green and white uniform\"]\n",
        "references = [[\"A football player pauses during a game\",\"A football player wears a green jersey with the number \"\" 4 \"\" on it\",\"Greenbay football player is being handed a towel on the field\",\"Green Bay Packer player cooling off\",\"Someone takes a cloth off of a Green Bay Packers football player\"]]\n",
        "\n",
        "meteor = evaluate.load('meteor')\n",
        "resultsm = meteor.compute(predictions=predictions, references=references)\n",
        "print(\"test\",  round(resultsm['meteor'], 2))\n",
        "\n",
        "rouge = evaluate.load('rouge')\n",
        "results = rouge.compute(predictions=predictions, references=references)\n",
        "print(results)\n",
        "\n",
        "bleu = evaluate.load(\"bleu\")\n",
        "results = bleu.compute(predictions=predictions, references=references)\n",
        "print(results)"
      ],
      "metadata": {
        "id": "hu6rAcKBM17H",
        "colab": {
          "base_uri": "https://localhost:8080/"
        },
        "outputId": "875e9bfc-2374-4da1-91c1-a0d19344aa40"
      },
      "execution_count": null,
      "outputs": [
        {
          "output_type": "stream",
          "name": "stderr",
          "text": [
            "[nltk_data] Downloading package wordnet to /root/nltk_data...\n",
            "[nltk_data]   Package wordnet is already up-to-date!\n",
            "[nltk_data] Downloading package punkt to /root/nltk_data...\n",
            "[nltk_data]   Package punkt is already up-to-date!\n",
            "[nltk_data] Downloading package omw-1.4 to /root/nltk_data...\n",
            "[nltk_data]   Package omw-1.4 is already up-to-date!\n"
          ]
        },
        {
          "output_type": "stream",
          "name": "stdout",
          "text": [
            "test 0.22\n",
            "{'rouge1': 0.3, 'rouge2': 0.1111111111111111, 'rougeL': 0.3, 'rougeLsum': 0.3}\n",
            "{'bleu': 0.0, 'precisions': [0.375, 0.14285714285714285, 0.0, 0.0], 'brevity_penalty': 1.0, 'length_ratio': 1.3333333333333333, 'translation_length': 8, 'reference_length': 6}\n"
          ]
        }
      ]
    },
    {
      "cell_type": "markdown",
      "source": [
        "# PREDICTION NLPCONNECT\n",
        "\n"
      ],
      "metadata": {
        "id": "TBrNzgz2M9mE"
      }
    },
    {
      "cell_type": "markdown",
      "source": [
        "Compares generated image captions (generated from input images using NLPConnect  model) with reference captions obtained from Flickr8k Database. Outputs the caption's METEOR, BLEU and ROUGE1 scores."
      ],
      "metadata": {
        "id": "DZUpcglzeXe-"
      }
    },
    {
      "cell_type": "code",
      "source": [
        "predictions = [\"a man in a wet suit is holding a paddle\"]\n",
        "references = [[\"A girl paddling down a large river , as seen from behind her\", \"A woman kayaking down a river\" ,\"A woman paddles a boat down a river\",\"A woman with a paddle\",\"A woman with a paddle sits in a boat on the water\"]]\n",
        "\n",
        "meteor = evaluate.load('meteor')\n",
        "resultsm = meteor.compute(predictions=predictions, references=references)\n",
        "print(\"test\",  round(resultsm['meteor'], 2))\n",
        "\n",
        "rouge = evaluate.load('rouge')\n",
        "results = rouge.compute(predictions=predictions, references=references)\n",
        "print(results)\n",
        "\n",
        "bleu = evaluate.load(\"bleu\")\n",
        "results = bleu.compute(predictions=predictions, references=references)\n",
        "print(results)"
      ],
      "metadata": {
        "id": "DIIii8lmM9mh",
        "colab": {
          "base_uri": "https://localhost:8080/"
        },
        "outputId": "b8262bb1-afeb-41ac-b6dd-216d8e99e1cd"
      },
      "execution_count": null,
      "outputs": [
        {
          "output_type": "stream",
          "name": "stderr",
          "text": [
            "[nltk_data] Downloading package wordnet to /root/nltk_data...\n",
            "[nltk_data]   Package wordnet is already up-to-date!\n",
            "[nltk_data] Downloading package punkt to /root/nltk_data...\n",
            "[nltk_data]   Package punkt is already up-to-date!\n",
            "[nltk_data] Downloading package omw-1.4 to /root/nltk_data...\n",
            "[nltk_data]   Package omw-1.4 is already up-to-date!\n"
          ]
        },
        {
          "output_type": "stream",
          "name": "stdout",
          "text": [
            "test 0.46\n",
            "{'rouge1': 0.45454545454545453, 'rouge2': 0.19999999999999998, 'rougeL': 0.4, 'rougeLsum': 0.4}\n",
            "{'bleu': 0.0, 'precisions': [0.4, 0.2222222222222222, 0.0, 0.0], 'brevity_penalty': 1.0, 'length_ratio': 2.0, 'translation_length': 10, 'reference_length': 5}\n"
          ]
        }
      ]
    },
    {
      "cell_type": "code",
      "source": [
        "predictions = [\"two people are skiing down a snow covered slope\"]\n",
        "references = [[\"A lone skier is making their way up a mountain\", \"Skiiers at the top of a snow covered hill \", \"Two hikers climbing a snowy hill\",\"Two people are on a snow-covered mountain\",\"Two people climbing up a snowy mountain\"]]\n",
        "\n",
        "meteor = evaluate.load('meteor')\n",
        "resultsm = meteor.compute(predictions=predictions, references=references)\n",
        "print(\"test\",  round(resultsm['meteor'], 2))\n",
        "\n",
        "rouge = evaluate.load('rouge')\n",
        "results = rouge.compute(predictions=predictions, references=references)\n",
        "print(results)\n",
        "\n",
        "bleu = evaluate.load(\"bleu\")\n",
        "results = bleu.compute(predictions=predictions, references=references)\n",
        "print(results)"
      ],
      "metadata": {
        "id": "Kp3Ldk70M9mh",
        "colab": {
          "base_uri": "https://localhost:8080/"
        },
        "outputId": "c05dfb54-10bd-476c-e299-ba74529cf37a"
      },
      "execution_count": null,
      "outputs": [
        {
          "output_type": "stream",
          "name": "stderr",
          "text": [
            "[nltk_data] Downloading package wordnet to /root/nltk_data...\n",
            "[nltk_data]   Package wordnet is already up-to-date!\n",
            "[nltk_data] Downloading package punkt to /root/nltk_data...\n",
            "[nltk_data]   Package punkt is already up-to-date!\n",
            "[nltk_data] Downloading package omw-1.4 to /root/nltk_data...\n",
            "[nltk_data]   Package omw-1.4 is already up-to-date!\n"
          ]
        },
        {
          "output_type": "stream",
          "name": "stdout",
          "text": [
            "test 0.52\n",
            "{'rouge1': 0.7058823529411765, 'rouge2': 0.5333333333333333, 'rougeL': 0.7058823529411765, 'rougeLsum': 0.7058823529411765}\n",
            "{'bleu': 0.0, 'precisions': [0.5555555555555556, 0.375, 0.14285714285714285, 0.0], 'brevity_penalty': 1.0, 'length_ratio': 1.5, 'translation_length': 9, 'reference_length': 6}\n"
          ]
        }
      ]
    },
    {
      "cell_type": "code",
      "source": [
        "predictions = [\"a man and a woman are posing for a picture\"]\n",
        "references = [[\"A man wearing a tuxedo shirt , vest , and bow-tie is kissing another man wearing the same thing on the cheek\",\"A man with a shaved head is kissing another man on the cheek\",\"Tne man in a vest and tie plants a kiss on the cheek of another happy man\",\"One man kissing another man on the check and both are in white shirts with black vests\",\"One men is laughing while being kissed on the cheek by another man , both men are wearing formal wear\"]]\n",
        "\n",
        "meteor = evaluate.load('meteor')\n",
        "resultsm = meteor.compute(predictions=predictions, references=references)\n",
        "print(\"test\",  round(resultsm['meteor'], 2))\n",
        "\n",
        "rouge = evaluate.load('rouge')\n",
        "results = rouge.compute(predictions=predictions, references=references)\n",
        "print(results)\n",
        "\n",
        "bleu = evaluate.load(\"bleu\")\n",
        "results = bleu.compute(predictions=predictions, references=references)\n",
        "print(results)"
      ],
      "metadata": {
        "id": "VH9TqIxUM9mh",
        "colab": {
          "base_uri": "https://localhost:8080/"
        },
        "outputId": "94e4073d-8692-4439-c74e-a96ec7180101"
      },
      "execution_count": null,
      "outputs": [
        {
          "output_type": "stream",
          "name": "stderr",
          "text": [
            "[nltk_data] Downloading package wordnet to /root/nltk_data...\n",
            "[nltk_data]   Package wordnet is already up-to-date!\n",
            "[nltk_data] Downloading package punkt to /root/nltk_data...\n",
            "[nltk_data]   Package punkt is already up-to-date!\n",
            "[nltk_data] Downloading package omw-1.4 to /root/nltk_data...\n",
            "[nltk_data]   Package omw-1.4 is already up-to-date!\n"
          ]
        },
        {
          "output_type": "stream",
          "name": "stdout",
          "text": [
            "test 0.12\n",
            "{'rouge1': 0.29629629629629634, 'rouge2': 0.09523809523809525, 'rougeL': 0.2608695652173913, 'rougeLsum': 0.2608695652173913}\n",
            "{'bleu': 0.0, 'precisions': [0.5, 0.0, 0.0, 0.0], 'brevity_penalty': 0.740818220681718, 'length_ratio': 0.7692307692307693, 'translation_length': 10, 'reference_length': 13}\n"
          ]
        }
      ]
    },
    {
      "cell_type": "code",
      "source": [
        "predictions = [\"a man and a woman on a canoe in the water\"]\n",
        "references = [[\"A large man sits in the back of a canoe with another man in front on a river\",\"two man are paddling a kayak along a river with green trees on either side\",\"Two men in a small boat rowing down a river\",\"Two men paddling a canoe down a narrow stream\",\"Two paddlers propel a canoe down a tree-lined stream\"]]\n",
        "\n",
        "meteor = evaluate.load('meteor')\n",
        "resultsm = meteor.compute(predictions=predictions, references=references)\n",
        "print(\"test\",  round(resultsm['meteor'], 2))\n",
        "\n",
        "rouge = evaluate.load('rouge')\n",
        "results = rouge.compute(predictions=predictions, references=references)\n",
        "print(results)\n",
        "\n",
        "bleu = evaluate.load(\"bleu\")\n",
        "results = bleu.compute(predictions=predictions, references=references)\n",
        "print(results)"
      ],
      "metadata": {
        "id": "aXhdw4MvM9mh",
        "colab": {
          "base_uri": "https://localhost:8080/"
        },
        "outputId": "9512cc40-9a11-4188-faa0-c4e286a69c58"
      },
      "execution_count": null,
      "outputs": [
        {
          "output_type": "stream",
          "name": "stderr",
          "text": [
            "[nltk_data] Downloading package wordnet to /root/nltk_data...\n",
            "[nltk_data]   Package wordnet is already up-to-date!\n",
            "[nltk_data] Downloading package punkt to /root/nltk_data...\n",
            "[nltk_data]   Package punkt is already up-to-date!\n",
            "[nltk_data] Downloading package omw-1.4 to /root/nltk_data...\n",
            "[nltk_data]   Package omw-1.4 is already up-to-date!\n"
          ]
        },
        {
          "output_type": "stream",
          "name": "stdout",
          "text": [
            "test 0.31\n",
            "{'rouge1': 0.5517241379310345, 'rouge2': 0.22222222222222224, 'rougeL': 0.3448275862068966, 'rougeLsum': 0.3448275862068966}\n",
            "{'bleu': 0.0, 'precisions': [0.6363636363636364, 0.3, 0.0, 0.0], 'brevity_penalty': 1.0, 'length_ratio': 1.2222222222222223, 'translation_length': 11, 'reference_length': 9}\n"
          ]
        }
      ]
    },
    {
      "cell_type": "code",
      "source": [
        "predictions = [\"two people sitting on a rock near a river\"]\n",
        "references = [[\"A couple enjoys a quiet moment near the river\",\"A few people sit out on rocks overlooking the water below\",\"Two people are sitting on a rock overlooking the river\",\"Two people sit on top of a cliff overlooking a river\",\"Two people sit upon large rocks next to a river\"]]\n",
        "\n",
        "meteor = evaluate.load('meteor')\n",
        "resultsm = meteor.compute(predictions=predictions, references=references)\n",
        "print(\"test\",  round(resultsm['meteor'], 2))\n",
        "\n",
        "rouge = evaluate.load('rouge')\n",
        "results = rouge.compute(predictions=predictions, references=references)\n",
        "print(results)\n",
        "\n",
        "bleu = evaluate.load(\"bleu\")\n",
        "results = bleu.compute(predictions=predictions, references=references)\n",
        "print(results)"
      ],
      "metadata": {
        "id": "PNF5b9SuM9mi",
        "colab": {
          "base_uri": "https://localhost:8080/"
        },
        "outputId": "e10a368d-6aa0-489e-b3e1-a6036210d366"
      },
      "execution_count": null,
      "outputs": [
        {
          "output_type": "stream",
          "name": "stderr",
          "text": [
            "[nltk_data] Downloading package wordnet to /root/nltk_data...\n",
            "[nltk_data]   Package wordnet is already up-to-date!\n",
            "[nltk_data] Downloading package punkt to /root/nltk_data...\n",
            "[nltk_data]   Package punkt is already up-to-date!\n",
            "[nltk_data] Downloading package omw-1.4 to /root/nltk_data...\n",
            "[nltk_data]   Package omw-1.4 is already up-to-date!\n"
          ]
        },
        {
          "output_type": "stream",
          "name": "stdout",
          "text": [
            "test 0.62\n",
            "{'rouge1': 0.7368421052631577, 'rouge2': 0.47058823529411764, 'rougeL': 0.7368421052631577, 'rougeLsum': 0.7368421052631577}\n",
            "{'bleu': 0.3814165616365676, 'precisions': [0.8888888888888888, 0.5, 0.2857142857142857, 0.16666666666666666], 'brevity_penalty': 1.0, 'length_ratio': 1.0, 'translation_length': 9, 'reference_length': 9}\n"
          ]
        }
      ]
    },
    {
      "cell_type": "code",
      "source": [
        "predictions = [\"a man and a woman are walking down the street\"]\n",
        "references = [[\"A couple sit on the hood of a car with their backs to the camera\",\"A couple sits on a car\",\"A man and a woman sit on a car and face the opposite way of the camera\",\"A man and woman sit on a car and watch the road\",\"A man and woman sitting on a parked car\"]]\n",
        "\n",
        "meteor = evaluate.load('meteor')\n",
        "resultsm = meteor.compute(predictions=predictions, references=references)\n",
        "print(\"test\",  round(resultsm['meteor'], 2))\n",
        "\n",
        "rouge = evaluate.load('rouge')\n",
        "results = rouge.compute(predictions=predictions, references=references)\n",
        "print(results)\n",
        "\n",
        "bleu = evaluate.load(\"bleu\")\n",
        "results = bleu.compute(predictions=predictions, references=references)\n",
        "print(results)"
      ],
      "metadata": {
        "id": "Oo8VnLk2M9mi",
        "colab": {
          "base_uri": "https://localhost:8080/"
        },
        "outputId": "9b1358df-ceb8-4096-dfb1-0d3d3a97056c"
      },
      "execution_count": null,
      "outputs": [
        {
          "output_type": "stream",
          "name": "stderr",
          "text": [
            "[nltk_data] Downloading package wordnet to /root/nltk_data...\n",
            "[nltk_data]   Package wordnet is already up-to-date!\n",
            "[nltk_data] Downloading package punkt to /root/nltk_data...\n",
            "[nltk_data]   Package punkt is already up-to-date!\n",
            "[nltk_data] Downloading package omw-1.4 to /root/nltk_data...\n",
            "[nltk_data]   Package omw-1.4 is already up-to-date!\n"
          ]
        },
        {
          "output_type": "stream",
          "name": "stdout",
          "text": [
            "test 0.49\n",
            "{'rouge1': 0.5454545454545454, 'rouge2': 0.32, 'rougeL': 0.45454545454545453, 'rougeLsum': 0.45454545454545453}\n",
            "{'bleu': 0.2907153684841096, 'precisions': [0.6, 0.3333333333333333, 0.25, 0.14285714285714285], 'brevity_penalty': 1.0, 'length_ratio': 1.6666666666666667, 'translation_length': 10, 'reference_length': 6}\n"
          ]
        }
      ]
    },
    {
      "cell_type": "code",
      "source": [
        "predictions = [\"a person riding a motorcycle on a race track\"]\n",
        "references = [[\"A motorcycle racer leans his bike\",\"A motorcyclist is driving down a road on their motorbike\",\"A motorcyclist is riding their sponsored car along a roadway that has recently turned\",\"A motorcyclist on the street\",\"A motorcyclist with a red helmet rides his blue motorcycle down the road\"]]\n",
        "\n",
        "meteor = evaluate.load('meteor')\n",
        "resultsm = meteor.compute(predictions=predictions, references=references)\n",
        "print(\"test\",  round(resultsm['meteor'], 2))\n",
        "\n",
        "rouge = evaluate.load('rouge')\n",
        "results = rouge.compute(predictions=predictions, references=references)\n",
        "print(results)\n",
        "\n",
        "bleu = evaluate.load(\"bleu\")\n",
        "results = bleu.compute(predictions=predictions, references=references)\n",
        "print(results)"
      ],
      "metadata": {
        "id": "8hKRNDFcM9mi",
        "colab": {
          "base_uri": "https://localhost:8080/"
        },
        "outputId": "b328868c-0a86-4753-f4bc-e7ae2e42d050"
      },
      "execution_count": null,
      "outputs": [
        {
          "output_type": "stream",
          "name": "stderr",
          "text": [
            "[nltk_data] Downloading package wordnet to /root/nltk_data...\n",
            "[nltk_data]   Package wordnet is already up-to-date!\n",
            "[nltk_data] Downloading package punkt to /root/nltk_data...\n",
            "[nltk_data]   Package punkt is already up-to-date!\n",
            "[nltk_data] Downloading package omw-1.4 to /root/nltk_data...\n",
            "[nltk_data]   Package omw-1.4 is already up-to-date!\n"
          ]
        },
        {
          "output_type": "stream",
          "name": "stdout",
          "text": [
            "test 0.23\n",
            "{'rouge1': 0.3157894736842105, 'rouge2': 0.15384615384615385, 'rougeL': 0.3157894736842105, 'rougeLsum': 0.3157894736842105}\n",
            "{'bleu': 0.0, 'precisions': [0.4444444444444444, 0.0, 0.0, 0.0], 'brevity_penalty': 1.0, 'length_ratio': 1.8, 'translation_length': 9, 'reference_length': 5}\n"
          ]
        }
      ]
    },
    {
      "cell_type": "code",
      "source": [
        "predictions = [\"a bird perched on top of a rock on top of a mountain\"]\n",
        "references = [[\"A mountain climber looks down from the summit\",\"A person is rock climbing between two large rock faces\",\"A rock climber climbs in between two very large rocks\",\"A rock climber leans out from a crag against a deep blue sky\",\"Two large mountains stand high in the air as a person tries to climb one\"]]\n",
        "\n",
        "meteor = evaluate.load('meteor')\n",
        "resultsm = meteor.compute(predictions=predictions, references=references)\n",
        "print(\"test\",  round(resultsm['meteor'], 2))\n",
        "\n",
        "rouge = evaluate.load('rouge')\n",
        "results = rouge.compute(predictions=predictions, references=references)\n",
        "print(results)\n",
        "\n",
        "bleu = evaluate.load(\"bleu\")\n",
        "results = bleu.compute(predictions=predictions, references=references)\n",
        "print(results)"
      ],
      "metadata": {
        "id": "Ys3jlpP-M9mi",
        "colab": {
          "base_uri": "https://localhost:8080/"
        },
        "outputId": "ca7d1a80-6cd1-473b-f9f3-f525a5ce1f62"
      },
      "execution_count": null,
      "outputs": [
        {
          "output_type": "stream",
          "name": "stderr",
          "text": [
            "[nltk_data] Downloading package wordnet to /root/nltk_data...\n",
            "[nltk_data]   Package wordnet is already up-to-date!\n",
            "[nltk_data] Downloading package punkt to /root/nltk_data...\n",
            "[nltk_data]   Package punkt is already up-to-date!\n",
            "[nltk_data] Downloading package omw-1.4 to /root/nltk_data...\n",
            "[nltk_data]   Package omw-1.4 is already up-to-date!\n"
          ]
        },
        {
          "output_type": "stream",
          "name": "stdout",
          "text": [
            "test 0.3\n",
            "{'rouge1': 0.3076923076923077, 'rouge2': 0.10526315789473685, 'rougeL': 0.23076923076923078, 'rougeLsum': 0.23076923076923078}\n",
            "{'bleu': 0.0, 'precisions': [0.3076923076923077, 0.0, 0.0, 0.0], 'brevity_penalty': 1.0, 'length_ratio': 1.625, 'translation_length': 13, 'reference_length': 8}\n"
          ]
        }
      ]
    },
    {
      "cell_type": "code",
      "source": [
        "predictions = [\"a little girl standing next to a colorful kite\"]\n",
        "references = [[\"A little girl covered in paint sits in front of a painted rainbow with her hands in a bowl\", \"A little girl is sitting in front of a large painted rainbow\",\"A small girl in the grass plays with fingerpaints in front of a white canvas with a rainbow on it\",\"There is a girl with pigtails sitting in front of a rainbow painting\",\"Young girl with pigtails painting outside in the grass\"]]\n",
        "\n",
        "meteor = evaluate.load('meteor')\n",
        "resultsm = meteor.compute(predictions=predictions, references=references)\n",
        "print(\"test\",  round(resultsm['meteor'], 2))\n",
        "\n",
        "rouge = evaluate.load('rouge')\n",
        "results = rouge.compute(predictions=predictions, references=references)\n",
        "print(results)\n",
        "\n",
        "bleu = evaluate.load(\"bleu\")\n",
        "results = bleu.compute(predictions=predictions, references=references)\n",
        "print(results)"
      ],
      "metadata": {
        "id": "W3CTk4PvM9mi",
        "colab": {
          "base_uri": "https://localhost:8080/"
        },
        "outputId": "a0aa85e8-ef31-4fb2-c270-12bf6acfe8d6"
      },
      "execution_count": null,
      "outputs": [
        {
          "output_type": "stream",
          "name": "stderr",
          "text": [
            "[nltk_data] Downloading package wordnet to /root/nltk_data...\n",
            "[nltk_data]   Package wordnet is already up-to-date!\n",
            "[nltk_data] Downloading package punkt to /root/nltk_data...\n",
            "[nltk_data]   Package punkt is already up-to-date!\n",
            "[nltk_data] Downloading package omw-1.4 to /root/nltk_data...\n",
            "[nltk_data]   Package omw-1.4 is already up-to-date!\n"
          ]
        },
        {
          "output_type": "stream",
          "name": "stdout",
          "text": [
            "test 0.32\n",
            "{'rouge1': 0.380952380952381, 'rouge2': 0.2105263157894737, 'rougeL': 0.380952380952381, 'rougeLsum': 0.380952380952381}\n",
            "{'bleu': 0.0, 'precisions': [0.4444444444444444, 0.125, 0.0, 0.0], 'brevity_penalty': 1.0, 'length_ratio': 1.0, 'translation_length': 9, 'reference_length': 9}\n"
          ]
        }
      ]
    },
    {
      "cell_type": "code",
      "source": [
        "predictions = [\"a dog running in the grass with a frisbee in its mouth\"]\n",
        "references = [[\"A brown dog chases the water from a sprinkler on a lawn\", \"a brown dog plays with the hose\",\"A brown dog running on a lawn near a garden hose\",\"A dog is playing with a hose\", \"Large brown dog running away from the sprinkler in the grass\" ]]\n",
        "\n",
        "meteor = evaluate.load('meteor')\n",
        "resultsm = meteor.compute(predictions=predictions, references=references)\n",
        "print(\"test\",  round(resultsm['meteor'], 2))\n",
        "\n",
        "rouge = evaluate.load('rouge')\n",
        "results = rouge.compute(predictions=predictions, references=references)\n",
        "print(results)\n",
        "\n",
        "bleu = evaluate.load(\"bleu\")\n",
        "results = bleu.compute(predictions=predictions, references=references)\n",
        "print(results)"
      ],
      "metadata": {
        "id": "-o0fdvcHM9mi",
        "colab": {
          "base_uri": "https://localhost:8080/"
        },
        "outputId": "c2fa438b-3c2c-454c-c370-204478216b75"
      },
      "execution_count": null,
      "outputs": [
        {
          "output_type": "stream",
          "name": "stderr",
          "text": [
            "[nltk_data] Downloading package wordnet to /root/nltk_data...\n",
            "[nltk_data]   Package wordnet is already up-to-date!\n",
            "[nltk_data] Downloading package punkt to /root/nltk_data...\n",
            "[nltk_data]   Package punkt is already up-to-date!\n",
            "[nltk_data] Downloading package omw-1.4 to /root/nltk_data...\n",
            "[nltk_data]   Package omw-1.4 is already up-to-date!\n"
          ]
        },
        {
          "output_type": "stream",
          "name": "stdout",
          "text": [
            "test 0.59\n",
            "{'rouge1': 0.43478260869565216, 'rouge2': 0.28571428571428564, 'rougeL': 0.43478260869565216, 'rougeLsum': 0.43478260869565216}\n",
            "{'bleu': 0.0, 'precisions': [0.6666666666666666, 0.36363636363636365, 0.1, 0.0], 'brevity_penalty': 1.0, 'length_ratio': 1.7142857142857142, 'translation_length': 12, 'reference_length': 7}\n"
          ]
        }
      ]
    },
    {
      "cell_type": "code",
      "source": [
        "predictions = [\"a woman and two children riding on top of a truck\"]\n",
        "references = [[\"A family playing on a tractor on a beautiful day\",\"Children ride a tractor in a field\",\"Several children playing on a Polaris vehicle outdoors\",\"The children played on the four wheeler in the field\",\"The four kids are riding on an ATV in a field\"]]\n",
        "\n",
        "meteor = evaluate.load('meteor')\n",
        "resultsm = meteor.compute(predictions=predictions, references=references)\n",
        "print(\"test\",  round(resultsm['meteor'], 2))\n",
        "\n",
        "rouge = evaluate.load('rouge')\n",
        "results = rouge.compute(predictions=predictions, references=references)\n",
        "print(results)\n",
        "\n",
        "bleu = evaluate.load(\"bleu\")\n",
        "results = bleu.compute(predictions=predictions, references=references)\n",
        "print(results)"
      ],
      "metadata": {
        "id": "zROyaLE_M9mi",
        "colab": {
          "base_uri": "https://localhost:8080/"
        },
        "outputId": "800789db-09be-4ec9-8d52-e908f2da8a5f"
      },
      "execution_count": null,
      "outputs": [
        {
          "output_type": "stream",
          "name": "stderr",
          "text": [
            "[nltk_data] Downloading package wordnet to /root/nltk_data...\n",
            "[nltk_data]   Package wordnet is already up-to-date!\n",
            "[nltk_data] Downloading package punkt to /root/nltk_data...\n",
            "[nltk_data]   Package punkt is already up-to-date!\n",
            "[nltk_data] Downloading package omw-1.4 to /root/nltk_data...\n",
            "[nltk_data]   Package omw-1.4 is already up-to-date!\n"
          ]
        },
        {
          "output_type": "stream",
          "name": "stdout",
          "text": [
            "test 0.43\n",
            "{'rouge1': 0.33333333333333326, 'rouge2': 0.10000000000000002, 'rougeL': 0.3157894736842105, 'rougeLsum': 0.3157894736842105}\n",
            "{'bleu': 0.0, 'precisions': [0.45454545454545453, 0.1, 0.0, 0.0], 'brevity_penalty': 1.0, 'length_ratio': 1.5714285714285714, 'translation_length': 11, 'reference_length': 7}\n"
          ]
        }
      ]
    },
    {
      "cell_type": "code",
      "source": [
        "predictions = [\"a small dog standing next to a large dog\"]\n",
        "references = [[\"Two little puppies chase each other on a stone wall\", \"Two puppies run across flat stones in garden area\",\"Two puppies walking on stones\",\"Two small puppies run along the edge of a stone wall nearby a heavily foliaged area\",\"two small tan puppies walking on a stone path\"]]\n",
        "\n",
        "meteor = evaluate.load('meteor')\n",
        "resultsm = meteor.compute(predictions=predictions, references=references)\n",
        "print(\"test\",  round(resultsm['meteor'], 2))\n",
        "\n",
        "rouge = evaluate.load('rouge')\n",
        "results = rouge.compute(predictions=predictions, references=references)\n",
        "print(results)\n",
        "\n",
        "bleu = evaluate.load(\"bleu\")\n",
        "results = bleu.compute(predictions=predictions, references=references)\n",
        "print(results)"
      ],
      "metadata": {
        "id": "6yXs335TM9mi",
        "colab": {
          "base_uri": "https://localhost:8080/"
        },
        "outputId": "c8d6c05a-d3a7-454e-df52-888ebdd948d6"
      },
      "execution_count": null,
      "outputs": [
        {
          "output_type": "stream",
          "name": "stderr",
          "text": [
            "[nltk_data] Downloading package wordnet to /root/nltk_data...\n",
            "[nltk_data]   Package wordnet is already up-to-date!\n",
            "[nltk_data] Downloading package punkt to /root/nltk_data...\n",
            "[nltk_data]   Package punkt is already up-to-date!\n",
            "[nltk_data] Downloading package omw-1.4 to /root/nltk_data...\n",
            "[nltk_data]   Package omw-1.4 is already up-to-date!\n"
          ]
        },
        {
          "output_type": "stream",
          "name": "stdout",
          "text": [
            "test 0.11\n",
            "{'rouge1': 0.24000000000000005, 'rouge2': 0.0, 'rougeL': 0.2222222222222222, 'rougeLsum': 0.2222222222222222}\n",
            "{'bleu': 0.0, 'precisions': [0.3333333333333333, 0.0, 0.0, 0.0], 'brevity_penalty': 1.0, 'length_ratio': 1.8, 'translation_length': 9, 'reference_length': 5}\n"
          ]
        }
      ]
    },
    {
      "cell_type": "code",
      "source": [
        "predictions = [\"a woman sitting on a bench while talking on a cell phone\"]\n",
        "references = [[\"a lone woman sitting on an usual green bench with a cup in her hand\",\"A woman sits on a flower pot at a crowded coffee shop\",\"The woman sat on a green bench and had a drink\",\"Woman holding a drink with a white bag next to her is sitting on a green sculpture\",\"Woman sitting on a turquoise bench with a pillow and a bag near a restaurant\"]]\n",
        "\n",
        "meteor = evaluate.load('meteor')\n",
        "resultsm = meteor.compute(predictions=predictions, references=references)\n",
        "print(\"test\",  round(resultsm['meteor'], 2))\n",
        "\n",
        "rouge = evaluate.load('rouge')\n",
        "results = rouge.compute(predictions=predictions, references=references)\n",
        "print(results)\n",
        "\n",
        "bleu = evaluate.load(\"bleu\")\n",
        "results = bleu.compute(predictions=predictions, references=references)\n",
        "print(results)"
      ],
      "metadata": {
        "id": "rkpDE0umM9mi",
        "colab": {
          "base_uri": "https://localhost:8080/"
        },
        "outputId": "f13f8d5b-ee59-48ab-f451-92b6364cc22f"
      },
      "execution_count": null,
      "outputs": [
        {
          "output_type": "stream",
          "name": "stderr",
          "text": [
            "[nltk_data] Downloading package wordnet to /root/nltk_data...\n",
            "[nltk_data]   Package wordnet is already up-to-date!\n",
            "[nltk_data] Downloading package punkt to /root/nltk_data...\n",
            "[nltk_data]   Package punkt is already up-to-date!\n",
            "[nltk_data] Downloading package omw-1.4 to /root/nltk_data...\n",
            "[nltk_data]   Package omw-1.4 is already up-to-date!\n"
          ]
        },
        {
          "output_type": "stream",
          "name": "stdout",
          "text": [
            "test 0.43\n",
            "{'rouge1': 0.5185185185185186, 'rouge2': 0.23999999999999996, 'rougeL': 0.4444444444444445, 'rougeLsum': 0.4444444444444445}\n",
            "{'bleu': 0.0, 'precisions': [0.5833333333333334, 0.2727272727272727, 0.2, 0.0], 'brevity_penalty': 1.0, 'length_ratio': 1.0909090909090908, 'translation_length': 12, 'reference_length': 11}\n"
          ]
        }
      ]
    },
    {
      "cell_type": "code",
      "source": [
        "predictions = [\"a man standing on top of a rock near a mountain\"]\n",
        "references = [[\"A lone man stands on a rocky outcropping and looks out over the wilderness\",\"A man in shorts and a black jacket stands on top of a big rock looking down on hills and valleys\",\"A man is standing on a big rock overlooking a valley\",\"A man stands atop a large mountain of rocks\",\"Man standing on edge of large rock overlooking scenic view\"]]\n",
        "\n",
        "meteor = evaluate.load('meteor')\n",
        "resultsm = meteor.compute(predictions=predictions, references=references)\n",
        "print(\"test\",  round(resultsm['meteor'], 2))\n",
        "\n",
        "rouge = evaluate.load('rouge')\n",
        "results = rouge.compute(predictions=predictions, references=references)\n",
        "print(results)\n",
        "\n",
        "bleu = evaluate.load(\"bleu\")\n",
        "results = bleu.compute(predictions=predictions, references=references)\n",
        "print(results)"
      ],
      "metadata": {
        "id": "ISZcUBrPM9mi",
        "colab": {
          "base_uri": "https://localhost:8080/"
        },
        "outputId": "143c2627-ce9b-44a6-8ff8-2fd8631af7d1"
      },
      "execution_count": null,
      "outputs": [
        {
          "output_type": "stream",
          "name": "stderr",
          "text": [
            "[nltk_data] Downloading package wordnet to /root/nltk_data...\n",
            "[nltk_data]   Package wordnet is already up-to-date!\n",
            "[nltk_data] Downloading package punkt to /root/nltk_data...\n",
            "[nltk_data]   Package punkt is already up-to-date!\n",
            "[nltk_data] Downloading package omw-1.4 to /root/nltk_data...\n",
            "[nltk_data]   Package omw-1.4 is already up-to-date!\n"
          ]
        },
        {
          "output_type": "stream",
          "name": "stdout",
          "text": [
            "test 0.52\n",
            "{'rouge1': 0.6363636363636364, 'rouge2': 0.26666666666666666, 'rougeL': 0.6363636363636364, 'rougeLsum': 0.6363636363636364}\n",
            "{'bleu': 0.3087818953963449, 'precisions': [0.8181818181818182, 0.4, 0.2222222222222222, 0.125], 'brevity_penalty': 1.0, 'length_ratio': 1.2222222222222223, 'translation_length': 11, 'reference_length': 9}\n"
          ]
        }
      ]
    },
    {
      "cell_type": "code",
      "source": [
        "predictions = [\"a man in a baseball uniform holding a baseball bat\"]\n",
        "references = [[\"A football player pauses during a game\",\"A football player wears a green jersey with the number \"\" 4 \"\" on it\",\"Greenbay football player is being handed a towel on the field\",\"Green Bay Packer player cooling off\",\"Someone takes a cloth off of a Green Bay Packers football player\"]]\n",
        "\n",
        "meteor = evaluate.load('meteor')\n",
        "resultsm = meteor.compute(predictions=predictions, references=references)\n",
        "print(\"test\",  round(resultsm['meteor'], 2))\n",
        "\n",
        "rouge = evaluate.load('rouge')\n",
        "results = rouge.compute(predictions=predictions, references=references)\n",
        "print(results)\n",
        "\n",
        "bleu = evaluate.load(\"bleu\")\n",
        "results = bleu.compute(predictions=predictions, references=references)\n",
        "print(results)"
      ],
      "metadata": {
        "id": "QpUAxgyxM9mi",
        "colab": {
          "base_uri": "https://localhost:8080/"
        },
        "outputId": "22e50ef8-aef4-4e43-faf8-c314a307a76b"
      },
      "execution_count": null,
      "outputs": [
        {
          "output_type": "stream",
          "name": "stderr",
          "text": [
            "[nltk_data] Downloading package wordnet to /root/nltk_data...\n",
            "[nltk_data]   Package wordnet is already up-to-date!\n",
            "[nltk_data] Downloading package punkt to /root/nltk_data...\n",
            "[nltk_data]   Package punkt is already up-to-date!\n",
            "[nltk_data] Downloading package omw-1.4 to /root/nltk_data...\n",
            "[nltk_data]   Package omw-1.4 is already up-to-date!\n"
          ]
        },
        {
          "output_type": "stream",
          "name": "stdout",
          "text": [
            "test 0.14\n",
            "{'rouge1': 0.23529411764705882, 'rouge2': 0.0, 'rougeL': 0.23529411764705882, 'rougeLsum': 0.23529411764705882}\n",
            "{'bleu': 0.0, 'precisions': [0.2, 0.0, 0.0, 0.0], 'brevity_penalty': 1.0, 'length_ratio': 1.6666666666666667, 'translation_length': 10, 'reference_length': 6}\n"
          ]
        }
      ]
    },
    {
      "cell_type": "markdown",
      "source": [
        "# PREDICTION BLIP 2\n"
      ],
      "metadata": {
        "id": "Jjf-CXQLNA4G"
      }
    },
    {
      "cell_type": "markdown",
      "source": [
        "Compares generated image captions (generated from input images using BLIP-2 model) with reference captions obtained from Flickr8k Database. Outputs the caption's METEOR, BLEU and ROUGE1 scores."
      ],
      "metadata": {
        "id": "GkV_XIz8eaOP"
      }
    },
    {
      "cell_type": "code",
      "source": [
        "predictions = [\"a woman paddling a canoe in a body of water\"]\n",
        "references = [[\"A girl paddling down a large river , as seen from behind her\", \"A woman kayaking down a river\" ,\"A woman paddles a boat down a river\",\"A woman with a paddle\",\"A woman with a paddle sits in a boat on the water\"]]\n",
        "\n",
        "meteor = evaluate.load('meteor')\n",
        "resultsm = meteor.compute(predictions=predictions, references=references)\n",
        "print(\"test\",  round(resultsm['meteor'], 2))\n",
        "\n",
        "rouge = evaluate.load('rouge')\n",
        "results = rouge.compute(predictions=predictions, references=references)\n",
        "print(results)\n",
        "\n",
        "bleu = evaluate.load(\"bleu\")\n",
        "results = bleu.compute(predictions=predictions, references=references)\n",
        "print(results)"
      ],
      "metadata": {
        "id": "NLtXYhU3NA4H",
        "colab": {
          "base_uri": "https://localhost:8080/"
        },
        "outputId": "32dab789-5d8d-4e64-e7c8-8abb0297a1fa"
      },
      "execution_count": null,
      "outputs": [
        {
          "output_type": "stream",
          "name": "stderr",
          "text": [
            "[nltk_data] Downloading package wordnet to /root/nltk_data...\n",
            "[nltk_data]   Package wordnet is already up-to-date!\n",
            "[nltk_data] Downloading package punkt to /root/nltk_data...\n",
            "[nltk_data]   Package punkt is already up-to-date!\n",
            "[nltk_data] Downloading package omw-1.4 to /root/nltk_data...\n",
            "[nltk_data]   Package omw-1.4 is already up-to-date!\n"
          ]
        },
        {
          "output_type": "stream",
          "name": "stdout",
          "text": [
            "test 0.59\n",
            "{'rouge1': 0.5454545454545454, 'rouge2': 0.19999999999999998, 'rougeL': 0.5454545454545454, 'rougeLsum': 0.5454545454545454}\n",
            "{'bleu': 0.0, 'precisions': [0.6, 0.1111111111111111, 0.0, 0.0], 'brevity_penalty': 1.0, 'length_ratio': 2.0, 'translation_length': 10, 'reference_length': 5}\n"
          ]
        }
      ]
    },
    {
      "cell_type": "code",
      "source": [
        "predictions = [\"a group of people skiing down a snowy hill on skis\"]\n",
        "references = [[\"A lone skier is making their way up a mountain\", \"Skiiers at the top of a snow covered hill \", \"Two hikers climbing a snowy hill\",\"Two people are on a snow-covered mountain\",\"Two people climbing up a snowy mountain\"]]\n",
        "\n",
        "meteor = evaluate.load('meteor')\n",
        "resultsm = meteor.compute(predictions=predictions, references=references)\n",
        "print(\"test\",  round(resultsm['meteor'], 2))\n",
        "\n",
        "rouge = evaluate.load('rouge')\n",
        "results = rouge.compute(predictions=predictions, references=references)\n",
        "print(results)\n",
        "\n",
        "bleu = evaluate.load(\"bleu\")\n",
        "results = bleu.compute(predictions=predictions, references=references)\n",
        "print(results)"
      ],
      "metadata": {
        "id": "nx7rubd6NA4H",
        "colab": {
          "base_uri": "https://localhost:8080/"
        },
        "outputId": "8080b0d0-b202-488c-cc2a-ec2a285c6e4a"
      },
      "execution_count": null,
      "outputs": [
        {
          "output_type": "stream",
          "name": "stderr",
          "text": [
            "[nltk_data] Downloading package wordnet to /root/nltk_data...\n",
            "[nltk_data]   Package wordnet is already up-to-date!\n",
            "[nltk_data] Downloading package punkt to /root/nltk_data...\n",
            "[nltk_data]   Package punkt is already up-to-date!\n",
            "[nltk_data] Downloading package omw-1.4 to /root/nltk_data...\n",
            "[nltk_data]   Package omw-1.4 is already up-to-date!\n"
          ]
        },
        {
          "output_type": "stream",
          "name": "stdout",
          "text": [
            "test 0.45\n",
            "{'rouge1': 0.3529411764705882, 'rouge2': 0.26666666666666666, 'rougeL': 0.3529411764705882, 'rougeLsum': 0.3529411764705882}\n",
            "{'bleu': 0.0, 'precisions': [0.5454545454545454, 0.2, 0.1111111111111111, 0.0], 'brevity_penalty': 1.0, 'length_ratio': 1.8333333333333333, 'translation_length': 11, 'reference_length': 6}\n"
          ]
        }
      ]
    },
    {
      "cell_type": "code",
      "source": [
        "predictions = [\"two men in tuxedos kissing each other at a party\"]\n",
        "references = [[\"A man wearing a tuxedo shirt , vest , and bow-tie is kissing another man wearing the same thing on the cheek\",\"A man with a shaved head is kissing another man on the cheek\",\"Tne man in a vest and tie plants a kiss on the cheek of another happy man\",\"One man kissing another man on the check and both are in white shirts with black vests\",\"One men is laughing while being kissed on the cheek by another man , both men are wearing formal wear\"]]\n",
        "\n",
        "meteor = evaluate.load('meteor')\n",
        "resultsm = meteor.compute(predictions=predictions, references=references)\n",
        "print(\"test\",  round(resultsm['meteor'], 2))\n",
        "\n",
        "rouge = evaluate.load('rouge')\n",
        "results = rouge.compute(predictions=predictions, references=references)\n",
        "print(results)\n",
        "\n",
        "bleu = evaluate.load(\"bleu\")\n",
        "results = bleu.compute(predictions=predictions, references=references)\n",
        "print(results)"
      ],
      "metadata": {
        "id": "WRJnaGKTNA4H",
        "colab": {
          "base_uri": "https://localhost:8080/"
        },
        "outputId": "2b2037f1-d2dc-48c2-c490-dd1d9ed72ca9"
      },
      "execution_count": null,
      "outputs": [
        {
          "output_type": "stream",
          "name": "stderr",
          "text": [
            "[nltk_data] Downloading package wordnet to /root/nltk_data...\n",
            "[nltk_data]   Package wordnet is already up-to-date!\n",
            "[nltk_data] Downloading package punkt to /root/nltk_data...\n",
            "[nltk_data]   Package punkt is already up-to-date!\n",
            "[nltk_data] Downloading package omw-1.4 to /root/nltk_data...\n",
            "[nltk_data]   Package omw-1.4 is already up-to-date!\n"
          ]
        },
        {
          "output_type": "stream",
          "name": "stdout",
          "text": [
            "test 0.12\n",
            "{'rouge1': 0.17391304347826086, 'rouge2': 0.0, 'rougeL': 0.14814814814814817, 'rougeLsum': 0.14814814814814817}\n",
            "{'bleu': 0.0, 'precisions': [0.4, 0.0, 0.0, 0.0], 'brevity_penalty': 0.740818220681718, 'length_ratio': 0.7692307692307693, 'translation_length': 10, 'reference_length': 13}\n"
          ]
        }
      ]
    },
    {
      "cell_type": "code",
      "source": [
        "predictions = [\"a man is paddling a canoe down a river\"]\n",
        "references = [[\"A large man sits in the back of a canoe with another man in front on a river\",\"two man are paddling a kayak along a river with green trees on either side\",\"Two men in a small boat rowing down a river\",\"Two men paddling a canoe down a narrow stream\",\"Two paddlers propel a canoe down a tree-lined stream\"]]\n",
        "\n",
        "meteor = evaluate.load('meteor')\n",
        "resultsm = meteor.compute(predictions=predictions, references=references)\n",
        "print(\"test\",  round(resultsm['meteor'], 2))\n",
        "\n",
        "rouge = evaluate.load('rouge')\n",
        "results = rouge.compute(predictions=predictions, references=references)\n",
        "print(results)\n",
        "\n",
        "bleu = evaluate.load(\"bleu\")\n",
        "results = bleu.compute(predictions=predictions, references=references)\n",
        "print(results)"
      ],
      "metadata": {
        "id": "qbJ0IETCNA4H",
        "colab": {
          "base_uri": "https://localhost:8080/"
        },
        "outputId": "10f7621b-46ef-4570-c328-db1801e44e2a"
      },
      "execution_count": null,
      "outputs": [
        {
          "output_type": "stream",
          "name": "stderr",
          "text": [
            "[nltk_data] Downloading package wordnet to /root/nltk_data...\n",
            "[nltk_data]   Package wordnet is already up-to-date!\n",
            "[nltk_data] Downloading package punkt to /root/nltk_data...\n",
            "[nltk_data]   Package punkt is already up-to-date!\n",
            "[nltk_data] Downloading package omw-1.4 to /root/nltk_data...\n",
            "[nltk_data]   Package omw-1.4 is already up-to-date!\n"
          ]
        },
        {
          "output_type": "stream",
          "name": "stdout",
          "text": [
            "test 0.55\n",
            "{'rouge1': 0.5555555555555556, 'rouge2': 0.5, 'rougeL': 0.5555555555555556, 'rougeLsum': 0.5555555555555556}\n",
            "{'bleu': 0.5516251532744788, 'precisions': [0.7777777777777778, 0.625, 0.5714285714285714, 0.3333333333333333], 'brevity_penalty': 1.0, 'length_ratio': 1.0, 'translation_length': 9, 'reference_length': 9}\n"
          ]
        }
      ]
    },
    {
      "cell_type": "code",
      "source": [
        "predictions = [\"a group of people sitting on a cliff overlooking a river\"]\n",
        "references = [[\"A couple enjoys a quiet moment near the river\",\"A few people sit out on rocks overlooking the water below\",\"Two people are sitting on a rock overlooking the river\",\"Two people sit on top of a cliff overlooking a river\",\"Two people sit upon large rocks next to a river\"]]\n",
        "\n",
        "meteor = evaluate.load('meteor')\n",
        "resultsm = meteor.compute(predictions=predictions, references=references)\n",
        "print(\"test\",  round(resultsm['meteor'], 2))\n",
        "\n",
        "rouge = evaluate.load('rouge')\n",
        "results = rouge.compute(predictions=predictions, references=references)\n",
        "print(results)\n",
        "\n",
        "bleu = evaluate.load(\"bleu\")\n",
        "results = bleu.compute(predictions=predictions, references=references)\n",
        "print(results)"
      ],
      "metadata": {
        "id": "a9E3jmVrNA4I",
        "colab": {
          "base_uri": "https://localhost:8080/"
        },
        "outputId": "31711e6f-aab4-4329-86a3-0ebd0cc3b2f0"
      },
      "execution_count": null,
      "outputs": [
        {
          "output_type": "stream",
          "name": "stderr",
          "text": [
            "[nltk_data] Downloading package wordnet to /root/nltk_data...\n",
            "[nltk_data]   Package wordnet is already up-to-date!\n",
            "[nltk_data] Downloading package punkt to /root/nltk_data...\n",
            "[nltk_data]   Package punkt is already up-to-date!\n",
            "[nltk_data] Downloading package omw-1.4 to /root/nltk_data...\n",
            "[nltk_data]   Package omw-1.4 is already up-to-date!\n"
          ]
        },
        {
          "output_type": "stream",
          "name": "stdout",
          "text": [
            "test 0.8\n",
            "{'rouge1': 0.7272727272727273, 'rouge2': 0.4000000000000001, 'rougeL': 0.6363636363636364, 'rougeLsum': 0.6363636363636364}\n",
            "{'bleu': 0.4832697830906221, 'precisions': [0.8181818181818182, 0.6, 0.4444444444444444, 0.25], 'brevity_penalty': 1.0, 'length_ratio': 1.2222222222222223, 'translation_length': 11, 'reference_length': 9}\n"
          ]
        }
      ]
    },
    {
      "cell_type": "code",
      "source": [
        "predictions = [\"a man and a woman sitting on the back of a car\"]\n",
        "references = [[\"A couple sit on the hood of a car with their backs to the camera\",\"A couple sits on a car\",\"A man and a woman sit on a car and face the opposite way of the camera\",\"A man and woman sit on a car and watch the road\",\"A man and woman sitting on a parked car\"]]\n",
        "\n",
        "meteor = evaluate.load('meteor')\n",
        "resultsm = meteor.compute(predictions=predictions, references=references)\n",
        "print(\"test\",  round(resultsm['meteor'], 2))\n",
        "\n",
        "rouge = evaluate.load('rouge')\n",
        "results = rouge.compute(predictions=predictions, references=references)\n",
        "print(results)\n",
        "\n",
        "bleu = evaluate.load(\"bleu\")\n",
        "results = bleu.compute(predictions=predictions, references=references)\n",
        "print(results)"
      ],
      "metadata": {
        "id": "uN2K-YZzNA4I",
        "colab": {
          "base_uri": "https://localhost:8080/"
        },
        "outputId": "99ed9a40-f57d-4402-91cf-ba41275c980b"
      },
      "execution_count": null,
      "outputs": [
        {
          "output_type": "stream",
          "name": "stderr",
          "text": [
            "[nltk_data] Downloading package wordnet to /root/nltk_data...\n",
            "[nltk_data]   Package wordnet is already up-to-date!\n",
            "[nltk_data] Downloading package punkt to /root/nltk_data...\n",
            "[nltk_data]   Package punkt is already up-to-date!\n",
            "[nltk_data] Downloading package omw-1.4 to /root/nltk_data...\n",
            "[nltk_data]   Package omw-1.4 is already up-to-date!\n"
          ]
        },
        {
          "output_type": "stream",
          "name": "stdout",
          "text": [
            "test 0.76\n",
            "{'rouge1': 0.761904761904762, 'rouge2': 0.4210526315789474, 'rougeL': 0.761904761904762, 'rougeLsum': 0.761904761904762}\n",
            "{'bleu': 0.4051197205425128, 'precisions': [0.8333333333333334, 0.7272727272727273, 0.4, 0.1111111111111111], 'brevity_penalty': 1.0, 'length_ratio': 2.0, 'translation_length': 12, 'reference_length': 6}\n"
          ]
        }
      ]
    },
    {
      "cell_type": "code",
      "source": [
        "predictions = [\"a man on a motorcycle is leaning around a corner\"]\n",
        "references = [[\"A motorcycle racer leans his bike\",\"A motorcyclist is driving down a road on their motorbike\",\"A motorcyclist is riding their sponsored car along a roadway that has recently turned\",\"A motorcyclist on the street\",\"A motorcyclist with a red helmet rides his blue motorcycle down the road\"]]\n",
        "\n",
        "meteor = evaluate.load('meteor')\n",
        "resultsm = meteor.compute(predictions=predictions, references=references)\n",
        "print(\"test\",  round(resultsm['meteor'], 2))\n",
        "\n",
        "rouge = evaluate.load('rouge')\n",
        "results = rouge.compute(predictions=predictions, references=references)\n",
        "print(results)\n",
        "\n",
        "bleu = evaluate.load(\"bleu\")\n",
        "results = bleu.compute(predictions=predictions, references=references)\n",
        "print(results)"
      ],
      "metadata": {
        "id": "MJHVSiAmNA4I",
        "colab": {
          "base_uri": "https://localhost:8080/"
        },
        "outputId": "6017cd16-2df1-4505-bf87-ec5658a65488"
      },
      "execution_count": null,
      "outputs": [
        {
          "output_type": "stream",
          "name": "stderr",
          "text": [
            "[nltk_data] Downloading package wordnet to /root/nltk_data...\n",
            "[nltk_data]   Package wordnet is already up-to-date!\n",
            "[nltk_data] Downloading package punkt to /root/nltk_data...\n",
            "[nltk_data]   Package punkt is already up-to-date!\n",
            "[nltk_data] Downloading package omw-1.4 to /root/nltk_data...\n",
            "[nltk_data]   Package omw-1.4 is already up-to-date!\n"
          ]
        },
        {
          "output_type": "stream",
          "name": "stdout",
          "text": [
            "test 0.23\n",
            "{'rouge1': 0.4000000000000001, 'rouge2': 0.14285714285714285, 'rougeL': 0.3, 'rougeLsum': 0.3}\n",
            "{'bleu': 0.0, 'precisions': [0.4, 0.0, 0.0, 0.0], 'brevity_penalty': 1.0, 'length_ratio': 2.0, 'translation_length': 10, 'reference_length': 5}\n"
          ]
        }
      ]
    },
    {
      "cell_type": "code",
      "source": [
        "predictions = [\"a person climbing up a rocky cliff on a rope\"]\n",
        "references = [[\"A mountain climber looks down from the summit\",\"A person is rock climbing between two large rock faces\",\"A rock climber climbs in between two very large rocks\",\"A rock climber leans out from a crag against a deep blue sky\",\"Two large mountains stand high in the air as a person tries to climb one\"]]\n",
        "\n",
        "meteor = evaluate.load('meteor')\n",
        "resultsm = meteor.compute(predictions=predictions, references=references)\n",
        "print(\"test\",  round(resultsm['meteor'], 2))\n",
        "\n",
        "rouge = evaluate.load('rouge')\n",
        "results = rouge.compute(predictions=predictions, references=references)\n",
        "print(results)\n",
        "\n",
        "bleu = evaluate.load(\"bleu\")\n",
        "results = bleu.compute(predictions=predictions, references=references)\n",
        "print(results)"
      ],
      "metadata": {
        "id": "mvgF5tp0NA4I",
        "colab": {
          "base_uri": "https://localhost:8080/"
        },
        "outputId": "c4ed3e6d-f5b8-4e06-b2a0-941a1256a3e6"
      },
      "execution_count": null,
      "outputs": [
        {
          "output_type": "stream",
          "name": "stderr",
          "text": [
            "[nltk_data] Downloading package wordnet to /root/nltk_data...\n",
            "[nltk_data]   Package wordnet is already up-to-date!\n",
            "[nltk_data] Downloading package punkt to /root/nltk_data...\n",
            "[nltk_data]   Package punkt is already up-to-date!\n",
            "[nltk_data] Downloading package omw-1.4 to /root/nltk_data...\n",
            "[nltk_data]   Package omw-1.4 is already up-to-date!\n"
          ]
        },
        {
          "output_type": "stream",
          "name": "stdout",
          "text": [
            "test 0.15\n",
            "{'rouge1': 0.3, 'rouge2': 0.1111111111111111, 'rougeL': 0.3, 'rougeLsum': 0.3}\n",
            "{'bleu': 0.0, 'precisions': [0.4, 0.1111111111111111, 0.0, 0.0], 'brevity_penalty': 1.0, 'length_ratio': 1.25, 'translation_length': 10, 'reference_length': 8}\n"
          ]
        }
      ]
    },
    {
      "cell_type": "code",
      "source": [
        "predictions = [\"a little girl sitting in the grass with a rainbow in front of her\"]\n",
        "references = [[\"A little girl covered in paint sits in front of a painted rainbow with her hands in a bowl\", \"A little girl is sitting in front of a large painted rainbow\",\"A small girl in the grass plays with fingerpaints in front of a white canvas with a rainbow on it\",\"There is a girl with pigtails sitting in front of a rainbow painting\",\"Young girl with pigtails painting outside in the grass\"]]\n",
        "\n",
        "meteor = evaluate.load('meteor')\n",
        "resultsm = meteor.compute(predictions=predictions, references=references)\n",
        "print(\"test\",  round(resultsm['meteor'], 2))\n",
        "\n",
        "rouge = evaluate.load('rouge')\n",
        "results = rouge.compute(predictions=predictions, references=references)\n",
        "print(results)\n",
        "\n",
        "bleu = evaluate.load(\"bleu\")\n",
        "results = bleu.compute(predictions=predictions, references=references)\n",
        "print(results)"
      ],
      "metadata": {
        "id": "3scT2tcWNA4I",
        "colab": {
          "base_uri": "https://localhost:8080/"
        },
        "outputId": "0417c081-7fd3-44ad-bb5f-b87ba4a96e3f"
      },
      "execution_count": null,
      "outputs": [
        {
          "output_type": "stream",
          "name": "stderr",
          "text": [
            "[nltk_data] Downloading package wordnet to /root/nltk_data...\n",
            "[nltk_data]   Package wordnet is already up-to-date!\n",
            "[nltk_data] Downloading package punkt to /root/nltk_data...\n",
            "[nltk_data]   Package punkt is already up-to-date!\n",
            "[nltk_data] Downloading package omw-1.4 to /root/nltk_data...\n",
            "[nltk_data]   Package omw-1.4 is already up-to-date!\n"
          ]
        },
        {
          "output_type": "stream",
          "name": "stdout",
          "text": [
            "test 0.67\n",
            "{'rouge1': 0.6923076923076924, 'rouge2': 0.41666666666666663, 'rougeL': 0.5384615384615384, 'rougeLsum': 0.5384615384615384}\n",
            "{'bleu': 0.0, 'precisions': [1.0, 0.6153846153846154, 0.25, 0.0], 'brevity_penalty': 1.0, 'length_ratio': 1.5555555555555556, 'translation_length': 14, 'reference_length': 9}\n"
          ]
        }
      ]
    },
    {
      "cell_type": "code",
      "source": [
        "predictions = [\"a dog running in the grass with a hose in front of it\"]\n",
        "references = [[\"A brown dog chases the water from a sprinkler on a lawn\", \"a brown dog plays with the hose\",\"A brown dog running on a lawn near a garden hose\",\"A dog is playing with a hose\", \"Large brown dog running away from the sprinkler in the grass\" ]]\n",
        "\n",
        "meteor = evaluate.load('meteor')\n",
        "resultsm = meteor.compute(predictions=predictions, references=references)\n",
        "print(\"test\",  round(resultsm['meteor'], 2))\n",
        "\n",
        "rouge = evaluate.load('rouge')\n",
        "results = rouge.compute(predictions=predictions, references=references)\n",
        "print(results)\n",
        "\n",
        "bleu = evaluate.load(\"bleu\")\n",
        "results = bleu.compute(predictions=predictions, references=references)\n",
        "print(results)"
      ],
      "metadata": {
        "id": "VMBudvgsNA4I",
        "colab": {
          "base_uri": "https://localhost:8080/"
        },
        "outputId": "5cede597-88d4-4092-96db-5490eff43f53"
      },
      "execution_count": null,
      "outputs": [
        {
          "output_type": "stream",
          "name": "stderr",
          "text": [
            "[nltk_data] Downloading package wordnet to /root/nltk_data...\n",
            "[nltk_data]   Package wordnet is already up-to-date!\n",
            "[nltk_data] Downloading package punkt to /root/nltk_data...\n",
            "[nltk_data]   Package punkt is already up-to-date!\n",
            "[nltk_data] Downloading package omw-1.4 to /root/nltk_data...\n",
            "[nltk_data]   Package omw-1.4 is already up-to-date!\n"
          ]
        },
        {
          "output_type": "stream",
          "name": "stdout",
          "text": [
            "test 0.74\n",
            "{'rouge1': 0.5, 'rouge2': 0.3333333333333333, 'rougeL': 0.5, 'rougeLsum': 0.5}\n",
            "{'bleu': 0.0, 'precisions': [0.6923076923076923, 0.4166666666666667, 0.18181818181818182, 0.0], 'brevity_penalty': 1.0, 'length_ratio': 1.8571428571428572, 'translation_length': 13, 'reference_length': 7}\n"
          ]
        }
      ]
    },
    {
      "cell_type": "code",
      "source": [
        "predictions = [\"a group of people riding a four wheeler in a field\"]\n",
        "references = [[\"A family playing on a tractor on a beautiful day\",\"Children ride a tractor in a field\",\"Several children playing on a Polaris vehicle outdoors\",\"The children played on the four wheeler in the field\",\"The four kids are riding on an ATV in a field\"]]\n",
        "\n",
        "meteor = evaluate.load('meteor')\n",
        "resultsm = meteor.compute(predictions=predictions, references=references)\n",
        "print(\"test\",  round(resultsm['meteor'], 2))\n",
        "\n",
        "rouge = evaluate.load('rouge')\n",
        "results = rouge.compute(predictions=predictions, references=references)\n",
        "print(results)\n",
        "\n",
        "bleu = evaluate.load(\"bleu\")\n",
        "results = bleu.compute(predictions=predictions, references=references)\n",
        "print(results)"
      ],
      "metadata": {
        "id": "0XnOtAigNA4I",
        "colab": {
          "base_uri": "https://localhost:8080/"
        },
        "outputId": "f298e153-520d-4563-ca04-6cc880e5c9e0"
      },
      "execution_count": null,
      "outputs": [
        {
          "output_type": "stream",
          "name": "stderr",
          "text": [
            "[nltk_data] Downloading package wordnet to /root/nltk_data...\n",
            "[nltk_data]   Package wordnet is already up-to-date!\n",
            "[nltk_data] Downloading package punkt to /root/nltk_data...\n",
            "[nltk_data]   Package punkt is already up-to-date!\n",
            "[nltk_data] Downloading package omw-1.4 to /root/nltk_data...\n",
            "[nltk_data]   Package omw-1.4 is already up-to-date!\n"
          ]
        },
        {
          "output_type": "stream",
          "name": "stdout",
          "text": [
            "test 0.65\n",
            "{'rouge1': 0.45454545454545453, 'rouge2': 0.25, 'rougeL': 0.4444444444444444, 'rougeLsum': 0.4444444444444444}\n",
            "{'bleu': 0.0, 'precisions': [0.6363636363636364, 0.4, 0.2222222222222222, 0.0], 'brevity_penalty': 1.0, 'length_ratio': 1.5714285714285714, 'translation_length': 11, 'reference_length': 7}\n"
          ]
        }
      ]
    },
    {
      "cell_type": "code",
      "source": [
        "predictions = [\"two small dogs walking on a stone path in the woods with bushes in the background\"]\n",
        "references = [[\"Two little puppies chase each other on a stone wall\", \"Two puppies run across flat stones in garden area\",\"Two puppies walking on stones\",\"Two small puppies run along the edge of a stone wall nearby a heavily foliaged area\",\"two small tan puppies walking on a stone path\"]]\n",
        "\n",
        "meteor = evaluate.load('meteor')\n",
        "resultsm = meteor.compute(predictions=predictions, references=references)\n",
        "print(\"test\",  round(resultsm['meteor'], 2))\n",
        "\n",
        "rouge = evaluate.load('rouge')\n",
        "results = rouge.compute(predictions=predictions, references=references)\n",
        "print(results)\n",
        "\n",
        "bleu = evaluate.load(\"bleu\")\n",
        "results = bleu.compute(predictions=predictions, references=references)\n",
        "print(results)"
      ],
      "metadata": {
        "id": "4PaXHHuCNA4I",
        "colab": {
          "base_uri": "https://localhost:8080/"
        },
        "outputId": "d593c911-e10c-4e50-b844-ad06a407b5c7"
      },
      "execution_count": null,
      "outputs": [
        {
          "output_type": "stream",
          "name": "stderr",
          "text": [
            "[nltk_data] Downloading package wordnet to /root/nltk_data...\n",
            "[nltk_data]   Package wordnet is already up-to-date!\n",
            "[nltk_data] Downloading package punkt to /root/nltk_data...\n",
            "[nltk_data]   Package punkt is already up-to-date!\n",
            "[nltk_data] Downloading package omw-1.4 to /root/nltk_data...\n",
            "[nltk_data]   Package omw-1.4 is already up-to-date!\n"
          ]
        },
        {
          "output_type": "stream",
          "name": "stdout",
          "text": [
            "test 0.71\n",
            "{'rouge1': 0.56, 'rouge2': 0.43478260869565216, 'rougeL': 0.56, 'rougeLsum': 0.56}\n",
            "{'bleu': 0.2803950119994004, 'precisions': [0.5625, 0.3333333333333333, 0.21428571428571427, 0.15384615384615385], 'brevity_penalty': 1.0, 'length_ratio': 3.2, 'translation_length': 16, 'reference_length': 5}\n"
          ]
        }
      ]
    },
    {
      "cell_type": "code",
      "source": [
        "predictions = [\"a woman is sitting on a green bench with a cup of coffee\"]\n",
        "references = [[\"a lone woman sitting on an usual green bench with a cup in her hand\",\"A woman sits on a flower pot at a crowded coffee shop\",\"The woman sat on a green bench and had a drink\",\"Woman holding a drink with a white bag next to her is sitting on a green sculpture\",\"Woman sitting on a turquoise bench with a pillow and a bag near a restaurant\"]]\n",
        "\n",
        "meteor = evaluate.load('meteor')\n",
        "resultsm = meteor.compute(predictions=predictions, references=references)\n",
        "print(\"test\",  round(resultsm['meteor'], 2))\n",
        "\n",
        "rouge = evaluate.load('rouge')\n",
        "results = rouge.compute(predictions=predictions, references=references)\n",
        "print(results)\n",
        "\n",
        "bleu = evaluate.load(\"bleu\")\n",
        "results = bleu.compute(predictions=predictions, references=references)\n",
        "print(results)"
      ],
      "metadata": {
        "id": "JZAgkt8DNA4J",
        "colab": {
          "base_uri": "https://localhost:8080/"
        },
        "outputId": "0e4f9a73-db51-49fd-9f1d-9660c96d1f58"
      },
      "execution_count": null,
      "outputs": [
        {
          "output_type": "stream",
          "name": "stderr",
          "text": [
            "[nltk_data] Downloading package wordnet to /root/nltk_data...\n",
            "[nltk_data]   Package wordnet is already up-to-date!\n",
            "[nltk_data] Downloading package punkt to /root/nltk_data...\n",
            "[nltk_data]   Package punkt is already up-to-date!\n",
            "[nltk_data] Downloading package omw-1.4 to /root/nltk_data...\n",
            "[nltk_data]   Package omw-1.4 is already up-to-date!\n"
          ]
        },
        {
          "output_type": "stream",
          "name": "stdout",
          "text": [
            "test 0.58\n",
            "{'rouge1': 0.6428571428571429, 'rouge2': 0.3846153846153846, 'rougeL': 0.6428571428571429, 'rougeLsum': 0.6428571428571429}\n",
            "{'bleu': 0.6652049901111008, 'precisions': [0.9230769230769231, 0.6666666666666666, 0.6363636363636364, 0.5], 'brevity_penalty': 1.0, 'length_ratio': 1.1818181818181819, 'translation_length': 13, 'reference_length': 11}\n"
          ]
        }
      ]
    },
    {
      "cell_type": "code",
      "source": [
        "predictions = [\"a man standing on top of a rock overlooking a valley\"]\n",
        "references = [[\"A lone man stands on a rocky outcropping and looks out over the wilderness\",\"A man in shorts and a black jacket stands on top of a big rock looking down on hills and valleys\",\"A man is standing on a big rock overlooking a valley\",\"A man stands atop a large mountain of rocks\",\"Man standing on edge of large rock overlooking scenic view\"]]\n",
        "\n",
        "meteor = evaluate.load('meteor')\n",
        "resultsm = meteor.compute(predictions=predictions, references=references)\n",
        "print(\"test\",  round(resultsm['meteor'], 2))\n",
        "\n",
        "rouge = evaluate.load('rouge')\n",
        "results = rouge.compute(predictions=predictions, references=references)\n",
        "print(results)\n",
        "\n",
        "bleu = evaluate.load(\"bleu\")\n",
        "results = bleu.compute(predictions=predictions, references=references)\n",
        "print(results)"
      ],
      "metadata": {
        "id": "hijFx8zGNA4J",
        "colab": {
          "base_uri": "https://localhost:8080/"
        },
        "outputId": "4d1fbd51-5596-4d06-88d8-3419bba3a080"
      },
      "execution_count": null,
      "outputs": [
        {
          "output_type": "stream",
          "name": "stderr",
          "text": [
            "[nltk_data] Downloading package wordnet to /root/nltk_data...\n",
            "[nltk_data]   Package wordnet is already up-to-date!\n",
            "[nltk_data] Downloading package punkt to /root/nltk_data...\n",
            "[nltk_data]   Package punkt is already up-to-date!\n",
            "[nltk_data] Downloading package omw-1.4 to /root/nltk_data...\n",
            "[nltk_data]   Package omw-1.4 is already up-to-date!\n"
          ]
        },
        {
          "output_type": "stream",
          "name": "stdout",
          "text": [
            "test 0.78\n",
            "{'rouge1': 0.8181818181818182, 'rouge2': 0.5, 'rougeL': 0.8181818181818182, 'rougeLsum': 0.8181818181818182}\n",
            "{'bleu': 0.5156626918239822, 'precisions': [0.9090909090909091, 0.7, 0.4444444444444444, 0.25], 'brevity_penalty': 1.0, 'length_ratio': 1.2222222222222223, 'translation_length': 11, 'reference_length': 9}\n"
          ]
        }
      ]
    },
    {
      "cell_type": "code",
      "source": [
        "predictions = [\"a man in a green and yellow uniform with a towel on his head\"]\n",
        "references = [[\"A football player pauses during a game\",\"A football player wears a green jersey with the number \"\" 4 \"\" on it\",\"Greenbay football player is being handed a towel on the field\",\"Green Bay Packer player cooling off\",\"Someone takes a cloth off of a Green Bay Packers football player\"]]\n",
        "\n",
        "meteor = evaluate.load('meteor')\n",
        "resultsm = meteor.compute(predictions=predictions, references=references)\n",
        "print(\"test\",  round(resultsm['meteor'], 2))\n",
        "\n",
        "rouge = evaluate.load('rouge')\n",
        "results = rouge.compute(predictions=predictions, references=references)\n",
        "print(results)\n",
        "\n",
        "bleu = evaluate.load(\"bleu\")\n",
        "results = bleu.compute(predictions=predictions, references=references)\n",
        "print(results)"
      ],
      "metadata": {
        "id": "Y7HQQrXdNA4J",
        "colab": {
          "base_uri": "https://localhost:8080/"
        },
        "outputId": "d1012b2a-b336-4a57-f080-5d3af25f9457"
      },
      "execution_count": null,
      "outputs": [
        {
          "output_type": "stream",
          "name": "stderr",
          "text": [
            "[nltk_data] Downloading package wordnet to /root/nltk_data...\n",
            "[nltk_data]   Package wordnet is already up-to-date!\n",
            "[nltk_data] Downloading package punkt to /root/nltk_data...\n",
            "[nltk_data]   Package punkt is already up-to-date!\n",
            "[nltk_data] Downloading package omw-1.4 to /root/nltk_data...\n",
            "[nltk_data]   Package omw-1.4 is already up-to-date!\n"
          ]
        },
        {
          "output_type": "stream",
          "name": "stdout",
          "text": [
            "test 0.26\n",
            "{'rouge1': 0.3703703703703704, 'rouge2': 0.17391304347826086, 'rougeL': 0.3703703703703704, 'rougeLsum': 0.3703703703703704}\n",
            "{'bleu': 0.0, 'precisions': [0.42857142857142855, 0.23076923076923078, 0.08333333333333333, 0.0], 'brevity_penalty': 1.0, 'length_ratio': 2.3333333333333335, 'translation_length': 14, 'reference_length': 6}\n"
          ]
        }
      ]
    }
  ]
}