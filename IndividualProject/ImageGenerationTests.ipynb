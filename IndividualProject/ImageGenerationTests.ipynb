{
  "nbformat": 4,
  "nbformat_minor": 0,
  "metadata": {
    "colab": {
      "provenance": [],
      "collapsed_sections": [
        "MzGZrQEOetCv"
      ],
      "authorship_tag": "ABX9TyMd68VFdgAi/AXdX0VfLw4k",
      "include_colab_link": true
    },
    "kernelspec": {
      "name": "python3",
      "display_name": "Python 3"
    },
    "language_info": {
      "name": "python"
    }
  },
  "cells": [
    {
      "cell_type": "markdown",
      "metadata": {
        "id": "view-in-github",
        "colab_type": "text"
      },
      "source": [
        "<a href=\"https://colab.research.google.com/github/Matthieu6/IndividualProject/blob/main/IndividualProject/ImageGenerationTests.ipynb\" target=\"_parent\"><img src=\"https://colab.research.google.com/assets/colab-badge.svg\" alt=\"Open In Colab\"/></a>"
      ]
    },
    {
      "cell_type": "markdown",
      "source": [
        "## Initialisation"
      ],
      "metadata": {
        "id": "MzGZrQEOetCv"
      }
    },
    {
      "cell_type": "code",
      "execution_count": null,
      "metadata": {
        "colab": {
          "base_uri": "https://localhost:8080/"
        },
        "id": "LbkohNQfdtPh",
        "outputId": "e22cf9b1-470b-42e6-e232-295471ebc41e"
      },
      "outputs": [
        {
          "output_type": "stream",
          "name": "stdout",
          "text": [
            "Collecting image-similarity-measures\n",
            "  Downloading image_similarity_measures-0.3.6-py3-none-any.whl (8.7 kB)\n",
            "Requirement already satisfied: numpy<2.0.0,>=1.24.2 in /usr/local/lib/python3.10/dist-packages (from image-similarity-measures) (1.25.2)\n",
            "Requirement already satisfied: opencv-python<5.0.0.0,>=4.7.0.72 in /usr/local/lib/python3.10/dist-packages (from image-similarity-measures) (4.8.0.76)\n",
            "Collecting phasepack<2.0,>=1.5 (from image-similarity-measures)\n",
            "  Downloading phasepack-1.5.tar.gz (15 kB)\n",
            "  Preparing metadata (setup.py) ... \u001b[?25l\u001b[?25hdone\n",
            "Collecting scikit-image<0.21.0,>=0.20.0 (from image-similarity-measures)\n",
            "  Downloading scikit_image-0.20.0-cp310-cp310-manylinux_2_17_x86_64.manylinux2014_x86_64.whl (13.2 MB)\n",
            "\u001b[2K     \u001b[90m━━━━━━━━━━━━━━━━━━━━━━━━━━━━━━━━━━━━━━━━\u001b[0m \u001b[32m13.2/13.2 MB\u001b[0m \u001b[31m23.4 MB/s\u001b[0m eta \u001b[36m0:00:00\u001b[0m\n",
            "\u001b[?25hRequirement already satisfied: scipy>=1.8 in /usr/local/lib/python3.10/dist-packages (from scikit-image<0.21.0,>=0.20.0->image-similarity-measures) (1.11.4)\n",
            "Requirement already satisfied: networkx>=2.8 in /usr/local/lib/python3.10/dist-packages (from scikit-image<0.21.0,>=0.20.0->image-similarity-measures) (3.2.1)\n",
            "Requirement already satisfied: pillow>=9.0.1 in /usr/local/lib/python3.10/dist-packages (from scikit-image<0.21.0,>=0.20.0->image-similarity-measures) (9.4.0)\n",
            "Requirement already satisfied: imageio>=2.4.1 in /usr/local/lib/python3.10/dist-packages (from scikit-image<0.21.0,>=0.20.0->image-similarity-measures) (2.31.6)\n",
            "Requirement already satisfied: tifffile>=2019.7.26 in /usr/local/lib/python3.10/dist-packages (from scikit-image<0.21.0,>=0.20.0->image-similarity-measures) (2024.2.12)\n",
            "Requirement already satisfied: PyWavelets>=1.1.1 in /usr/local/lib/python3.10/dist-packages (from scikit-image<0.21.0,>=0.20.0->image-similarity-measures) (1.6.0)\n",
            "Requirement already satisfied: packaging>=20.0 in /usr/local/lib/python3.10/dist-packages (from scikit-image<0.21.0,>=0.20.0->image-similarity-measures) (24.0)\n",
            "Requirement already satisfied: lazy_loader>=0.1 in /usr/local/lib/python3.10/dist-packages (from scikit-image<0.21.0,>=0.20.0->image-similarity-measures) (0.3)\n",
            "Building wheels for collected packages: phasepack\n",
            "  Building wheel for phasepack (setup.py) ... \u001b[?25l\u001b[?25hdone\n",
            "  Created wheel for phasepack: filename=phasepack-1.5-py3-none-any.whl size=26960 sha256=6168915202c7f761fb84faa2565ee7b979b66f11ba9918b1cf7c48f0a8e65dff\n",
            "  Stored in directory: /root/.cache/pip/wheels/05/37/63/26a896aa2113f7eac15120c277787dcdad4a9b70cace22251f\n",
            "Successfully built phasepack\n",
            "Installing collected packages: phasepack, scikit-image, image-similarity-measures\n",
            "  Attempting uninstall: scikit-image\n",
            "    Found existing installation: scikit-image 0.19.3\n",
            "    Uninstalling scikit-image-0.19.3:\n",
            "      Successfully uninstalled scikit-image-0.19.3\n",
            "Successfully installed image-similarity-measures-0.3.6 phasepack-1.5 scikit-image-0.20.0\n",
            "Requirement already satisfied: image-similarity-measures[speedups] in /usr/local/lib/python3.10/dist-packages (0.3.6)\n",
            "Requirement already satisfied: numpy<2.0.0,>=1.24.2 in /usr/local/lib/python3.10/dist-packages (from image-similarity-measures[speedups]) (1.25.2)\n",
            "Requirement already satisfied: opencv-python<5.0.0.0,>=4.7.0.72 in /usr/local/lib/python3.10/dist-packages (from image-similarity-measures[speedups]) (4.8.0.76)\n",
            "Requirement already satisfied: phasepack<2.0,>=1.5 in /usr/local/lib/python3.10/dist-packages (from image-similarity-measures[speedups]) (1.5)\n",
            "Requirement already satisfied: scikit-image<0.21.0,>=0.20.0 in /usr/local/lib/python3.10/dist-packages (from image-similarity-measures[speedups]) (0.20.0)\n",
            "Requirement already satisfied: scipy>=1.8 in /usr/local/lib/python3.10/dist-packages (from scikit-image<0.21.0,>=0.20.0->image-similarity-measures[speedups]) (1.11.4)\n",
            "Requirement already satisfied: networkx>=2.8 in /usr/local/lib/python3.10/dist-packages (from scikit-image<0.21.0,>=0.20.0->image-similarity-measures[speedups]) (3.2.1)\n",
            "Requirement already satisfied: pillow>=9.0.1 in /usr/local/lib/python3.10/dist-packages (from scikit-image<0.21.0,>=0.20.0->image-similarity-measures[speedups]) (9.4.0)\n",
            "Requirement already satisfied: imageio>=2.4.1 in /usr/local/lib/python3.10/dist-packages (from scikit-image<0.21.0,>=0.20.0->image-similarity-measures[speedups]) (2.31.6)\n",
            "Requirement already satisfied: tifffile>=2019.7.26 in /usr/local/lib/python3.10/dist-packages (from scikit-image<0.21.0,>=0.20.0->image-similarity-measures[speedups]) (2024.2.12)\n",
            "Requirement already satisfied: PyWavelets>=1.1.1 in /usr/local/lib/python3.10/dist-packages (from scikit-image<0.21.0,>=0.20.0->image-similarity-measures[speedups]) (1.6.0)\n",
            "Requirement already satisfied: packaging>=20.0 in /usr/local/lib/python3.10/dist-packages (from scikit-image<0.21.0,>=0.20.0->image-similarity-measures[speedups]) (24.0)\n",
            "Requirement already satisfied: lazy_loader>=0.1 in /usr/local/lib/python3.10/dist-packages (from scikit-image<0.21.0,>=0.20.0->image-similarity-measures[speedups]) (0.3)\n"
          ]
        },
        {
          "output_type": "stream",
          "name": "stderr",
          "text": [
            "/usr/local/lib/python3.10/dist-packages/phasepack/tools.py:11: UserWarning: \n",
            "Module 'pyfftw' (FFTW Python bindings) could not be imported. To install it, try\n",
            "running 'pip install pyfftw' from the terminal. Falling back on the slower\n",
            "'fftpack' module for 2D Fourier transforms.\n",
            "  warnings.warn(\"\"\"\n"
          ]
        }
      ],
      "source": [
        "!pip install image-similarity-measures\n",
        "!pip install image-similarity-measures[speedups]\n",
        "\n",
        "from skimage.metrics import structural_similarity as ssim\n",
        "from image_similarity_measures.evaluate import evaluation"
      ]
    },
    {
      "cell_type": "markdown",
      "source": [
        "# Evaluation for array"
      ],
      "metadata": {
        "id": "N1m7OebOexZN"
      }
    },
    {
      "cell_type": "code",
      "source": [
        "\n",
        "# Iterate over 15 pairs of images\n",
        "for i in range(1, 16):\n",
        "    org_img_path = f\"output_image_{i}.jpg\"\n",
        "    pred_img_path = f\"output_image_{i}.png\"\n",
        "\n",
        "    # Perform evaluation for each pair\n",
        "    result = evaluation(org_img_path=org_img_path,\n",
        "                        pred_img_path=pred_img_path,\n",
        "                        metrics=[\"psnr\", \"ssim\", \"fsim\"])\n",
        "\n",
        "    # Print the result for each pair\n",
        "    print(f\"Results for image pair {i}: {result}\")\n",
        "\n"
      ],
      "metadata": {
        "colab": {
          "base_uri": "https://localhost:8080/"
        },
        "id": "Ercm8j-Id4bD",
        "outputId": "696d6923-1c89-47a7-8150-20ff6a177b46"
      },
      "execution_count": null,
      "outputs": [
        {
          "output_type": "stream",
          "name": "stdout",
          "text": [
            "Results for image pair 1: {'psnr': 66.3499816372301, 'ssim': 0.9997260982161894, 'fsim': 0.8714452426542967}\n",
            "Results for image pair 2: {'psnr': 67.75488342620932, 'ssim': 0.9998145320232538, 'fsim': 0.8714389504747078}\n",
            "Results for image pair 3: {'psnr': 70.53853228278179, 'ssim': 0.9998782569026733, 'fsim': 0.8930248890664124}\n",
            "Results for image pair 4: {'psnr': 64.61455812653337, 'ssim': 0.9996095535932493, 'fsim': 0.870299137754219}\n",
            "Results for image pair 5: {'psnr': 65.00776955135129, 'ssim': 0.9996528779905486, 'fsim': 0.8747022010753284}\n",
            "Results for image pair 6: {'psnr': 66.17356196745236, 'ssim': 0.999722304931652, 'fsim': 0.8733748014532096}\n",
            "Results for image pair 7: {'psnr': 67.75795216826339, 'ssim': 0.9998002793693078, 'fsim': 0.8763254588953721}\n",
            "Results for image pair 8: {'psnr': 66.277772844316, 'ssim': 0.9997527274614573, 'fsim': 0.8761303714786903}\n",
            "Results for image pair 9: {'psnr': 64.37588152968519, 'ssim': 0.999579846351271, 'fsim': 0.8624020307672491}\n",
            "Results for image pair 10: {'psnr': 62.455998264492116, 'ssim': 0.9994370267246736, 'fsim': 0.8665469599216777}\n",
            "Results for image pair 11: {'psnr': 66.50769423529493, 'ssim': 0.9997603660903956, 'fsim': 0.873863545138526}\n",
            "Results for image pair 12: {'psnr': 65.60813889307796, 'ssim': 0.9996666683938553, 'fsim': 0.8778749647741249}\n",
            "Results for image pair 13: {'psnr': 65.45691867186808, 'ssim': 0.9996856735070585, 'fsim': 0.8650003497733967}\n",
            "Results for image pair 14: {'psnr': 65.27793519579505, 'ssim': 0.9996896749624519, 'fsim': 0.878921831929596}\n",
            "Results for image pair 15: {'psnr': 64.5446193684444, 'ssim': 0.9996064698068188, 'fsim': 0.8708654830858853}\n"
          ]
        }
      ]
    }
  ]
}