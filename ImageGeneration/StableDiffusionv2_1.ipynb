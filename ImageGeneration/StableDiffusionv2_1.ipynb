{
  "nbformat": 4,
  "nbformat_minor": 0,
  "metadata": {
    "colab": {
      "provenance": [],
      "gpuType": "T4",
      "authorship_tag": "ABX9TyPa3xkqLNwzCveEAOqNgtlS",
      "include_colab_link": true
    },
    "kernelspec": {
      "name": "python3",
      "display_name": "Python 3"
    },
    "language_info": {
      "name": "python"
    },
    "accelerator": "GPU"
  },
  "cells": [
    {
      "cell_type": "markdown",
      "metadata": {
        "id": "view-in-github",
        "colab_type": "text"
      },
      "source": [
        "<a href=\"https://colab.research.google.com/github/Matthieu6/IndividualProject/blob/main/ImageGeneration/StableDiffusionv2_1.ipynb\" target=\"_parent\"><img src=\"https://colab.research.google.com/assets/colab-badge.svg\" alt=\"Open In Colab\"/></a>"
      ]
    },
    {
      "cell_type": "markdown",
      "source": [
        "## Initiation"
      ],
      "metadata": {
        "id": "6h_zQYJLZxSm"
      }
    },
    {
      "cell_type": "markdown",
      "source": [
        "This section installs the required extensions to run the StableDiffusionv2.1. Additionally it initiates the pipelines required for the model. Modifications were completed from the original code accessible on [HuggingFace Stable Diffusion](https://huggingface.co/stabilityai/stable-diffusion-2-1). \n"
      ],
      "metadata": {
        "id": "ZCkUhJivl9-2"
      }
    },
    {
      "cell_type": "code",
      "execution_count": null,
      "metadata": {
        "id": "gnYCWTq0FAVN"
      },
      "outputs": [],
      "source": [
        "!pip install diffusers transformers accelerate scipy safetensors"
      ]
    },
    {
      "cell_type": "code",
      "source": [
        "import torch\n",
        "from diffusers import StableDiffusionPipeline, DPMSolverMultistepScheduler\n",
        "\n",
        "model_id = \"stabilityai/stable-diffusion-2-1\"\n",
        "\n",
        "# Use the DPMSolverMultistepScheduler (DPM-Solver++) scheduler here instead\n",
        "pipe = StableDiffusionPipeline.from_pretrained(model_id, torch_dtype=torch.float16)\n",
        "pipe.scheduler = DPMSolverMultistepScheduler.from_config(pipe.scheduler.config)\n",
        "pipe = pipe.to(\"cuda\")"
      ],
      "metadata": {
        "id": "Vb2Avqz8FFox"
      },
      "execution_count": null,
      "outputs": []
    },
    {
      "cell_type": "markdown",
      "source": [
        "## Code"
      ],
      "metadata": {
        "id": "zaSYvke9Zu0V"
      }
    },
    {
      "cell_type": "markdown",
      "source": [
        "Code outputing 14 images using StableDiffusionv2.1. Each image is generated from input captions created from the BLIP-2 image captioning model."
      ],
      "metadata": {
        "id": "sse0nCLhmDHu"
      }
    },
    {
      "cell_type": "code",
      "source": [
        "prompt = \"a woman paddling a canoe in a body of water\"\n",
        "image = pipe(prompt).images[0]\n",
        "image.save(\"output_image1.png\")"
      ],
      "metadata": {
        "id": "nQsu_TG4ZLQv"
      },
      "execution_count": null,
      "outputs": []
    },
    {
      "cell_type": "code",
      "source": [
        "prompt = \"a group of people skiing down a snowy hill on skis\"\n",
        "image = pipe(prompt).images[0]\n",
        "image.save(\"output_image2.png\")"
      ],
      "metadata": {
        "id": "CihYg_bqZQ9f"
      },
      "execution_count": null,
      "outputs": []
    },
    {
      "cell_type": "code",
      "source": [
        "prompt = \"a man is paddling a canoe down a river\"\n",
        "image = pipe(prompt).images[0]\n",
        "image.save(\"output_image3.png\")"
      ],
      "metadata": {
        "id": "f75JCWTfZQ4S"
      },
      "execution_count": null,
      "outputs": []
    },
    {
      "cell_type": "code",
      "source": [
        "prompt = \"a group of people sitting on a cliff overlooking a river\"\n",
        "image = pipe(prompt).images[0]\n",
        "image.save(\"output_image4.png\")"
      ],
      "metadata": {
        "id": "mvv5wOjbZQ1e"
      },
      "execution_count": null,
      "outputs": []
    },
    {
      "cell_type": "code",
      "source": [
        "prompt = \"a man and a woman sitting on the back of a car\"\n",
        "image = pipe(prompt).images[0]\n",
        "image.save(\"output_image5.png\")"
      ],
      "metadata": {
        "id": "HagRUqlMZQWd"
      },
      "execution_count": null,
      "outputs": []
    },
    {
      "cell_type": "code",
      "source": [
        "prompt = \"a man on a motorcycle is leaning around a corner\"\n",
        "image = pipe(prompt).images[0]\n",
        "image.save(\"output_image6.png\")"
      ],
      "metadata": {
        "id": "9xdJPfQ8ZQLh"
      },
      "execution_count": null,
      "outputs": []
    },
    {
      "cell_type": "code",
      "source": [
        "prompt = \"a person climbing up a rocky cliff on a rope\"\n",
        "image = pipe(prompt).images[0]\n",
        "image.save(\"output_image7.png\")"
      ],
      "metadata": {
        "id": "OyxLyX08ZQHn"
      },
      "execution_count": null,
      "outputs": []
    },
    {
      "cell_type": "code",
      "source": [
        "prompt = \"a little girl sitting in the grass with a rainbow in front of her\"\n",
        "image = pipe(prompt).images[0]\n",
        "image.save(\"output_image8.png\")"
      ],
      "metadata": {
        "id": "GnBCo9LOZQDM"
      },
      "execution_count": null,
      "outputs": []
    },
    {
      "cell_type": "code",
      "source": [
        "prompt = \"a dog running in the grass with a hose in front of it\"\n",
        "image = pipe(prompt).images[0]\n",
        "image.save(\"output_image9.png\")"
      ],
      "metadata": {
        "id": "4rdyN0bGZP9-"
      },
      "execution_count": null,
      "outputs": []
    },
    {
      "cell_type": "code",
      "source": [
        "prompt = \"a group of people riding a four wheeler in a field\"\n",
        "image = pipe(prompt).images[0]\n",
        "image.save(\"output_image10.png\")"
      ],
      "metadata": {
        "id": "Ws4Q_pwlZP6S"
      },
      "execution_count": null,
      "outputs": []
    },
    {
      "cell_type": "code",
      "source": [
        "prompt = \"two small dogs walking on a stone path in the woods with bushes in the background\"\n",
        "image = pipe(prompt).images[0]\n",
        "image.save(\"output_image11.png\")"
      ],
      "metadata": {
        "id": "XhHGKjgIZP1K"
      },
      "execution_count": null,
      "outputs": []
    },
    {
      "cell_type": "code",
      "source": [
        "prompt = \"a woman is sitting on a green bench with a cup of coffee\"\n",
        "image = pipe(prompt).images[0]\n",
        "image.save(\"output_image12.png\")"
      ],
      "metadata": {
        "id": "XHVJs2FGZPtm"
      },
      "execution_count": null,
      "outputs": []
    },
    {
      "cell_type": "code",
      "source": [
        "prompt = \"a man standing on top of a rock overlooking a valley\"\n",
        "image = pipe(prompt).images[0]\n",
        "image.save(\"output_image13.png\")"
      ],
      "metadata": {
        "id": "mI29tyTeZqDg"
      },
      "execution_count": null,
      "outputs": []
    },
    {
      "cell_type": "code",
      "source": [
        "prompt = \"a man in a green and yellow uniform with a towel on his head\"\n",
        "image = pipe(prompt).images[0]\n",
        "image.save(\"output_image14.png\")"
      ],
      "metadata": {
        "id": "vqAAmTWDZp9h"
      },
      "execution_count": null,
      "outputs": []
    }
  ]
}
