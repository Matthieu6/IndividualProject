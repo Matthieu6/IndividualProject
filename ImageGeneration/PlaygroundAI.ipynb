{
  "nbformat": 4,
  "nbformat_minor": 0,
  "metadata": {
    "colab": {
      "provenance": [],
      "collapsed_sections": [
        "axvbA1QTKSnL"
      ],
      "gpuType": "T4",
      "authorship_tag": "ABX9TyOyIWjNpzFZRTuyQsL/njOE",
      "include_colab_link": true
    },
    "kernelspec": {
      "name": "python3",
      "display_name": "Python 3"
    },
    "language_info": {
      "name": "python"
    },
    "accelerator": "GPU"
  },
  "cells": [
    {
      "cell_type": "markdown",
      "metadata": {
        "id": "view-in-github",
        "colab_type": "text"
      },
      "source": [
        "<a href=\"https://colab.research.google.com/github/Matthieu6/IndividualProject/blob/main/ImageGeneration/PlaygroundAI.ipynb\" target=\"_parent\"><img src=\"https://colab.research.google.com/assets/colab-badge.svg\" alt=\"Open In Colab\"/></a>"
      ]
    },
    {
      "cell_type": "markdown",
      "source": [
        "## Initiation"
      ],
      "metadata": {
        "id": "axvbA1QTKSnL"
      }
    },
    {
      "cell_type": "markdown",
      "source": [
        "This section installs the required extensions to run PlaygroundAI. Additionally it initiates the pipelines required for the model."
      ],
      "metadata": {
        "id": "RI0Ro83JnxhT"
      }
    },
    {
      "cell_type": "code",
      "execution_count": null,
      "metadata": {
        "id": "oq9i0uBGFqyz"
      },
      "outputs": [],
      "source": [
        "!pip install git+https://github.com/huggingface/diffusers.git\n",
        "!pip install transformers accelerate safetensors\n"
      ]
    },
    {
      "cell_type": "code",
      "source": [
        "from diffusers import DiffusionPipeline\n",
        "import torch\n",
        "\n",
        "pipe = DiffusionPipeline.from_pretrained(\n",
        "    \"playgroundai/playground-v2.5-1024px-aesthetic\",\n",
        "    torch_dtype=torch.float16,\n",
        "    variant=\"fp16\",\n",
        ").to(\"cuda\")\n",
        "\n",
        "# # Optional: Use DPM++ 2M Karras scheduler for crisper fine details\n",
        "# from diffusers import EDMDPMSolverMultistepScheduler\n",
        "# pipe.scheduler = EDMDPMSolverMultistepScheduler()\n",
        "\n"
      ],
      "metadata": {
        "id": "QiTMoiG-F2xa"
      },
      "execution_count": null,
      "outputs": []
    },
    {
      "cell_type": "markdown",
      "source": [
        "## Code"
      ],
      "metadata": {
        "id": "QBesE_RPKPQF"
      }
    },
    {
      "cell_type": "markdown",
      "source": [
        "Code outputing 14 images using PlaygroundAI. Each image is generated from input captions created from the BLIP-2 image captioning model.\n"
      ],
      "metadata": {
        "id": "D38O7ZzAn14t"
      }
    },
    {
      "cell_type": "code",
      "source": [
        "\n",
        "prompt = \"a woman paddling a canoe in a body of water\"\n",
        "image = pipe(prompt=prompt, num_inference_steps=50, guidance_scale=3).images[0]\n",
        "image.save(\"output_image1.png\")"
      ],
      "metadata": {
        "id": "_r_AjmWRGmbf"
      },
      "execution_count": null,
      "outputs": []
    },
    {
      "cell_type": "code",
      "source": [
        "prompt = \"a group of people skiing down a snowy hill on skis\"\n",
        "image = pipe(prompt=prompt, num_inference_steps=50, guidance_scale=3).images[0]\n",
        "image.save(\"output_image2.png\")"
      ],
      "metadata": {
        "id": "Ah25DEihKg13"
      },
      "execution_count": null,
      "outputs": []
    },
    {
      "cell_type": "code",
      "source": [
        "prompt = \"a man is paddling a canoe down a river\"\n",
        "image = pipe(prompt=prompt, num_inference_steps=50, guidance_scale=3).images[0]\n",
        "image.save(\"output_image3.png\")"
      ],
      "metadata": {
        "id": "QKfLDoCwKq54"
      },
      "execution_count": null,
      "outputs": []
    },
    {
      "cell_type": "code",
      "source": [
        "prompt = \"a group of people sitting on a cliff overlooking a river\"\n",
        "image = pipe(prompt=prompt, num_inference_steps=50, guidance_scale=3).images[0]\n",
        "image.save(\"output_image4.png\")"
      ],
      "metadata": {
        "id": "Fh-zFx73Kukc"
      },
      "execution_count": null,
      "outputs": []
    },
    {
      "cell_type": "code",
      "source": [
        "prompt = \"a man and a woman sitting on the back of a car\"\n",
        "image = pipe(prompt=prompt, num_inference_steps=50, guidance_scale=3).images[0]\n",
        "image.save(\"output_image5.png\")"
      ],
      "metadata": {
        "id": "d_qjgrThKubm"
      },
      "execution_count": null,
      "outputs": []
    },
    {
      "cell_type": "code",
      "source": [
        "prompt = \"a man on a motorcycle is leaning around a corner\"\n",
        "image = pipe(prompt=prompt, num_inference_steps=50, guidance_scale=3).images[0]\n",
        "image.save(\"output_image6.png\")"
      ],
      "metadata": {
        "id": "ISjpfxz-KuTP"
      },
      "execution_count": null,
      "outputs": []
    },
    {
      "cell_type": "code",
      "source": [
        "prompt = \"a person climbing up a rocky cliff on a rope\"\n",
        "image = pipe(prompt=prompt, num_inference_steps=50, guidance_scale=3).images[0]\n",
        "image.save(\"output_image7.png\")"
      ],
      "metadata": {
        "id": "SCugUYKiKuLa"
      },
      "execution_count": null,
      "outputs": []
    },
    {
      "cell_type": "code",
      "source": [
        "prompt = \"a little girl sitting in the grass with a rainbow in front of her\"\n",
        "image = pipe(prompt=prompt, num_inference_steps=50, guidance_scale=3).images[0]\n",
        "image.save(\"output_image8.png\")"
      ],
      "metadata": {
        "id": "MO__we8mKuD4"
      },
      "execution_count": null,
      "outputs": []
    },
    {
      "cell_type": "code",
      "source": [
        "prompt = \"a dog running in the grass with a hose in front of it\"\n",
        "image = pipe(prompt=prompt, num_inference_steps=50, guidance_scale=3).images[0]\n",
        "image.save(\"output_image9.png\")"
      ],
      "metadata": {
        "id": "B2cob15RKt8l"
      },
      "execution_count": null,
      "outputs": []
    },
    {
      "cell_type": "code",
      "source": [
        "prompt = \"a group of people riding a four wheeler in a field\"\n",
        "image = pipe(prompt=prompt, num_inference_steps=50, guidance_scale=3).images[0]\n",
        "image.save(\"output_image10.png\")"
      ],
      "metadata": {
        "id": "RsjGPgz2Kt1B"
      },
      "execution_count": null,
      "outputs": []
    },
    {
      "cell_type": "code",
      "source": [
        "prompt = \"two small dogs walking on a stone path in the woods with bushes in the background\"\n",
        "image = pipe(prompt=prompt, num_inference_steps=50, guidance_scale=3).images[0]\n",
        "image.save(\"output_image11.png\")"
      ],
      "metadata": {
        "id": "fkeiKpC2Kttf"
      },
      "execution_count": null,
      "outputs": []
    },
    {
      "cell_type": "code",
      "source": [
        "prompt = \"a woman is sitting on a green bench with a cup of coffee\"\n",
        "image = pipe(prompt=prompt, num_inference_steps=50, guidance_scale=3).images[0]\n",
        "image.save(\"output_image12.png\")"
      ],
      "metadata": {
        "id": "eIK4ZyHdKtla"
      },
      "execution_count": null,
      "outputs": []
    },
    {
      "cell_type": "code",
      "source": [
        "prompt = \"a man standing on top of a rock overlooking a valley\"\n",
        "image = pipe(prompt=prompt, num_inference_steps=50, guidance_scale=3).images[0]\n",
        "image.save(\"output_image13.png\")"
      ],
      "metadata": {
        "id": "AGulchabKtcT"
      },
      "execution_count": null,
      "outputs": []
    },
    {
      "cell_type": "code",
      "source": [
        "prompt = \"a man in a green and yellow uniform with a towel on his head\"\n",
        "image = pipe(prompt=prompt, num_inference_steps=50, guidance_scale=3).images[0]\n",
        "image.save(\"output_image14.png\")"
      ],
      "metadata": {
        "id": "rfJf828WKtUO"
      },
      "execution_count": null,
      "outputs": []
    }
  ]
}