{
  "nbformat": 4,
  "nbformat_minor": 0,
  "metadata": {
    "colab": {
      "provenance": [],
      "collapsed_sections": [
        "_b0wxTpYQ8bl",
        "M6Hta-IiQ6UZ"
      ],
      "machine_shape": "hm",
      "gpuType": "T4",
      "authorship_tag": "ABX9TyOLF92BjVsJ2KHb+FF2Pyj1",
      "include_colab_link": true
    },
    "kernelspec": {
      "name": "python3",
      "display_name": "Python 3"
    },
    "language_info": {
      "name": "python"
    },
    "accelerator": "GPU"
  },
  "cells": [
    {
      "cell_type": "markdown",
      "metadata": {
        "id": "view-in-github",
        "colab_type": "text"
      },
      "source": [
        "<a href=\"https://colab.research.google.com/github/Matthieu6/IndividualProject/blob/main/ImageGeneration/StableCascade.ipynb\" target=\"_parent\"><img src=\"https://colab.research.google.com/assets/colab-badge.svg\" alt=\"Open In Colab\"/></a>"
      ]
    },
    {
      "cell_type": "markdown",
      "source": [
        "## Initiation"
      ],
      "metadata": {
        "id": "_b0wxTpYQ8bl"
      }
    },
    {
      "cell_type": "markdown",
      "source": [
        "This section installs the required extensions to run the Stable Cascade. Additionally it initiates the pipelines required for the model.\n"
      ],
      "metadata": {
        "id": "NvwzgJkhnLqW"
      }
    },
    {
      "cell_type": "code",
      "execution_count": null,
      "metadata": {
        "id": "TAt89GCWDhzt"
      },
      "outputs": [],
      "source": [
        "!pip install transformers accelerate git+https://github.com/kashif/diffusers.git@a3dc21385b7386beb3dab3a9845962ede6765887"
      ]
    },
    {
      "cell_type": "code",
      "source": [
        "import torch\n",
        "from diffusers import StableCascadeDecoderPipeline, StableCascadePriorPipeline\n",
        "\n",
        "torch.backends.cuda.enable_mem_efficient_sdp(False)\n",
        "torch.backends.cuda.enable_flash_sdp(False)\n",
        "\n",
        "device = \"cuda\"\n",
        "num_images_per_prompt = 1\n",
        "\n",
        "prior = StableCascadePriorPipeline.from_pretrained(\"stabilityai/stable-cascade-prior\",\n",
        "                                                    torch_dtype=torch.bfloat16).to(device)\n",
        "decoder = StableCascadeDecoderPipeline.from_pretrained(\"stabilityai/stable-cascade\",\n",
        "                                                       torch_dtype=torch.float16).to(device)\n"
      ],
      "metadata": {
        "id": "9aTmz96EDk5u"
      },
      "execution_count": null,
      "outputs": []
    },
    {
      "cell_type": "markdown",
      "source": [
        "# Code"
      ],
      "metadata": {
        "id": "M6Hta-IiQ6UZ"
      }
    },
    {
      "cell_type": "markdown",
      "source": [
        "Code outputing 14 images using Stable Cascade. Each image is generated from input captions created from the BLIP-2 image captioning model."
      ],
      "metadata": {
        "id": "h7BRPyMKnShd"
      }
    },
    {
      "cell_type": "code",
      "source": [
        "prompt = \"a woman paddling a canoe in a body of water\"\n",
        "negative_prompt = \"\"\n",
        "\n",
        "prior_output = prior(\n",
        "    prompt=prompt,\n",
        "    height=1024,\n",
        "    width=1024,\n",
        "    negative_prompt=negative_prompt,\n",
        "    guidance_scale=4.0,\n",
        "    num_images_per_prompt=num_images_per_prompt,\n",
        "    num_inference_steps=20\n",
        ")\n",
        "decoder_output = decoder(\n",
        "    image_embeddings=prior_output.image_embeddings.half(),\n",
        "    prompt=prompt,\n",
        "    negative_prompt=negative_prompt,\n",
        "    guidance_scale=0.0,\n",
        "    output_type=\"pil\",\n",
        "    num_inference_steps=10\n",
        ").images\n",
        "\n",
        "#Now decoder_output is a list with your PIL images\n",
        "\n",
        "display(decoder_output[0])\n",
        "decoder_output[0].save(\"output_image1.png\")\n"
      ],
      "metadata": {
        "id": "h3Jc3kbzDpKu"
      },
      "execution_count": null,
      "outputs": []
    },
    {
      "cell_type": "code",
      "source": [
        "prompt = \"a group of people skiing down a snowy hill on skis\"\n",
        "negative_prompt = \"\"\n",
        "\n",
        "prior_output = prior(\n",
        "    prompt=prompt,\n",
        "    height=1024,\n",
        "    width=1024,\n",
        "    negative_prompt=negative_prompt,\n",
        "    guidance_scale=4.0,\n",
        "    num_images_per_prompt=num_images_per_prompt,\n",
        "    num_inference_steps=20\n",
        ")\n",
        "decoder_output = decoder(\n",
        "    image_embeddings=prior_output.image_embeddings.half(),\n",
        "    prompt=prompt,\n",
        "    negative_prompt=negative_prompt,\n",
        "    guidance_scale=0.0,\n",
        "    output_type=\"pil\",\n",
        "    num_inference_steps=10\n",
        ").images\n",
        "\n",
        "#Now decoder_output is a list with your PIL images\n",
        "\n",
        "display(decoder_output[0])\n",
        "decoder_output[0].save(\"output_image2.png\")"
      ],
      "metadata": {
        "id": "2dkLpTHzRQB_"
      },
      "execution_count": null,
      "outputs": []
    },
    {
      "cell_type": "code",
      "source": [
        "prompt = \"a man is paddling a canoe down a river\"\n",
        "negative_prompt = \"\"\n",
        "\n",
        "prior_output = prior(\n",
        "    prompt=prompt,\n",
        "    height=1024,\n",
        "    width=1024,\n",
        "    negative_prompt=negative_prompt,\n",
        "    guidance_scale=4.0,\n",
        "    num_images_per_prompt=num_images_per_prompt,\n",
        "    num_inference_steps=20\n",
        ")\n",
        "decoder_output = decoder(\n",
        "    image_embeddings=prior_output.image_embeddings.half(),\n",
        "    prompt=prompt,\n",
        "    negative_prompt=negative_prompt,\n",
        "    guidance_scale=0.0,\n",
        "    output_type=\"pil\",\n",
        "    num_inference_steps=10\n",
        ").images\n",
        "\n",
        "#Now decoder_output is a list with your PIL images\n",
        "\n",
        "display(decoder_output[0])\n",
        "decoder_output[0].save(\"output_image3.png\")"
      ],
      "metadata": {
        "id": "GUKzCdVwTVrJ"
      },
      "execution_count": null,
      "outputs": []
    },
    {
      "cell_type": "code",
      "source": [
        "prompt = \"a group of people sitting on a cliff overlooking a river\"\n",
        "negative_prompt = \"\"\n",
        "\n",
        "prior_output = prior(\n",
        "    prompt=prompt,\n",
        "    height=1024,\n",
        "    width=1024,\n",
        "    negative_prompt=negative_prompt,\n",
        "    guidance_scale=4.0,\n",
        "    num_images_per_prompt=num_images_per_prompt,\n",
        "    num_inference_steps=20\n",
        ")\n",
        "decoder_output = decoder(\n",
        "    image_embeddings=prior_output.image_embeddings.half(),\n",
        "    prompt=prompt,\n",
        "    negative_prompt=negative_prompt,\n",
        "    guidance_scale=0.0,\n",
        "    output_type=\"pil\",\n",
        "    num_inference_steps=10\n",
        ").images\n",
        "\n",
        "#Now decoder_output is a list with your PIL images\n",
        "\n",
        "display(decoder_output[0])\n",
        "decoder_output[0].save(\"output_image4.png\")"
      ],
      "metadata": {
        "id": "Srdle0r0TW23"
      },
      "execution_count": null,
      "outputs": []
    },
    {
      "cell_type": "code",
      "source": [
        "prompt = \"a man and a woman sitting on the back of a car\"\n",
        "negative_prompt = \"\"\n",
        "\n",
        "prior_output = prior(\n",
        "    prompt=prompt,\n",
        "    height=1024,\n",
        "    width=1024,\n",
        "    negative_prompt=negative_prompt,\n",
        "    guidance_scale=4.0,\n",
        "    num_images_per_prompt=num_images_per_prompt,\n",
        "    num_inference_steps=20\n",
        ")\n",
        "decoder_output = decoder(\n",
        "    image_embeddings=prior_output.image_embeddings.half(),\n",
        "    prompt=prompt,\n",
        "    negative_prompt=negative_prompt,\n",
        "    guidance_scale=0.0,\n",
        "    output_type=\"pil\",\n",
        "    num_inference_steps=10\n",
        ").images\n",
        "\n",
        "#Now decoder_output is a list with your PIL images\n",
        "\n",
        "display(decoder_output[0])\n",
        "decoder_output[0].save(\"output_image5.png\")"
      ],
      "metadata": {
        "id": "g7A4_iznTX15"
      },
      "execution_count": null,
      "outputs": []
    },
    {
      "cell_type": "code",
      "source": [
        "prompt = \"a man on a motorcycle is leaning around a corner\"\n",
        "negative_prompt = \"\"\n",
        "\n",
        "prior_output = prior(\n",
        "    prompt=prompt,\n",
        "    height=1024,\n",
        "    width=1024,\n",
        "    negative_prompt=negative_prompt,\n",
        "    guidance_scale=4.0,\n",
        "    num_images_per_prompt=num_images_per_prompt,\n",
        "    num_inference_steps=20\n",
        ")\n",
        "decoder_output = decoder(\n",
        "    image_embeddings=prior_output.image_embeddings.half(),\n",
        "    prompt=prompt,\n",
        "    negative_prompt=negative_prompt,\n",
        "    guidance_scale=0.0,\n",
        "    output_type=\"pil\",\n",
        "    num_inference_steps=10\n",
        ").images\n",
        "\n",
        "#Now decoder_output is a list with your PIL images\n",
        "\n",
        "display(decoder_output[0])\n",
        "decoder_output[0].save(\"output_image6.png\")"
      ],
      "metadata": {
        "id": "ifhHRmYHTY2x"
      },
      "execution_count": null,
      "outputs": []
    },
    {
      "cell_type": "code",
      "source": [
        "prompt = \"a person climbing up a rocky cliff on a rope\"\n",
        "negative_prompt = \"\"\n",
        "\n",
        "prior_output = prior(\n",
        "    prompt=prompt,\n",
        "    height=1024,\n",
        "    width=1024,\n",
        "    negative_prompt=negative_prompt,\n",
        "    guidance_scale=4.0,\n",
        "    num_images_per_prompt=num_images_per_prompt,\n",
        "    num_inference_steps=20\n",
        ")\n",
        "decoder_output = decoder(\n",
        "    image_embeddings=prior_output.image_embeddings.half(),\n",
        "    prompt=prompt,\n",
        "    negative_prompt=negative_prompt,\n",
        "    guidance_scale=0.0,\n",
        "    output_type=\"pil\",\n",
        "    num_inference_steps=10\n",
        ").images\n",
        "\n",
        "#Now decoder_output is a list with your PIL images\n",
        "\n",
        "display(decoder_output[0])\n",
        "decoder_output[0].save(\"output_image7.png\")"
      ],
      "metadata": {
        "id": "_AMAG9qoTacQ"
      },
      "execution_count": null,
      "outputs": []
    },
    {
      "cell_type": "code",
      "source": [
        "prompt = \"a little girl sitting in the grass with a rainbow in front of her\"\n",
        "negative_prompt = \"\"\n",
        "\n",
        "prior_output = prior(\n",
        "    prompt=prompt,\n",
        "    height=1024,\n",
        "    width=1024,\n",
        "    negative_prompt=negative_prompt,\n",
        "    guidance_scale=4.0,\n",
        "    num_images_per_prompt=num_images_per_prompt,\n",
        "    num_inference_steps=20\n",
        ")\n",
        "decoder_output = decoder(\n",
        "    image_embeddings=prior_output.image_embeddings.half(),\n",
        "    prompt=prompt,\n",
        "    negative_prompt=negative_prompt,\n",
        "    guidance_scale=0.0,\n",
        "    output_type=\"pil\",\n",
        "    num_inference_steps=10\n",
        ").images\n",
        "\n",
        "#Now decoder_output is a list with your PIL images\n",
        "\n",
        "display(decoder_output[0])\n",
        "decoder_output[0].save(\"output_image8.png\")"
      ],
      "metadata": {
        "id": "-syXeRxWTbh5"
      },
      "execution_count": null,
      "outputs": []
    },
    {
      "cell_type": "code",
      "source": [
        "prompt = \"a dog running in the grass with a hose in front of it\"\n",
        "negative_prompt = \"\"\n",
        "\n",
        "prior_output = prior(\n",
        "    prompt=prompt,\n",
        "    height=1024,\n",
        "    width=1024,\n",
        "    negative_prompt=negative_prompt,\n",
        "    guidance_scale=4.0,\n",
        "    num_images_per_prompt=num_images_per_prompt,\n",
        "    num_inference_steps=20\n",
        ")\n",
        "decoder_output = decoder(\n",
        "    image_embeddings=prior_output.image_embeddings.half(),\n",
        "    prompt=prompt,\n",
        "    negative_prompt=negative_prompt,\n",
        "    guidance_scale=0.0,\n",
        "    output_type=\"pil\",\n",
        "    num_inference_steps=10\n",
        ").images\n",
        "\n",
        "#Now decoder_output is a list with your PIL images\n",
        "\n",
        "display(decoder_output[0])\n",
        "decoder_output[0].save(\"output_image9.png\")"
      ],
      "metadata": {
        "id": "DLvcdJYfTcgM"
      },
      "execution_count": null,
      "outputs": []
    },
    {
      "cell_type": "code",
      "source": [
        "prompt = \"a group of people riding a four wheeler in a field\"\n",
        "negative_prompt = \"\"\n",
        "\n",
        "prior_output = prior(\n",
        "    prompt=prompt,\n",
        "    height=1024,\n",
        "    width=1024,\n",
        "    negative_prompt=negative_prompt,\n",
        "    guidance_scale=4.0,\n",
        "    num_images_per_prompt=num_images_per_prompt,\n",
        "    num_inference_steps=20\n",
        ")\n",
        "decoder_output = decoder(\n",
        "    image_embeddings=prior_output.image_embeddings.half(),\n",
        "    prompt=prompt,\n",
        "    negative_prompt=negative_prompt,\n",
        "    guidance_scale=0.0,\n",
        "    output_type=\"pil\",\n",
        "    num_inference_steps=10\n",
        ").images\n",
        "\n",
        "#Now decoder_output is a list with your PIL images\n",
        "\n",
        "display(decoder_output[0])\n",
        "decoder_output[0].save(\"output_image10.png\")"
      ],
      "metadata": {
        "id": "FWZptcgiTdj5"
      },
      "execution_count": null,
      "outputs": []
    },
    {
      "cell_type": "code",
      "source": [
        "prompt = \"two small dogs walking on a stone path in the woods with bushes in the background\"\n",
        "negative_prompt = \"\"\n",
        "\n",
        "prior_output = prior(\n",
        "    prompt=prompt,\n",
        "    height=1024,\n",
        "    width=1024,\n",
        "    negative_prompt=negative_prompt,\n",
        "    guidance_scale=4.0,\n",
        "    num_images_per_prompt=num_images_per_prompt,\n",
        "    num_inference_steps=20\n",
        ")\n",
        "decoder_output = decoder(\n",
        "    image_embeddings=prior_output.image_embeddings.half(),\n",
        "    prompt=prompt,\n",
        "    negative_prompt=negative_prompt,\n",
        "    guidance_scale=0.0,\n",
        "    output_type=\"pil\",\n",
        "    num_inference_steps=10\n",
        ").images\n",
        "\n",
        "#Now decoder_output is a list with your PIL images\n",
        "\n",
        "display(decoder_output[0])\n",
        "decoder_output[0].save(\"output_image11.png\")"
      ],
      "metadata": {
        "id": "AFfDfawfTfAf"
      },
      "execution_count": null,
      "outputs": []
    },
    {
      "cell_type": "code",
      "source": [
        "prompt = \"a woman is sitting on a green bench with a cup of coffee\"\n",
        "negative_prompt = \"\"\n",
        "\n",
        "prior_output = prior(\n",
        "    prompt=prompt,\n",
        "    height=1024,\n",
        "    width=1024,\n",
        "    negative_prompt=negative_prompt,\n",
        "    guidance_scale=4.0,\n",
        "    num_images_per_prompt=num_images_per_prompt,\n",
        "    num_inference_steps=20\n",
        ")\n",
        "decoder_output = decoder(\n",
        "    image_embeddings=prior_output.image_embeddings.half(),\n",
        "    prompt=prompt,\n",
        "    negative_prompt=negative_prompt,\n",
        "    guidance_scale=0.0,\n",
        "    output_type=\"pil\",\n",
        "    num_inference_steps=10\n",
        ").images\n",
        "\n",
        "#Now decoder_output is a list with your PIL images\n",
        "\n",
        "display(decoder_output[0])\n",
        "decoder_output[0].save(\"output_image12.png\")"
      ],
      "metadata": {
        "id": "3eKpOAnxTgLf"
      },
      "execution_count": null,
      "outputs": []
    },
    {
      "cell_type": "code",
      "source": [
        "prompt = \"a man standing on top of a rock overlooking a valley\"\n",
        "negative_prompt = \"\"\n",
        "\n",
        "prior_output = prior(\n",
        "    prompt=prompt,\n",
        "    height=1024,\n",
        "    width=1024,\n",
        "    negative_prompt=negative_prompt,\n",
        "    guidance_scale=4.0,\n",
        "    num_images_per_prompt=num_images_per_prompt,\n",
        "    num_inference_steps=20\n",
        ")\n",
        "decoder_output = decoder(\n",
        "    image_embeddings=prior_output.image_embeddings.half(),\n",
        "    prompt=prompt,\n",
        "    negative_prompt=negative_prompt,\n",
        "    guidance_scale=0.0,\n",
        "    output_type=\"pil\",\n",
        "    num_inference_steps=10\n",
        ").images\n",
        "\n",
        "#Now decoder_output is a list with your PIL images\n",
        "\n",
        "display(decoder_output[0])\n",
        "decoder_output[0].save(\"output_image13.png\")"
      ],
      "metadata": {
        "id": "QFJ3ws2SThMV"
      },
      "execution_count": null,
      "outputs": []
    },
    {
      "cell_type": "code",
      "source": [
        "prompt = \"a man in a green and yellow uniform with a towel on his head\"\n",
        "negative_prompt = \"\"\n",
        "\n",
        "prior_output = prior(\n",
        "    prompt=prompt,\n",
        "    height=1024,\n",
        "    width=1024,\n",
        "    negative_prompt=negative_prompt,\n",
        "    guidance_scale=4.0,\n",
        "    num_images_per_prompt=num_images_per_prompt,\n",
        "    num_inference_steps=20\n",
        ")\n",
        "decoder_output = decoder(\n",
        "    image_embeddings=prior_output.image_embeddings.half(),\n",
        "    prompt=prompt,\n",
        "    negative_prompt=negative_prompt,\n",
        "    guidance_scale=0.0,\n",
        "    output_type=\"pil\",\n",
        "    num_inference_steps=10\n",
        ").images\n",
        "\n",
        "#Now decoder_output is a list with your PIL images\n",
        "\n",
        "display(decoder_output[0])\n",
        "decoder_output[0].save(\"output_image14.png\")"
      ],
      "metadata": {
        "id": "2Cp1fRY3TiIf"
      },
      "execution_count": null,
      "outputs": []
    }
  ]
}